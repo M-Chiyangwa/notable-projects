{
 "cells": [
  {
   "cell_type": "markdown",
   "metadata": {},
   "source": [
    "14 October 2024 <br>\n",
    "Mufarowashe Chiyangwa <br>\n",
    "ST10261507 <br>\n",
    "PDAN8412w\n",
    "<br>\n",
    "<br>\n",
    "<br>\n",
    "<br>\n",
    "# POE Task 2 - Applying logistic regression from scratch\n",
    "<br>\n",
    "\n",
    "## 1. What is logistic regression?\n",
    "\n",
    "Logistic regression is a data analysis technique that finds the relationship between input variables and an output variable using statistical and probabilistic mathematics, then uses this relationship to predict the output variable. The predicted output usually has a “finite number of outcomes, like yes or no” (Amazon Web Services, 2024).\n",
    "\n",
    "Advantages of logistic regression:\n",
    "- Simplicity: logistic regression models are less complex and easier to understand as compared to most machine learning models, so they can be implemented in an environment where not all stakeholders have a data science/mathematical/statistical expertise (Amazon Web Services, 2024).\n",
    "- Speed: logistic regression models don't require a lot of computational capacity because of their relative mathematical simplicity so they can process data at a faster rate (Amazon Web Services, 2024).\n",
    "- Flexibility: logistic regression isn't only suitable for predicting binary outcomes, but can also be used for tasks like preprocessing data (Amazon Web Services, 2024).\n",
    "\n",
    "How the logistic regression model works:\n",
    "The backend mathematical function of a logistic regression model is a logistic (or logit) function, which maps x (input variable) onto a sigmoid function to get  y (output variable), which is between 0 and 1 (Amazon Web Services, 2024). To turn this output (between 0 and 1) into a binary output (0 or 1), a threshold is set to decide whether output y either becomes 0 or 1. For example, if the threshold is 0.5 and y is calculated as 0.65, y will be outputted as 1. Similarly, if y is calculated as 0.3, y will be outputted as 0.\n",
    "\n",
    "Types of logistic regression:\n",
    "- Binary: the output (y) can only have two possible values/classes (Amazon Web Services, 2024).\n",
    "- Multinomial: the output (y) can consist of several classes, as long as they are finite (Amazon Web Services, 2024).\n",
    "- Ordinal: a type of multinomial logistic regression where the values/classes represent ranks (Amazon Web Services, 2024). For example, using ordinal logistic regression to predict answers on a survey that sought to find whether the service in a restaurant was poor, average or good, with these ranks being represented numerically.\n",
    "<br>\n",
    "\n",
    "## 2. What data set was chosen an why is it appropriate for analysis with logistic regression?\n",
    "\n",
    "The chosen data set is a customer churn data set found on Kaggle, consisting of over 400 000 entries. The data set can be accessed using the following link: https://www.kaggle.com/datasets/muhammadshahidazeem/customer-churn-dataset\n",
    "\n",
    "The data set consists of 2 CSV files: 'customer_churn_dataset-training-master.csv' and 'customer_churn_dataset-testing-master.csv'. The one we are interested in using is 'customer_churn_dataset-training-master.csv'. The following are the unique attributes of the file:\n",
    "\n",
    "- CustomerID (numerical)\n",
    "- Age (numerical)\n",
    "- Gender (categorical)\n",
    "- Tenure (numerical)\n",
    "- Usage Frequency (numerical)\n",
    "- Support Calls (numerical)\n",
    "- Payment Delay (numerical)\n",
    "- Subscription Type (categorical)\n",
    "- Contract Length (categorical)\n",
    "- Total Spend (numerical)\n",
    "- Last Interaction (numerical)\n",
    "\n",
    "Target description:\n",
    "- Churn: Target - 1 for churned customers; 0 for non-churned customers\n",
    "<br>\n",
    "\n",
    "The data set needs to adhere to the following criteria in order to be appropriate for analysis with logistic regression:\n",
    "- Categorical target: the target variable of the dataset must be a discrete, categorical variable with mutually exclusive classes in order for classification with logistic regression to be undertaken on the data set.\n",
    "- Data cleaning: it is important to clean data before analysis because sub-par data quality will affect the results of the analysis (Career Foundry, 2023).\n",
    "- Balanced data: imbalanced data can skew the results of the performance metrics for classification, affecting their validity. A balanced data set ensures that the classifiation model is not \"biased towards one class\" (Medium, 2023), particularly the majority class, thus preserving the validity of the results obtained from the classification metrics.\n",
    "- Independent features/little to no multicollinearity: multicollinearity refers to “the occurrence of high intercorrelations among two or more independent variables” (Investopedia, 2024), which can lead to “skewed or misleading results” (Investopedia, 2024) when one tries to determine how well a particular independent variable predicts the dependent variable. Little to no multicollinearity must exist between independent variables in a data set for it to be suitable for classification with logistic regression.\n",
    "\n",
    "Disclaimer: the chosen data set does not yet completely adhere to the above criteria, but will adhere to it after the sections where data cleaning and exploration are undertaken. \n",
    "<br>\n",
    "\n",
    "## 3. Explanation of the analysis that will be conducted on the data set\n",
    "\n",
    "We seek to conduct a classification analysis on the customer churn dataset in order to see how well we can predict whether or not a customer will churn using logistic regression (customer churn refers to customers who stopped purchasing your business's products or services during a certain period of time).\n",
    "\n",
    "Objectives of the analysis:\n",
    "- Conduct a thorough data cleaning and exploratory data analysis before using the data for model training purposes.\n",
    "- Build a functioning logistic regression class from scratch.\n",
    "- Train the logistic regression model onto the data (apply model improvement techniques where necessary).\n",
    "- Calculate, interpret and understand our model evaluation metrics regarding the logistic regression model's classification capabilities.\n",
    "<br>\n",
    "\n",
    "## 4. The data analysis process\n",
    "\n",
    "The various python libraries that are going to be required for the analysis are as follows:"
   ]
  },
  {
   "cell_type": "code",
   "execution_count": 94,
   "metadata": {},
   "outputs": [],
   "source": [
    "# Import necessary packages\n",
    "\n",
    "# general\n",
    "import pandas as pd\n",
    "import numpy as np\n",
    "import matplotlib.pyplot as plt\n",
    "import seaborn as sns\n",
    "from imblearn.over_sampling import SMOTENC\n",
    "from sklearn.preprocessing import OneHotEncoder, OrdinalEncoder\n",
    "from sklearn.model_selection import train_test_split, GridSearchCV\n",
    "from sklearn.feature_selection import chi2\n",
    "from sklearn.preprocessing import StandardScaler\n",
    "import statistics\n",
    "import random\n",
    "from sklearn.metrics import classification_report, confusion_matrix, f1_score, roc_curve, auc, roc_auc_score\n",
    "\n",
    "# Spark\n",
    "from pyspark import SparkConf\n",
    "from pyspark import SparkContext\n",
    "from pyspark.sql import SQLContext\n",
    "from pyspark.sql import SparkSession\n",
    "from pyspark.sql.types import *\n",
    "from pyspark.sql.functions import length, col, trim, when, sum"
   ]
  },
  {
   "cell_type": "markdown",
   "metadata": {},
   "source": [
    "### 4.1. Kickstarting Spark Session\n",
    "\n",
    "Because the data set we are going to be working with is quite hefty, we will have to do the data cleaning with Spark, which is an open source computing framework made for \"large-scale data processing\" (Domino Data Lab, 2024). PySpark is the Python interface or API for Spark. \n",
    "\n",
    "We begin by configuring our PySpark session:"
   ]
  },
  {
   "cell_type": "code",
   "execution_count": 97,
   "metadata": {},
   "outputs": [],
   "source": [
    "# Configuring Spark Session (rename object)\n",
    "conf_spark = SparkConf().set(\"spark.driver.host\", \"127.0.0.1\")\n",
    "sc = SparkContext(conf=conf_spark)"
   ]
  },
  {
   "cell_type": "markdown",
   "metadata": {},
   "source": [
    "Next, we start our PySpark session then we're ready to go!"
   ]
  },
  {
   "cell_type": "code",
   "execution_count": 98,
   "metadata": {},
   "outputs": [
    {
     "data": {
      "text/html": [
       "\n",
       "            <div>\n",
       "                <p><b>SparkSession - in-memory</b></p>\n",
       "                \n",
       "        <div>\n",
       "            <p><b>SparkContext</b></p>\n",
       "\n",
       "            <p><a href=\"http://127.0.0.1:4040\">Spark UI</a></p>\n",
       "\n",
       "            <dl>\n",
       "              <dt>Version</dt>\n",
       "                <dd><code>v3.3.2</code></dd>\n",
       "              <dt>Master</dt>\n",
       "                <dd><code>local[*]</code></dd>\n",
       "              <dt>AppName</dt>\n",
       "                <dd><code>pyspark-shell</code></dd>\n",
       "            </dl>\n",
       "        </div>\n",
       "        \n",
       "            </div>\n",
       "        "
      ],
      "text/plain": [
       "<pyspark.sql.session.SparkSession at 0x7fa086f35970>"
      ]
     },
     "execution_count": 98,
     "metadata": {},
     "output_type": "execute_result"
    }
   ],
   "source": [
    "# Starting Spark session\n",
    "spark = SparkSession.builder.appName(\"Customer Churn Logreg\").getOrCreate()\n",
    "spark"
   ]
  },
  {
   "cell_type": "markdown",
   "metadata": {},
   "source": [
    "### 4.2. Data importation and cleaning\n",
    "\n",
    "To start off, we pull our data in from Kaggle using the following API command:"
   ]
  },
  {
   "cell_type": "code",
   "execution_count": 99,
   "metadata": {},
   "outputs": [
    {
     "name": "stdout",
     "output_type": "stream",
     "text": [
      "Warning: Your Kaggle API key is readable by other users on this system! To fix this, you can run 'chmod 600 /home/lab_services_student/.kaggle/kaggle.json'\n",
      "Dataset URL: https://www.kaggle.com/datasets/muhammadshahidazeem/customer-churn-dataset\n",
      "License(s): GPL-2.0\n",
      "customer-churn-dataset.zip: Skipping, found more recently modified local copy (use --force to force download)\n"
     ]
    }
   ],
   "source": [
    "# pull in dataset using kaggle dataset API\n",
    "!kaggle datasets download -d muhammadshahidazeem/customer-churn-dataset"
   ]
  },
  {
   "cell_type": "markdown",
   "metadata": {},
   "source": [
    "Next, we unzip our dataset."
   ]
  },
  {
   "cell_type": "code",
   "execution_count": 100,
   "metadata": {},
   "outputs": [
    {
     "name": "stdout",
     "output_type": "stream",
     "text": [
      "Archive:  customer-churn-dataset.zip\n",
      "replace customer_churn_dataset-testing-master.csv? [y]es, [n]o, [A]ll, [N]one, [r]ename: ^C\n"
     ]
    }
   ],
   "source": [
    "# unzip dataset\n",
    "!unzip customer-churn-dataset"
   ]
  },
  {
   "cell_type": "markdown",
   "metadata": {},
   "source": [
    "Now, we set a path through which our desired file can be read."
   ]
  },
  {
   "cell_type": "code",
   "execution_count": 101,
   "metadata": {},
   "outputs": [],
   "source": [
    "# set path directory with which dataset will be read\n",
    "# we're only reading in the 'customer_churn_dataset-training-master.csv' file\n",
    "path = ['/home/lab_services_student/customer_churn_dataset-training-master.csv']"
   ]
  },
  {
   "cell_type": "markdown",
   "metadata": {},
   "source": [
    "Now we can use PySpark's read.csv() method to import our data set, then preview it with the show() method."
   ]
  },
  {
   "cell_type": "code",
   "execution_count": 102,
   "metadata": {},
   "outputs": [
    {
     "name": "stdout",
     "output_type": "stream",
     "text": [
      "+----------+---+------+------+---------------+-------------+-------------+-----------------+---------------+-----------+----------------+-----+\n",
      "|CustomerID|Age|Gender|Tenure|Usage Frequency|Support Calls|Payment Delay|Subscription Type|Contract Length|Total Spend|Last Interaction|Churn|\n",
      "+----------+---+------+------+---------------+-------------+-------------+-----------------+---------------+-----------+----------------+-----+\n",
      "|         2| 30|Female|    39|             14|            5|           18|         Standard|         Annual|      932.0|              17|    1|\n",
      "|         3| 65|Female|    49|              1|           10|            8|            Basic|        Monthly|      557.0|               6|    1|\n",
      "|         4| 55|Female|    14|              4|            6|           18|            Basic|      Quarterly|      185.0|               3|    1|\n",
      "|         5| 58|  Male|    38|             21|            7|            7|         Standard|        Monthly|      396.0|              29|    1|\n",
      "|         6| 23|  Male|    32|             20|            5|            8|            Basic|        Monthly|      617.0|              20|    1|\n",
      "+----------+---+------+------+---------------+-------------+-------------+-----------------+---------------+-----------+----------------+-----+\n",
      "only showing top 5 rows\n",
      "\n"
     ]
    }
   ],
   "source": [
    "# loading dataset using spark.read.csv() method\n",
    "df = spark.read.csv(path, header=True, inferSchema=True)\n",
    "df.show(5)"
   ]
  },
  {
   "cell_type": "markdown",
   "metadata": {},
   "source": [
    "Let's investigate the shape of our data set using a combination of two methods:\n",
    "- count() to get the number of rows in our dataset\n",
    "- applying len() on df.columns attribute to get the number of columns in the dataset"
   ]
  },
  {
   "cell_type": "code",
   "execution_count": 103,
   "metadata": {},
   "outputs": [
    {
     "name": "stdout",
     "output_type": "stream",
     "text": [
      "440833 12\n"
     ]
    }
   ],
   "source": [
    "# shape of data set\n",
    "print(df.count(), len(df.columns))"
   ]
  },
  {
   "cell_type": "markdown",
   "metadata": {},
   "source": [
    "We then investigate the data types of our columns. That can be done by applying PySpark's' printSchema() method onto our dataframe."
   ]
  },
  {
   "cell_type": "code",
   "execution_count": 104,
   "metadata": {},
   "outputs": [
    {
     "name": "stdout",
     "output_type": "stream",
     "text": [
      "root\n",
      " |-- CustomerID: integer (nullable = true)\n",
      " |-- Age: integer (nullable = true)\n",
      " |-- Gender: string (nullable = true)\n",
      " |-- Tenure: integer (nullable = true)\n",
      " |-- Usage Frequency: integer (nullable = true)\n",
      " |-- Support Calls: integer (nullable = true)\n",
      " |-- Payment Delay: integer (nullable = true)\n",
      " |-- Subscription Type: string (nullable = true)\n",
      " |-- Contract Length: string (nullable = true)\n",
      " |-- Total Spend: double (nullable = true)\n",
      " |-- Last Interaction: integer (nullable = true)\n",
      " |-- Churn: integer (nullable = true)\n",
      "\n"
     ]
    }
   ],
   "source": [
    "# data types\n",
    "df.printSchema()"
   ]
  },
  {
   "cell_type": "markdown",
   "metadata": {},
   "source": [
    "All our columns have been inferred correctly. From the get-go, we see that there is one column we won't need - the CustomerID column. We can remove that using the drop() method."
   ]
  },
  {
   "cell_type": "code",
   "execution_count": 105,
   "metadata": {},
   "outputs": [
    {
     "name": "stdout",
     "output_type": "stream",
     "text": [
      "+---+------+------+---------------+-------------+-------------+-----------------+---------------+-----------+----------------+-----+\n",
      "|Age|Gender|Tenure|Usage Frequency|Support Calls|Payment Delay|Subscription Type|Contract Length|Total Spend|Last Interaction|Churn|\n",
      "+---+------+------+---------------+-------------+-------------+-----------------+---------------+-----------+----------------+-----+\n",
      "| 30|Female|    39|             14|            5|           18|         Standard|         Annual|      932.0|              17|    1|\n",
      "+---+------+------+---------------+-------------+-------------+-----------------+---------------+-----------+----------------+-----+\n",
      "only showing top 1 row\n",
      "\n"
     ]
    }
   ],
   "source": [
    "# Drop CustomerID column\n",
    "df = df.drop(\"CustomerID\")\n",
    "df.show(1)"
   ]
  },
  {
   "cell_type": "markdown",
   "metadata": {},
   "source": [
    "Now let's remove duplicates from the dataframe. This can be done using PySpark's dropDuplicates() method, which can remove duplicates based on all columns (default) or specified columns. We want to remove duplicates based on all columns so we will run the default method without specifying any columns."
   ]
  },
  {
   "cell_type": "code",
   "execution_count": 106,
   "metadata": {},
   "outputs": [
    {
     "name": "stderr",
     "output_type": "stream",
     "text": [
      "[Stage 7:===================>                                       (2 + 4) / 6]\r"
     ]
    },
    {
     "name": "stdout",
     "output_type": "stream",
     "text": [
      "440833 11\n"
     ]
    },
    {
     "name": "stderr",
     "output_type": "stream",
     "text": [
      "                                                                                \r"
     ]
    }
   ],
   "source": [
    "df = df.dropDuplicates()\n",
    "print(df.count(), len(df.columns))"
   ]
  },
  {
   "cell_type": "markdown",
   "metadata": {},
   "source": [
    "As we can see, 0 duplicates were removed from the data. The next thing we should do is check for null values in our dataframe. The following methods were used to accomplish the task:\n",
    "- select(): used to select a specified column or retrieve a desired output as a PySpark dataframe according to the expressions or constraints you put inside it.\n",
    "- IsNull(): checks if a specific column value is null and returns a boolean result\n",
    "- cast(): used to convert IsNull() output from boolean to integer type.\n",
    "- alias(): renames the resulting column in the output to have the same name as the original column\n",
    "- sum(): sums up the nulls oer selected column.\n",
    "- '[...for c in columns]': list comprehension used to iterate through the desired columns."
   ]
  },
  {
   "cell_type": "code",
   "execution_count": 107,
   "metadata": {},
   "outputs": [
    {
     "name": "stderr",
     "output_type": "stream",
     "text": [
      "[Stage 13:===================>                                      (2 + 4) / 6]\r"
     ]
    },
    {
     "name": "stdout",
     "output_type": "stream",
     "text": [
      "+---+------+------+---------------+-------------+-------------+-----------------+---------------+-----------+----------------+-----+\n",
      "|Age|Gender|Tenure|Usage Frequency|Support Calls|Payment Delay|Subscription Type|Contract Length|Total Spend|Last Interaction|Churn|\n",
      "+---+------+------+---------------+-------------+-------------+-----------------+---------------+-----------+----------------+-----+\n",
      "|  1|     1|     1|              1|            1|            1|                1|              1|          1|               1|    1|\n",
      "+---+------+------+---------------+-------------+-------------+-----------------+---------------+-----------+----------------+-----+\n",
      "\n"
     ]
    },
    {
     "name": "stderr",
     "output_type": "stream",
     "text": [
      "                                                                                \r"
     ]
    }
   ],
   "source": [
    "# calculate the null count for each column\n",
    "null_counts = df.select([sum(col(c).isNull().cast(\"int\")).alias(c) for c in df.columns])\n",
    "\n",
    "null_counts.show()"
   ]
  },
  {
   "cell_type": "markdown",
   "metadata": {},
   "source": [
    "Each column has one null value. These null values could all be in the same row. Let's remove the row where 'Age' is null and see what happens.\n",
    "\n",
    "We can easily remove records with null entries using the filter method from PySpark's sql module and the IsNotNull() function which will allow us to filter out only the records in the dataframe that do not have null entries in the 'Age' column."
   ]
  },
  {
   "cell_type": "code",
   "execution_count": 108,
   "metadata": {},
   "outputs": [
    {
     "name": "stdout",
     "output_type": "stream",
     "text": [
      "+---+------+------+---------------+-------------+-------------+-----------------+---------------+-----------+----------------+-----+\n",
      "|Age|Gender|Tenure|Usage Frequency|Support Calls|Payment Delay|Subscription Type|Contract Length|Total Spend|Last Interaction|Churn|\n",
      "+---+------+------+---------------+-------------+-------------+-----------------+---------------+-----------+----------------+-----+\n",
      "|  0|     0|     0|              0|            0|            0|                0|              0|          0|               0|    0|\n",
      "+---+------+------+---------------+-------------+-------------+-----------------+---------------+-----------+----------------+-----+\n",
      "\n"
     ]
    }
   ],
   "source": [
    "# filtering out records without nulls in review/score\n",
    "df = df.filter(df['Age'].isNotNull())\n",
    "\n",
    "# re-investigating the nulls\n",
    "null_counts = df.select([sum(col(c).isNull().cast(\"int\")).alias(c) for c in df.columns])\n",
    "null_counts.show()"
   ]
  },
  {
   "cell_type": "markdown",
   "metadata": {},
   "source": [
    "Next, let's ensure that our Churn (target) column is indeed a binary target variable. We can do this using PySpark's distinct() method."
   ]
  },
  {
   "cell_type": "code",
   "execution_count": 109,
   "metadata": {},
   "outputs": [
    {
     "name": "stdout",
     "output_type": "stream",
     "text": [
      "+-----+\n",
      "|Churn|\n",
      "+-----+\n",
      "|    1|\n",
      "|    0|\n",
      "+-----+\n",
      "\n"
     ]
    }
   ],
   "source": [
    "# get unique values of Churn column\n",
    "df.select(\"Churn\").distinct().show()"
   ]
  },
  {
   "cell_type": "markdown",
   "metadata": {},
   "source": [
    "Let's also check the distinct values of our categorical columns to ensure that they are all standardized."
   ]
  },
  {
   "cell_type": "code",
   "execution_count": 110,
   "metadata": {},
   "outputs": [
    {
     "name": "stdout",
     "output_type": "stream",
     "text": [
      "+------+\n",
      "|Gender|\n",
      "+------+\n",
      "|Female|\n",
      "|  Male|\n",
      "+------+\n",
      "\n",
      "None\n",
      "+-----------------+\n",
      "|Subscription Type|\n",
      "+-----------------+\n",
      "|          Premium|\n",
      "|            Basic|\n",
      "|         Standard|\n",
      "+-----------------+\n",
      "\n",
      "None\n",
      "+---------------+\n",
      "|Contract Length|\n",
      "+---------------+\n",
      "|         Annual|\n",
      "|      Quarterly|\n",
      "|        Monthly|\n",
      "+---------------+\n",
      "\n",
      "None\n"
     ]
    }
   ],
   "source": [
    "# List of categorical columns\n",
    "categorical_columns = [\"Gender\", \"Subscription Type\", \"Contract Length\"]\n",
    "\n",
    "# Loop through each column and show distinct values\n",
    "for c in categorical_columns:\n",
    "    unique = df.select(c).distinct().show()\n",
    "    print(unique)"
   ]
  },
  {
   "cell_type": "markdown",
   "metadata": {},
   "source": [
    "Our data set has been adequately cleaned and is ready for EDA.\n",
    "\n",
    "However, before we move on, we recall having over 400000 entries in our dataset. We don't need that many. Let's cut that down to 10000 using the sample() method, which will randomly sample the number of records we desire according to the 'fraction' constraint we give it. Afterwards, we can convert our dataframe to a Pandas dataframe for the rest of our analysis using toPandas()."
   ]
  },
  {
   "cell_type": "code",
   "execution_count": 111,
   "metadata": {},
   "outputs": [
    {
     "name": "stderr",
     "output_type": "stream",
     "text": [
      "                                                                                \r"
     ]
    },
    {
     "data": {
      "text/plain": [
       "(10000, 11)"
      ]
     },
     "execution_count": 111,
     "metadata": {},
     "output_type": "execute_result"
    }
   ],
   "source": [
    "# cutting dataset and converting to Pandas\n",
    "df = df.sample(withReplacement=False, fraction=0.0227, seed=44)\n",
    "df = df.toPandas()\n",
    "df.shape"
   ]
  },
  {
   "cell_type": "markdown",
   "metadata": {},
   "source": [
    "### 4.3. Exploratory data analysis (& extra preprocessing)\n",
    "\n",
    "Before we begin with our exploratory data analysis, let's check if our data set is balanced and see if we need to apply SMOTE-NC (for categorical and numerical variables)."
   ]
  },
  {
   "cell_type": "code",
   "execution_count": 112,
   "metadata": {},
   "outputs": [
    {
     "data": {
      "text/plain": [
       "1    5615\n",
       "0    4385\n",
       "Name: Churn, dtype: int64"
      ]
     },
     "execution_count": 112,
     "metadata": {},
     "output_type": "execute_result"
    }
   ],
   "source": [
    "# Checking if data set is balanced using value_counts() method.\n",
    "df['Churn'].value_counts()"
   ]
  },
  {
   "cell_type": "markdown",
   "metadata": {},
   "source": [
    "Not bad at all, but we can still benefit from achieving a perfect balance on our data set nonetheless. Before we balance our data set, we begin by separating our features and target."
   ]
  },
  {
   "cell_type": "code",
   "execution_count": 113,
   "metadata": {},
   "outputs": [],
   "source": [
    "# separate features and target \n",
    "X = df.drop(columns=['Churn'])\n",
    "y = df['Churn']"
   ]
  },
  {
   "cell_type": "markdown",
   "metadata": {},
   "source": [
    "We can use SMOTE-NC (imported from Imbalanced Learn's over_sampling module) to balance our data set, which is the same as SMOTE but also calibrated to oversample categorical features (the original SMOTE would not work in this case)."
   ]
  },
  {
   "cell_type": "code",
   "execution_count": 114,
   "metadata": {},
   "outputs": [],
   "source": [
    "# get list of categorical feature names for categorical_features SMOTE-NC parameter\n",
    "cat_feature_names = ['Gender', 'Subscription Type', 'Contract Length']\n",
    "\n",
    "# Instantiating and fitting SMOTE-NC and transforming (balancing) the data\n",
    "smotenc = SMOTENC(categorical_features=cat_feature_names, random_state=0)\n",
    "X_resamp, y_resamp = smotenc.fit_resample(X, y)"
   ]
  },
  {
   "cell_type": "markdown",
   "metadata": {},
   "source": [
    "Let's check if our data set was balanced accordingly."
   ]
  },
  {
   "cell_type": "code",
   "execution_count": 115,
   "metadata": {},
   "outputs": [
    {
     "data": {
      "text/plain": [
       "1    5615\n",
       "0    5615\n",
       "Name: Churn, dtype: int64"
      ]
     },
     "execution_count": 115,
     "metadata": {},
     "output_type": "execute_result"
    }
   ],
   "source": [
    "# checking if data set is balanced\n",
    "y_resamp.value_counts()"
   ]
  },
  {
   "cell_type": "markdown",
   "metadata": {},
   "source": [
    "Next, we should encode our categorical variables. All our categorical variables are nominal, so we will encode them with the OneHotEncoder() class imported from Sklearn's preprocessing module."
   ]
  },
  {
   "cell_type": "code",
   "execution_count": 116,
   "metadata": {},
   "outputs": [
    {
     "data": {
      "text/html": [
       "<div>\n",
       "<style scoped>\n",
       "    .dataframe tbody tr th:only-of-type {\n",
       "        vertical-align: middle;\n",
       "    }\n",
       "\n",
       "    .dataframe tbody tr th {\n",
       "        vertical-align: top;\n",
       "    }\n",
       "\n",
       "    .dataframe thead th {\n",
       "        text-align: right;\n",
       "    }\n",
       "</style>\n",
       "<table border=\"1\" class=\"dataframe\">\n",
       "  <thead>\n",
       "    <tr style=\"text-align: right;\">\n",
       "      <th></th>\n",
       "      <th>Gender_Female</th>\n",
       "      <th>Gender_Male</th>\n",
       "      <th>Subscription Type_Basic</th>\n",
       "      <th>Subscription Type_Premium</th>\n",
       "      <th>Subscription Type_Standard</th>\n",
       "      <th>Contract Length_Annual</th>\n",
       "      <th>Contract Length_Monthly</th>\n",
       "      <th>Contract Length_Quarterly</th>\n",
       "    </tr>\n",
       "  </thead>\n",
       "  <tbody>\n",
       "    <tr>\n",
       "      <th>0</th>\n",
       "      <td>0.0</td>\n",
       "      <td>1.0</td>\n",
       "      <td>0.0</td>\n",
       "      <td>0.0</td>\n",
       "      <td>1.0</td>\n",
       "      <td>0.0</td>\n",
       "      <td>0.0</td>\n",
       "      <td>1.0</td>\n",
       "    </tr>\n",
       "    <tr>\n",
       "      <th>1</th>\n",
       "      <td>1.0</td>\n",
       "      <td>0.0</td>\n",
       "      <td>0.0</td>\n",
       "      <td>1.0</td>\n",
       "      <td>0.0</td>\n",
       "      <td>0.0</td>\n",
       "      <td>1.0</td>\n",
       "      <td>0.0</td>\n",
       "    </tr>\n",
       "    <tr>\n",
       "      <th>2</th>\n",
       "      <td>0.0</td>\n",
       "      <td>1.0</td>\n",
       "      <td>1.0</td>\n",
       "      <td>0.0</td>\n",
       "      <td>0.0</td>\n",
       "      <td>0.0</td>\n",
       "      <td>1.0</td>\n",
       "      <td>0.0</td>\n",
       "    </tr>\n",
       "    <tr>\n",
       "      <th>3</th>\n",
       "      <td>1.0</td>\n",
       "      <td>0.0</td>\n",
       "      <td>0.0</td>\n",
       "      <td>0.0</td>\n",
       "      <td>1.0</td>\n",
       "      <td>1.0</td>\n",
       "      <td>0.0</td>\n",
       "      <td>0.0</td>\n",
       "    </tr>\n",
       "    <tr>\n",
       "      <th>4</th>\n",
       "      <td>1.0</td>\n",
       "      <td>0.0</td>\n",
       "      <td>0.0</td>\n",
       "      <td>0.0</td>\n",
       "      <td>1.0</td>\n",
       "      <td>1.0</td>\n",
       "      <td>0.0</td>\n",
       "      <td>0.0</td>\n",
       "    </tr>\n",
       "    <tr>\n",
       "      <th>...</th>\n",
       "      <td>...</td>\n",
       "      <td>...</td>\n",
       "      <td>...</td>\n",
       "      <td>...</td>\n",
       "      <td>...</td>\n",
       "      <td>...</td>\n",
       "      <td>...</td>\n",
       "      <td>...</td>\n",
       "    </tr>\n",
       "    <tr>\n",
       "      <th>11225</th>\n",
       "      <td>0.0</td>\n",
       "      <td>1.0</td>\n",
       "      <td>0.0</td>\n",
       "      <td>1.0</td>\n",
       "      <td>0.0</td>\n",
       "      <td>1.0</td>\n",
       "      <td>0.0</td>\n",
       "      <td>0.0</td>\n",
       "    </tr>\n",
       "    <tr>\n",
       "      <th>11226</th>\n",
       "      <td>0.0</td>\n",
       "      <td>1.0</td>\n",
       "      <td>0.0</td>\n",
       "      <td>0.0</td>\n",
       "      <td>1.0</td>\n",
       "      <td>0.0</td>\n",
       "      <td>0.0</td>\n",
       "      <td>1.0</td>\n",
       "    </tr>\n",
       "    <tr>\n",
       "      <th>11227</th>\n",
       "      <td>0.0</td>\n",
       "      <td>1.0</td>\n",
       "      <td>1.0</td>\n",
       "      <td>0.0</td>\n",
       "      <td>0.0</td>\n",
       "      <td>0.0</td>\n",
       "      <td>0.0</td>\n",
       "      <td>1.0</td>\n",
       "    </tr>\n",
       "    <tr>\n",
       "      <th>11228</th>\n",
       "      <td>0.0</td>\n",
       "      <td>1.0</td>\n",
       "      <td>0.0</td>\n",
       "      <td>0.0</td>\n",
       "      <td>1.0</td>\n",
       "      <td>1.0</td>\n",
       "      <td>0.0</td>\n",
       "      <td>0.0</td>\n",
       "    </tr>\n",
       "    <tr>\n",
       "      <th>11229</th>\n",
       "      <td>0.0</td>\n",
       "      <td>1.0</td>\n",
       "      <td>0.0</td>\n",
       "      <td>1.0</td>\n",
       "      <td>0.0</td>\n",
       "      <td>1.0</td>\n",
       "      <td>0.0</td>\n",
       "      <td>0.0</td>\n",
       "    </tr>\n",
       "  </tbody>\n",
       "</table>\n",
       "<p>11230 rows × 8 columns</p>\n",
       "</div>"
      ],
      "text/plain": [
       "       Gender_Female  Gender_Male  Subscription Type_Basic  \\\n",
       "0                0.0          1.0                      0.0   \n",
       "1                1.0          0.0                      0.0   \n",
       "2                0.0          1.0                      1.0   \n",
       "3                1.0          0.0                      0.0   \n",
       "4                1.0          0.0                      0.0   \n",
       "...              ...          ...                      ...   \n",
       "11225            0.0          1.0                      0.0   \n",
       "11226            0.0          1.0                      0.0   \n",
       "11227            0.0          1.0                      1.0   \n",
       "11228            0.0          1.0                      0.0   \n",
       "11229            0.0          1.0                      0.0   \n",
       "\n",
       "       Subscription Type_Premium  Subscription Type_Standard  \\\n",
       "0                            0.0                         1.0   \n",
       "1                            1.0                         0.0   \n",
       "2                            0.0                         0.0   \n",
       "3                            0.0                         1.0   \n",
       "4                            0.0                         1.0   \n",
       "...                          ...                         ...   \n",
       "11225                        1.0                         0.0   \n",
       "11226                        0.0                         1.0   \n",
       "11227                        0.0                         0.0   \n",
       "11228                        0.0                         1.0   \n",
       "11229                        1.0                         0.0   \n",
       "\n",
       "       Contract Length_Annual  Contract Length_Monthly  \\\n",
       "0                         0.0                      0.0   \n",
       "1                         0.0                      1.0   \n",
       "2                         0.0                      1.0   \n",
       "3                         1.0                      0.0   \n",
       "4                         1.0                      0.0   \n",
       "...                       ...                      ...   \n",
       "11225                     1.0                      0.0   \n",
       "11226                     0.0                      0.0   \n",
       "11227                     0.0                      0.0   \n",
       "11228                     1.0                      0.0   \n",
       "11229                     1.0                      0.0   \n",
       "\n",
       "       Contract Length_Quarterly  \n",
       "0                            1.0  \n",
       "1                            0.0  \n",
       "2                            0.0  \n",
       "3                            0.0  \n",
       "4                            0.0  \n",
       "...                          ...  \n",
       "11225                        0.0  \n",
       "11226                        1.0  \n",
       "11227                        1.0  \n",
       "11228                        0.0  \n",
       "11229                        0.0  \n",
       "\n",
       "[11230 rows x 8 columns]"
      ]
     },
     "execution_count": 116,
     "metadata": {},
     "output_type": "execute_result"
    }
   ],
   "source": [
    "# instantiating OneHot Encoder object\n",
    "# handle_unknown='ignore' ignores N/A outputs\n",
    "# sparse_output=False self explanatory\n",
    "# set_output(transform='pandas') transforms output from 2D array to pandas dataframe\n",
    "ohe = OneHotEncoder(handle_unknown='ignore', sparse_output=False).set_output(transform='pandas')\n",
    "\n",
    "# fit_transform of ohe on nominal categorical variables\n",
    "nomcattransform = ohe.fit_transform(X_resamp[['Gender', 'Subscription Type', 'Contract Length']])\n",
    "nomcattransform"
   ]
  },
  {
   "cell_type": "markdown",
   "metadata": {},
   "source": [
    "Let's concatenate our encoded variables to our feature set and drop the original, unencoded nominal variables."
   ]
  },
  {
   "cell_type": "code",
   "execution_count": 117,
   "metadata": {},
   "outputs": [
    {
     "data": {
      "text/html": [
       "<div>\n",
       "<style scoped>\n",
       "    .dataframe tbody tr th:only-of-type {\n",
       "        vertical-align: middle;\n",
       "    }\n",
       "\n",
       "    .dataframe tbody tr th {\n",
       "        vertical-align: top;\n",
       "    }\n",
       "\n",
       "    .dataframe thead th {\n",
       "        text-align: right;\n",
       "    }\n",
       "</style>\n",
       "<table border=\"1\" class=\"dataframe\">\n",
       "  <thead>\n",
       "    <tr style=\"text-align: right;\">\n",
       "      <th></th>\n",
       "      <th>Age</th>\n",
       "      <th>Tenure</th>\n",
       "      <th>Usage Frequency</th>\n",
       "      <th>Support Calls</th>\n",
       "      <th>Payment Delay</th>\n",
       "      <th>Total Spend</th>\n",
       "      <th>Last Interaction</th>\n",
       "      <th>Gender_Female</th>\n",
       "      <th>Gender_Male</th>\n",
       "      <th>Subscription Type_Basic</th>\n",
       "      <th>Subscription Type_Premium</th>\n",
       "      <th>Subscription Type_Standard</th>\n",
       "      <th>Contract Length_Annual</th>\n",
       "      <th>Contract Length_Monthly</th>\n",
       "      <th>Contract Length_Quarterly</th>\n",
       "    </tr>\n",
       "  </thead>\n",
       "  <tbody>\n",
       "    <tr>\n",
       "      <th>0</th>\n",
       "      <td>53</td>\n",
       "      <td>16</td>\n",
       "      <td>13</td>\n",
       "      <td>3</td>\n",
       "      <td>9</td>\n",
       "      <td>966.0</td>\n",
       "      <td>6</td>\n",
       "      <td>0.0</td>\n",
       "      <td>1.0</td>\n",
       "      <td>0.0</td>\n",
       "      <td>0.0</td>\n",
       "      <td>1.0</td>\n",
       "      <td>0.0</td>\n",
       "      <td>0.0</td>\n",
       "      <td>1.0</td>\n",
       "    </tr>\n",
       "    <tr>\n",
       "      <th>1</th>\n",
       "      <td>35</td>\n",
       "      <td>18</td>\n",
       "      <td>27</td>\n",
       "      <td>7</td>\n",
       "      <td>13</td>\n",
       "      <td>257.0</td>\n",
       "      <td>11</td>\n",
       "      <td>1.0</td>\n",
       "      <td>0.0</td>\n",
       "      <td>0.0</td>\n",
       "      <td>1.0</td>\n",
       "      <td>0.0</td>\n",
       "      <td>0.0</td>\n",
       "      <td>1.0</td>\n",
       "      <td>0.0</td>\n",
       "    </tr>\n",
       "    <tr>\n",
       "      <th>2</th>\n",
       "      <td>47</td>\n",
       "      <td>37</td>\n",
       "      <td>12</td>\n",
       "      <td>8</td>\n",
       "      <td>20</td>\n",
       "      <td>416.0</td>\n",
       "      <td>14</td>\n",
       "      <td>0.0</td>\n",
       "      <td>1.0</td>\n",
       "      <td>1.0</td>\n",
       "      <td>0.0</td>\n",
       "      <td>0.0</td>\n",
       "      <td>0.0</td>\n",
       "      <td>1.0</td>\n",
       "      <td>0.0</td>\n",
       "    </tr>\n",
       "  </tbody>\n",
       "</table>\n",
       "</div>"
      ],
      "text/plain": [
       "   Age  Tenure  Usage Frequency  Support Calls  Payment Delay  Total Spend  \\\n",
       "0   53      16               13              3              9        966.0   \n",
       "1   35      18               27              7             13        257.0   \n",
       "2   47      37               12              8             20        416.0   \n",
       "\n",
       "   Last Interaction  Gender_Female  Gender_Male  Subscription Type_Basic  \\\n",
       "0                 6            0.0          1.0                      0.0   \n",
       "1                11            1.0          0.0                      0.0   \n",
       "2                14            0.0          1.0                      1.0   \n",
       "\n",
       "   Subscription Type_Premium  Subscription Type_Standard  \\\n",
       "0                        0.0                         1.0   \n",
       "1                        1.0                         0.0   \n",
       "2                        0.0                         0.0   \n",
       "\n",
       "   Contract Length_Annual  Contract Length_Monthly  Contract Length_Quarterly  \n",
       "0                     0.0                      0.0                        1.0  \n",
       "1                     0.0                      1.0                        0.0  \n",
       "2                     0.0                      1.0                        0.0  "
      ]
     },
     "execution_count": 117,
     "metadata": {},
     "output_type": "execute_result"
    }
   ],
   "source": [
    "# concatenating X_resamp and nomcattransform\n",
    "# dropping untransformed columns (replaced)\n",
    "X_resamp = pd.concat([X_resamp, nomcattransform], axis=1).drop(columns=['Gender', 'Subscription Type', 'Contract Length'])\n",
    "X_resamp.head(3)"
   ]
  },
  {
   "cell_type": "markdown",
   "metadata": {},
   "source": [
    "Next, let's do some feature selection for both our numerical and categorical variables. Let's start with our numerical variables by doing a multicollinearity test. We can check for multicollinearity by creating a correlation matrix of the numerical features using the corr() method and visualizing it using Seaborn's heatmap() library."
   ]
  },
  {
   "cell_type": "code",
   "execution_count": 118,
   "metadata": {},
   "outputs": [
    {
     "data": {
      "text/plain": [
       "Text(0.5, 1.0, 'Correlation matrix')"
      ]
     },
     "execution_count": 118,
     "metadata": {},
     "output_type": "execute_result"
    },
    {
     "data": {
      "image/png": "[encoded data removed]",
      "text/plain": [
       "<Figure size 1440x1224 with 2 Axes>"
      ]
     },
     "metadata": {
      "needs_background": "light"
     },
     "output_type": "display_data"
    }
   ],
   "source": [
    "# Checking if numerical features are independant\n",
    "\n",
    "# Isolating numerical features\n",
    "X_resamp_numeric = X_resamp[['Age', 'Tenure', 'Usage Frequency', \n",
    "                            'Support Calls', 'Payment Delay', 'Total Spend', \n",
    "                            'Last Interaction']]\n",
    "\n",
    "# Plotting correlation matrix\n",
    "plt.rcParams['figure.figsize'] = (20, 17)\n",
    "corrmat = X_resamp_numeric.corr()\n",
    "sns.heatmap(corrmat, annot=True, cbar=True, cmap='Blues') # 'Blues' vmin=-1 vmax=1\n",
    "plt.title(\"Correlation matrix\")\n"
   ]
  },
  {
   "cell_type": "markdown",
   "metadata": {},
   "source": [
    "None of the numerical features are highly correlated with each other; we can keep all of them. Let's do a chi-squared test for the categorical features to test their importance. The higher the chi-squared score, the more important the feature is."
   ]
  },
  {
   "cell_type": "code",
   "execution_count": 119,
   "metadata": {},
   "outputs": [
    {
     "data": {
      "text/plain": [
       "<AxesSubplot:>"
      ]
     },
     "execution_count": 119,
     "metadata": {},
     "output_type": "execute_result"
    },
    {
     "data": {
      "image/png": "[encoded data removed]",
      "text/plain": [
       "<Figure size 720x720 with 1 Axes>"
      ]
     },
     "metadata": {
      "needs_background": "light"
     },
     "output_type": "display_data"
    }
   ],
   "source": [
    "# Isolating categorical features\n",
    "X_resamp_categorical = X_resamp[['Gender_Female', 'Gender_Male', 'Subscription Type_Basic', \n",
    "                                'Subscription Type_Premium', 'Subscription Type_Standard', \n",
    "                                'Contract Length_Annual', 'Contract Length_Monthly', \n",
    "                                'Contract Length_Quarterly']]\n",
    "\n",
    "# Calculating and plotting chi-squared scores\n",
    "chi_scores = chi2(X_resamp_categorical, y_resamp)\n",
    "plt.rcParams['figure.figsize'] = (10, 10)\n",
    "chi_values = pd.Series(chi_scores[0], index=X_resamp_categorical.columns)\n",
    "chi_values.sort_values(ascending=False, inplace=True)\n",
    "chi_values.plot.bar()"
   ]
  },
  {
   "cell_type": "markdown",
   "metadata": {},
   "source": [
    "Whether or not customers subscribe to a monthly contracts (represented by the Contract Length_Monthly feature) seems to be a very important categorical predictor of customer churn, whereas subscription types seem to have very little importance. To further inform our decision on which categorical features to remove, we can check for p-values, where a p-value lower than 0.05 indicates that the feature is statistically significant. Let's plot the p-values of the features and see what we get."
   ]
  },
  {
   "cell_type": "code",
   "execution_count": 120,
   "metadata": {},
   "outputs": [
    {
     "data": {
      "text/plain": [
       "<AxesSubplot:>"
      ]
     },
     "execution_count": 120,
     "metadata": {},
     "output_type": "execute_result"
    },
    {
     "data": {
      "image/png": "[encoded data removed]",
      "text/plain": [
       "<Figure size 720x720 with 1 Axes>"
      ]
     },
     "metadata": {
      "needs_background": "light"
     },
     "output_type": "display_data"
    }
   ],
   "source": [
    "# plotting p-values\n",
    "plt.rcParams['figure.figsize'] = (10, 10)\n",
    "p_values = pd.Series(chi_scores[1], index=X_resamp_categorical.columns)\n",
    "p_values.sort_values(ascending=False, inplace=True)\n",
    "p_values.plot.bar()"
   ]
  },
  {
   "cell_type": "markdown",
   "metadata": {},
   "source": [
    "As expected. None of the features related to subscription type are statistically significant. We can remove them."
   ]
  },
  {
   "cell_type": "code",
   "execution_count": 121,
   "metadata": {},
   "outputs": [],
   "source": [
    "# remove insignificant features\n",
    "X_resamp = X_resamp.drop(columns=['Subscription Type_Premium', 'Subscription Type_Standard', \n",
    "                                  'Subscription Type_Basic'])"
   ]
  },
  {
   "cell_type": "markdown",
   "metadata": {},
   "source": [
    "We're ready to begin building our logistic regression model."
   ]
  },
  {
   "cell_type": "markdown",
   "metadata": {},
   "source": [
    "### 4.4. Building logistic regression model from scratch\n",
    "\n",
    "The following tutorials were used as a guide to build the logistic regression class from scratch: \n",
    "- Tutorial 1: https://www.askpython.com/python/examples/logistic-regression-from-scratch.\n",
    "- Tutorial 2: https://www.youtube.com/watch?v=YYEJ_GUguHw\n",
    "\n",
    "Two of the biggest changes that were made when using the tutorials as guides:\n",
    "- The code in the first tutorial took data as a parameter at the initialization stage. The code was revamped so that the data is taken at the fitting stage. Defaults for 'lr' (learning rate) and 'iterations' parameters were also added.\n",
    "- A component from the second tutorial that was added to this code was the accuracy score method."
   ]
  },
  {
   "cell_type": "code",
   "execution_count": 122,
   "metadata": {},
   "outputs": [],
   "source": [
    "# Building the logistic regression model\n",
    "\n",
    "# creating logistic regression class\n",
    "# methods in this class are only available for use within the class since they are defined within...\n",
    "# the class.\n",
    "class LogReg: \n",
    "    # creating initialization method using __init__ that will initialize defined attributes when class...\n",
    "    #  instance is called. The 'lr' (learning rate), C and 'iterations' parameters have been given defaults\n",
    "    def __init__(self, learning_rate=0.01, iterations=1000, C=1.0): \n",
    "        # initializing a placeholder for intercept vector\n",
    "        self.intercept = None\n",
    "        # initializing a placeholder for the weights vector\n",
    "        self.weight = None\n",
    "        # initializing learning rate\n",
    "        self.learning_rate = learning_rate\n",
    "        # initializing number of iterations\n",
    "        self.iterations = iterations\n",
    "        # initializing C\n",
    "        self.C = C\n",
    "\n",
    "    # creating the sigmoid method that will return a probability that can then be mapped as binary...\n",
    "    # classes (AskPython, 2020)\n",
    "    def sigmoid(self, q):\n",
    "        # sigmoid equation\n",
    "        sig_prob = 1/(1 + np.exp(-q))\n",
    "        # returning probability converted from linear equation input (q) \n",
    "        return sig_prob\n",
    "    \n",
    "    # creating the loss function method that will help us find the best weights where loss is minimized... \n",
    "    # (AskPython, 2020)\n",
    "    def loss(self, h, y):\n",
    "        # adding an L2 regularization term for loss function (tuned by C)\n",
    "        reg_term = (1 / (2 * self.C)) * np.sum(np.square(self.weight[1:]))\n",
    "        # returning calculated loss\n",
    "        return (-y * np.log(h) - (1 - y) * np.log(1 - h)).mean() + reg_term\n",
    "\n",
    "    # creating the gradient descent method, where gradient descent is the derivative of the loss function...\n",
    "    # with respect to the weights (AskPython, 2020). This will help optimize the weights as the logistic...\n",
    "    # regression model trains on the data\n",
    "    def gradient_descent(self, X, h, y):\n",
    "        # calculating gradient\n",
    "        gradient = np.dot(X.T, (h - y)) / y.shape[0]\n",
    "        # regularizing weights during gradient descent for more effective regularization\n",
    "        reg_term = self.weight / self.C\n",
    "        # Keeping bias terms (intercepts) unregularized\n",
    "        reg_term[0] = 0\n",
    "        return gradient + reg_term\n",
    "\n",
    "    # creating the fit method which trains the model onto the data. \n",
    "    def fit(self, x, y):\n",
    "        # initializing the intercept as a vector of ones based on the number of rows in the data\n",
    "        self.intercept = np.ones((x.shape[0], 1))\n",
    "        # concatenating the intercept with x for computational efficiency\n",
    "        x = np.concatenate((self.intercept, x), axis=1)\n",
    "        # initializing the weights as a vector of zeros based on the number of columns (features) in...\n",
    "        # the data\n",
    "        self.weight = np.zeros(x.shape[1])\n",
    "        \n",
    "        # for loop to run training steps over specified number of iterations to gradually adjust weights\n",
    "        for i in range(self.iterations):\n",
    "            # calculating the linear model used in sigmoid function using x and weights\n",
    "            linear_model = np.dot(x, self.weight)\n",
    "            # inputting linear model into sigmoid function to get probabilities\n",
    "            sigma = self.sigmoid(linear_model)\n",
    "            # calculating the loss which takes calculated probabilities and y actual as parameters.\n",
    "            loss = self.loss(sigma, y)\n",
    "            # calculating the gradient of the loss function used to update the weights\n",
    "            dW = self.gradient_descent(x, sigma, y)\n",
    "            # updating the weights based on the calculated and the specified learning rate\n",
    "            self.weight -= self.learning_rate * dW\n",
    "\n",
    "    # creating the predict method used to make predictions on new (testing) data after the logistic...\n",
    "    # regression model has been trained\n",
    "    def predict(self, x_new, threshold=0.5):\n",
    "        # adding the intercept vector/column to the new (test) data\n",
    "        intercept = np.ones((x_new.shape[0], 1))\n",
    "        x_new = np.concatenate((intercept, x_new), axis=1)\n",
    "        # calculating the probabilities using the sigmoid function, this time using the optimized weights\n",
    "        prediction = self.sigmoid(np.dot(x_new, self.weight))\n",
    "        # applying the threshold as a boolean expression and converting it into integer form...\n",
    "        # to convert probabilities into binary class labels\n",
    "        return (prediction >= threshold).astype(int)\n",
    "    \n",
    "    # creating the predict_proba method that will output predicted probabilities when it receives input data\n",
    "    def predict_proba(self, X):\n",
    "        # adding the intercept vector/column to the new (test) data\n",
    "        intercept = np.ones((X.shape[0], 1))\n",
    "        x_new = np.concatenate((intercept, X), axis=1)\n",
    "        # calculating the probabilities using the sigmoid function, but not converting them to integers...\n",
    "        # this time\n",
    "        probs = self.sigmoid(np.dot(x_new, self.weight))\n",
    "        return probs\n",
    "    \n",
    "    # creating a method that will calculate prediction accuracy\n",
    "    def accuracy(self, y_pred, y_actual): \n",
    "        return np.sum(y_pred==y_actual) / len(y_actual)\n",
    "    \n",
    "    # ----------------------------------------------------------------------------------------------\n",
    "\n",
    "    # The following script was added to make this logistic regression class compatible with GridSearchCV\n",
    "\n",
    "    # this function retrieves parameter attributes of all trained instance combinations\n",
    "    def get_params(self, deep=True):\n",
    "        return {\"learning_rate\": self.learning_rate, \"iterations\": self.iterations, \"C\": self.C}\n",
    "\n",
    "    # this function updates an instance with its respective parameter attributes\n",
    "    def set_params(self, **params):\n",
    "        for param, value in params.items():\n",
    "            setattr(self, param, value)\n",
    "        return self\n"
   ]
  },
  {
   "cell_type": "markdown",
   "metadata": {},
   "source": [
    "### 4.5. Model training, improvement and evaluation\n",
    "\n",
    "Now that we've built our logistic regression class from scratch, let's see how it performs on our data. We begin by creating our training and testing partitions."
   ]
  },
  {
   "cell_type": "code",
   "execution_count": 123,
   "metadata": {},
   "outputs": [],
   "source": [
    "# Creating our training and testing partitions of our feature and target variables\n",
    "# Stratify ensures that class labels are proportionately distributed between the training and testing sets\n",
    "X_train, X_test, y_train, y_test = train_test_split(X_resamp, y_resamp, stratify=y_resamp, \n",
    "                                                    test_size=0.2, random_state=0)"
   ]
  },
  {
   "cell_type": "markdown",
   "metadata": {},
   "source": [
    "Now we scale our data for better performance using StandardScaler() from sklearn's preprocessing module"
   ]
  },
  {
   "cell_type": "code",
   "execution_count": 124,
   "metadata": {},
   "outputs": [],
   "source": [
    "# Instantiating and fitting StandardScaler and standardizing the features\n",
    "scaler = StandardScaler()\n",
    "X_train = scaler.fit_transform(X_train)\n",
    "X_test = scaler.transform(X_test)"
   ]
  },
  {
   "cell_type": "markdown",
   "metadata": {},
   "source": [
    "Let's check the shape of our training and testing partitions."
   ]
  },
  {
   "cell_type": "code",
   "execution_count": 125,
   "metadata": {},
   "outputs": [
    {
     "name": "stdout",
     "output_type": "stream",
     "text": [
      "Shape of X_train: (8984, 12)\n",
      "Shape of X_test: (2246, 12)\n",
      "Shape of y_train: (8984,)\n",
      "Shape of y_test: (2246,)\n"
     ]
    }
   ],
   "source": [
    "# Shapes of training and testing partitions\n",
    "print(\"Shape of X_train: {}\".format(X_train.shape))\n",
    "print(\"Shape of X_test: {}\".format(X_test.shape))\n",
    "print(\"Shape of y_train: {}\".format(y_train.shape))\n",
    "print(\"Shape of y_test: {}\".format(y_test.shape))"
   ]
  },
  {
   "cell_type": "markdown",
   "metadata": {},
   "source": [
    "#### 4.5.1. Model training and improvement\n",
    "\n",
    "Next, we instantiate our model object from the LogReg class we created."
   ]
  },
  {
   "cell_type": "code",
   "execution_count": 126,
   "metadata": {},
   "outputs": [],
   "source": [
    "# instantiating LogReg class\n",
    "logreg = LogReg()"
   ]
  },
  {
   "cell_type": "markdown",
   "metadata": {},
   "source": [
    "Now, we create a parameter grid for model improvement purposes."
   ]
  },
  {
   "cell_type": "code",
   "execution_count": 127,
   "metadata": {},
   "outputs": [],
   "source": [
    "# defining parameter grid\n",
    "param_grid = {'learning_rate': [0.001, 0.01, 0.05, 0.1, 0.2, 0.5],\n",
    "              'C': [0.01, 0.1, 1, 10, 100]}"
   ]
  },
  {
   "cell_type": "markdown",
   "metadata": {},
   "source": [
    "Next, we instantiate and fit a GridSearchCV object to our training data to find the best model parameters for our logistic regression model."
   ]
  },
  {
   "cell_type": "code",
   "execution_count": 128,
   "metadata": {},
   "outputs": [
    {
     "name": "stderr",
     "output_type": "stream",
     "text": [
      "/tmp/ipykernel_2381/1583406912.py:35: RuntimeWarning: divide by zero encountered in log\n",
      "  return (-y * np.log(h) - (1 - y) * np.log(1 - h)).mean() + reg_term\n",
      "/tmp/ipykernel_2381/1583406912.py:25: RuntimeWarning: overflow encountered in exp\n",
      "  sig_prob = 1/(1 + np.exp(-q))\n",
      "/tmp/ipykernel_2381/1583406912.py:33: RuntimeWarning: overflow encountered in double_scalars\n",
      "  reg_term = (1 / (2 * self.C)) * np.sum(np.square(self.weight[1:]))\n",
      "/home/lab_services_student/anaconda3/lib/python3.9/site-packages/numpy/core/fromnumeric.py:86: RuntimeWarning: overflow encountered in reduce\n",
      "  return ufunc.reduce(obj, axis, dtype, out, **passkwargs)\n",
      "/tmp/ipykernel_2381/1583406912.py:33: RuntimeWarning: overflow encountered in square\n",
      "  reg_term = (1 / (2 * self.C)) * np.sum(np.square(self.weight[1:]))\n",
      "/tmp/ipykernel_2381/1583406912.py:44: RuntimeWarning: overflow encountered in true_divide\n",
      "  reg_term = self.weight / self.C\n",
      "/tmp/ipykernel_2381/1583406912.py:70: RuntimeWarning: invalid value encountered in subtract\n",
      "  self.weight -= self.learning_rate * dW\n",
      "/tmp/ipykernel_2381/1583406912.py:35: RuntimeWarning: divide by zero encountered in log\n",
      "  return (-y * np.log(h) - (1 - y) * np.log(1 - h)).mean() + reg_term\n",
      "/tmp/ipykernel_2381/1583406912.py:25: RuntimeWarning: overflow encountered in exp\n",
      "  sig_prob = 1/(1 + np.exp(-q))\n",
      "/tmp/ipykernel_2381/1583406912.py:33: RuntimeWarning: overflow encountered in double_scalars\n",
      "  reg_term = (1 / (2 * self.C)) * np.sum(np.square(self.weight[1:]))\n",
      "/home/lab_services_student/anaconda3/lib/python3.9/site-packages/numpy/core/fromnumeric.py:86: RuntimeWarning: overflow encountered in reduce\n",
      "  return ufunc.reduce(obj, axis, dtype, out, **passkwargs)\n",
      "/tmp/ipykernel_2381/1583406912.py:33: RuntimeWarning: overflow encountered in square\n",
      "  reg_term = (1 / (2 * self.C)) * np.sum(np.square(self.weight[1:]))\n",
      "/tmp/ipykernel_2381/1583406912.py:44: RuntimeWarning: overflow encountered in true_divide\n",
      "  reg_term = self.weight / self.C\n",
      "/tmp/ipykernel_2381/1583406912.py:70: RuntimeWarning: invalid value encountered in subtract\n",
      "  self.weight -= self.learning_rate * dW\n",
      "/tmp/ipykernel_2381/1583406912.py:35: RuntimeWarning: divide by zero encountered in log\n",
      "  return (-y * np.log(h) - (1 - y) * np.log(1 - h)).mean() + reg_term\n",
      "/tmp/ipykernel_2381/1583406912.py:25: RuntimeWarning: overflow encountered in exp\n",
      "  sig_prob = 1/(1 + np.exp(-q))\n",
      "/tmp/ipykernel_2381/1583406912.py:33: RuntimeWarning: overflow encountered in double_scalars\n",
      "  reg_term = (1 / (2 * self.C)) * np.sum(np.square(self.weight[1:]))\n",
      "/home/lab_services_student/anaconda3/lib/python3.9/site-packages/numpy/core/fromnumeric.py:86: RuntimeWarning: overflow encountered in reduce\n",
      "  return ufunc.reduce(obj, axis, dtype, out, **passkwargs)\n",
      "/tmp/ipykernel_2381/1583406912.py:33: RuntimeWarning: overflow encountered in square\n",
      "  reg_term = (1 / (2 * self.C)) * np.sum(np.square(self.weight[1:]))\n",
      "/tmp/ipykernel_2381/1583406912.py:44: RuntimeWarning: overflow encountered in true_divide\n",
      "  reg_term = self.weight / self.C\n",
      "/tmp/ipykernel_2381/1583406912.py:70: RuntimeWarning: invalid value encountered in subtract\n",
      "  self.weight -= self.learning_rate * dW\n",
      "/tmp/ipykernel_2381/1583406912.py:35: RuntimeWarning: divide by zero encountered in log\n",
      "  return (-y * np.log(h) - (1 - y) * np.log(1 - h)).mean() + reg_term\n",
      "/tmp/ipykernel_2381/1583406912.py:25: RuntimeWarning: overflow encountered in exp\n",
      "  sig_prob = 1/(1 + np.exp(-q))\n",
      "/tmp/ipykernel_2381/1583406912.py:33: RuntimeWarning: overflow encountered in double_scalars\n",
      "  reg_term = (1 / (2 * self.C)) * np.sum(np.square(self.weight[1:]))\n",
      "/home/lab_services_student/anaconda3/lib/python3.9/site-packages/numpy/core/fromnumeric.py:86: RuntimeWarning: overflow encountered in reduce\n",
      "  return ufunc.reduce(obj, axis, dtype, out, **passkwargs)\n",
      "/tmp/ipykernel_2381/1583406912.py:33: RuntimeWarning: overflow encountered in square\n",
      "  reg_term = (1 / (2 * self.C)) * np.sum(np.square(self.weight[1:]))\n",
      "/tmp/ipykernel_2381/1583406912.py:44: RuntimeWarning: overflow encountered in true_divide\n",
      "  reg_term = self.weight / self.C\n",
      "/tmp/ipykernel_2381/1583406912.py:70: RuntimeWarning: invalid value encountered in subtract\n",
      "  self.weight -= self.learning_rate * dW\n",
      "/tmp/ipykernel_2381/1583406912.py:35: RuntimeWarning: divide by zero encountered in log\n",
      "  return (-y * np.log(h) - (1 - y) * np.log(1 - h)).mean() + reg_term\n",
      "/tmp/ipykernel_2381/1583406912.py:25: RuntimeWarning: overflow encountered in exp\n",
      "  sig_prob = 1/(1 + np.exp(-q))\n",
      "/tmp/ipykernel_2381/1583406912.py:33: RuntimeWarning: overflow encountered in double_scalars\n",
      "  reg_term = (1 / (2 * self.C)) * np.sum(np.square(self.weight[1:]))\n",
      "/home/lab_services_student/anaconda3/lib/python3.9/site-packages/numpy/core/fromnumeric.py:86: RuntimeWarning: overflow encountered in reduce\n",
      "  return ufunc.reduce(obj, axis, dtype, out, **passkwargs)\n",
      "/tmp/ipykernel_2381/1583406912.py:33: RuntimeWarning: overflow encountered in square\n",
      "  reg_term = (1 / (2 * self.C)) * np.sum(np.square(self.weight[1:]))\n",
      "/tmp/ipykernel_2381/1583406912.py:44: RuntimeWarning: overflow encountered in true_divide\n",
      "  reg_term = self.weight / self.C\n",
      "/tmp/ipykernel_2381/1583406912.py:70: RuntimeWarning: invalid value encountered in subtract\n",
      "  self.weight -= self.learning_rate * dW\n",
      "/tmp/ipykernel_2381/1583406912.py:35: RuntimeWarning: divide by zero encountered in log\n",
      "  return (-y * np.log(h) - (1 - y) * np.log(1 - h)).mean() + reg_term\n",
      "/tmp/ipykernel_2381/1583406912.py:25: RuntimeWarning: overflow encountered in exp\n",
      "  sig_prob = 1/(1 + np.exp(-q))\n",
      "/home/lab_services_student/anaconda3/lib/python3.9/site-packages/numpy/core/fromnumeric.py:86: RuntimeWarning: overflow encountered in reduce\n",
      "  return ufunc.reduce(obj, axis, dtype, out, **passkwargs)\n",
      "/tmp/ipykernel_2381/1583406912.py:33: RuntimeWarning: overflow encountered in square\n",
      "  reg_term = (1 / (2 * self.C)) * np.sum(np.square(self.weight[1:]))\n",
      "/tmp/ipykernel_2381/1583406912.py:44: RuntimeWarning: overflow encountered in true_divide\n",
      "  reg_term = self.weight / self.C\n",
      "/tmp/ipykernel_2381/1583406912.py:35: RuntimeWarning: divide by zero encountered in log\n",
      "  return (-y * np.log(h) - (1 - y) * np.log(1 - h)).mean() + reg_term\n",
      "/tmp/ipykernel_2381/1583406912.py:25: RuntimeWarning: overflow encountered in exp\n",
      "  sig_prob = 1/(1 + np.exp(-q))\n",
      "/home/lab_services_student/anaconda3/lib/python3.9/site-packages/numpy/core/fromnumeric.py:86: RuntimeWarning: overflow encountered in reduce\n",
      "  return ufunc.reduce(obj, axis, dtype, out, **passkwargs)\n",
      "/tmp/ipykernel_2381/1583406912.py:33: RuntimeWarning: overflow encountered in square\n",
      "  reg_term = (1 / (2 * self.C)) * np.sum(np.square(self.weight[1:]))\n",
      "/tmp/ipykernel_2381/1583406912.py:44: RuntimeWarning: overflow encountered in true_divide\n",
      "  reg_term = self.weight / self.C\n",
      "/tmp/ipykernel_2381/1583406912.py:35: RuntimeWarning: divide by zero encountered in log\n",
      "  return (-y * np.log(h) - (1 - y) * np.log(1 - h)).mean() + reg_term\n",
      "/tmp/ipykernel_2381/1583406912.py:25: RuntimeWarning: overflow encountered in exp\n",
      "  sig_prob = 1/(1 + np.exp(-q))\n",
      "/home/lab_services_student/anaconda3/lib/python3.9/site-packages/numpy/core/fromnumeric.py:86: RuntimeWarning: overflow encountered in reduce\n",
      "  return ufunc.reduce(obj, axis, dtype, out, **passkwargs)\n",
      "/tmp/ipykernel_2381/1583406912.py:33: RuntimeWarning: overflow encountered in square\n",
      "  reg_term = (1 / (2 * self.C)) * np.sum(np.square(self.weight[1:]))\n",
      "/tmp/ipykernel_2381/1583406912.py:44: RuntimeWarning: overflow encountered in true_divide\n",
      "  reg_term = self.weight / self.C\n",
      "/tmp/ipykernel_2381/1583406912.py:35: RuntimeWarning: divide by zero encountered in log\n",
      "  return (-y * np.log(h) - (1 - y) * np.log(1 - h)).mean() + reg_term\n",
      "/tmp/ipykernel_2381/1583406912.py:25: RuntimeWarning: overflow encountered in exp\n",
      "  sig_prob = 1/(1 + np.exp(-q))\n",
      "/home/lab_services_student/anaconda3/lib/python3.9/site-packages/numpy/core/fromnumeric.py:86: RuntimeWarning: overflow encountered in reduce\n",
      "  return ufunc.reduce(obj, axis, dtype, out, **passkwargs)\n",
      "/tmp/ipykernel_2381/1583406912.py:33: RuntimeWarning: overflow encountered in square\n",
      "  reg_term = (1 / (2 * self.C)) * np.sum(np.square(self.weight[1:]))\n",
      "/tmp/ipykernel_2381/1583406912.py:44: RuntimeWarning: overflow encountered in true_divide\n",
      "  reg_term = self.weight / self.C\n",
      "/tmp/ipykernel_2381/1583406912.py:35: RuntimeWarning: divide by zero encountered in log\n",
      "  return (-y * np.log(h) - (1 - y) * np.log(1 - h)).mean() + reg_term\n",
      "/tmp/ipykernel_2381/1583406912.py:25: RuntimeWarning: overflow encountered in exp\n",
      "  sig_prob = 1/(1 + np.exp(-q))\n",
      "/home/lab_services_student/anaconda3/lib/python3.9/site-packages/numpy/core/fromnumeric.py:86: RuntimeWarning: overflow encountered in reduce\n",
      "  return ufunc.reduce(obj, axis, dtype, out, **passkwargs)\n",
      "/tmp/ipykernel_2381/1583406912.py:33: RuntimeWarning: overflow encountered in square\n",
      "  reg_term = (1 / (2 * self.C)) * np.sum(np.square(self.weight[1:]))\n",
      "/tmp/ipykernel_2381/1583406912.py:44: RuntimeWarning: overflow encountered in true_divide\n",
      "  reg_term = self.weight / self.C\n",
      "/tmp/ipykernel_2381/1583406912.py:35: RuntimeWarning: divide by zero encountered in log\n",
      "  return (-y * np.log(h) - (1 - y) * np.log(1 - h)).mean() + reg_term\n",
      "/tmp/ipykernel_2381/1583406912.py:25: RuntimeWarning: overflow encountered in exp\n",
      "  sig_prob = 1/(1 + np.exp(-q))\n",
      "/tmp/ipykernel_2381/1583406912.py:33: RuntimeWarning: overflow encountered in double_scalars\n",
      "  reg_term = (1 / (2 * self.C)) * np.sum(np.square(self.weight[1:]))\n",
      "/tmp/ipykernel_2381/1583406912.py:33: RuntimeWarning: overflow encountered in square\n",
      "  reg_term = (1 / (2 * self.C)) * np.sum(np.square(self.weight[1:]))\n",
      "/tmp/ipykernel_2381/1583406912.py:44: RuntimeWarning: overflow encountered in true_divide\n",
      "  reg_term = self.weight / self.C\n",
      "/tmp/ipykernel_2381/1583406912.py:35: RuntimeWarning: divide by zero encountered in log\n",
      "  return (-y * np.log(h) - (1 - y) * np.log(1 - h)).mean() + reg_term\n",
      "/tmp/ipykernel_2381/1583406912.py:25: RuntimeWarning: overflow encountered in exp\n",
      "  sig_prob = 1/(1 + np.exp(-q))\n",
      "/tmp/ipykernel_2381/1583406912.py:33: RuntimeWarning: overflow encountered in double_scalars\n",
      "  reg_term = (1 / (2 * self.C)) * np.sum(np.square(self.weight[1:]))\n",
      "/tmp/ipykernel_2381/1583406912.py:33: RuntimeWarning: overflow encountered in square\n",
      "  reg_term = (1 / (2 * self.C)) * np.sum(np.square(self.weight[1:]))\n",
      "/tmp/ipykernel_2381/1583406912.py:44: RuntimeWarning: overflow encountered in true_divide\n",
      "  reg_term = self.weight / self.C\n",
      "/tmp/ipykernel_2381/1583406912.py:35: RuntimeWarning: divide by zero encountered in log\n",
      "  return (-y * np.log(h) - (1 - y) * np.log(1 - h)).mean() + reg_term\n",
      "/tmp/ipykernel_2381/1583406912.py:25: RuntimeWarning: overflow encountered in exp\n",
      "  sig_prob = 1/(1 + np.exp(-q))\n",
      "/tmp/ipykernel_2381/1583406912.py:33: RuntimeWarning: overflow encountered in double_scalars\n",
      "  reg_term = (1 / (2 * self.C)) * np.sum(np.square(self.weight[1:]))\n",
      "/tmp/ipykernel_2381/1583406912.py:33: RuntimeWarning: overflow encountered in square\n",
      "  reg_term = (1 / (2 * self.C)) * np.sum(np.square(self.weight[1:]))\n",
      "/tmp/ipykernel_2381/1583406912.py:44: RuntimeWarning: overflow encountered in true_divide\n",
      "  reg_term = self.weight / self.C\n",
      "/tmp/ipykernel_2381/1583406912.py:35: RuntimeWarning: divide by zero encountered in log\n",
      "  return (-y * np.log(h) - (1 - y) * np.log(1 - h)).mean() + reg_term\n",
      "/tmp/ipykernel_2381/1583406912.py:25: RuntimeWarning: overflow encountered in exp\n",
      "  sig_prob = 1/(1 + np.exp(-q))\n",
      "/tmp/ipykernel_2381/1583406912.py:33: RuntimeWarning: overflow encountered in double_scalars\n",
      "  reg_term = (1 / (2 * self.C)) * np.sum(np.square(self.weight[1:]))\n",
      "/tmp/ipykernel_2381/1583406912.py:33: RuntimeWarning: overflow encountered in square\n",
      "  reg_term = (1 / (2 * self.C)) * np.sum(np.square(self.weight[1:]))\n",
      "/tmp/ipykernel_2381/1583406912.py:44: RuntimeWarning: overflow encountered in true_divide\n",
      "  reg_term = self.weight / self.C\n",
      "/tmp/ipykernel_2381/1583406912.py:35: RuntimeWarning: divide by zero encountered in log\n",
      "  return (-y * np.log(h) - (1 - y) * np.log(1 - h)).mean() + reg_term\n",
      "/tmp/ipykernel_2381/1583406912.py:25: RuntimeWarning: overflow encountered in exp\n",
      "  sig_prob = 1/(1 + np.exp(-q))\n",
      "/tmp/ipykernel_2381/1583406912.py:33: RuntimeWarning: overflow encountered in double_scalars\n",
      "  reg_term = (1 / (2 * self.C)) * np.sum(np.square(self.weight[1:]))\n",
      "/tmp/ipykernel_2381/1583406912.py:33: RuntimeWarning: overflow encountered in square\n",
      "  reg_term = (1 / (2 * self.C)) * np.sum(np.square(self.weight[1:]))\n",
      "/tmp/ipykernel_2381/1583406912.py:44: RuntimeWarning: overflow encountered in true_divide\n",
      "  reg_term = self.weight / self.C\n",
      "/tmp/ipykernel_2381/1583406912.py:25: RuntimeWarning: overflow encountered in exp\n",
      "  sig_prob = 1/(1 + np.exp(-q))\n",
      "/tmp/ipykernel_2381/1583406912.py:35: RuntimeWarning: divide by zero encountered in log\n",
      "  return (-y * np.log(h) - (1 - y) * np.log(1 - h)).mean() + reg_term\n",
      "/tmp/ipykernel_2381/1583406912.py:33: RuntimeWarning: overflow encountered in square\n",
      "  reg_term = (1 / (2 * self.C)) * np.sum(np.square(self.weight[1:]))\n",
      "/home/lab_services_student/anaconda3/lib/python3.9/site-packages/numpy/core/fromnumeric.py:86: RuntimeWarning: overflow encountered in reduce\n",
      "  return ufunc.reduce(obj, axis, dtype, out, **passkwargs)\n",
      "/tmp/ipykernel_2381/1583406912.py:44: RuntimeWarning: overflow encountered in true_divide\n",
      "  reg_term = self.weight / self.C\n",
      "/tmp/ipykernel_2381/1583406912.py:35: RuntimeWarning: divide by zero encountered in log\n",
      "  return (-y * np.log(h) - (1 - y) * np.log(1 - h)).mean() + reg_term\n",
      "/tmp/ipykernel_2381/1583406912.py:25: RuntimeWarning: overflow encountered in exp\n",
      "  sig_prob = 1/(1 + np.exp(-q))\n",
      "/tmp/ipykernel_2381/1583406912.py:33: RuntimeWarning: overflow encountered in square\n",
      "  reg_term = (1 / (2 * self.C)) * np.sum(np.square(self.weight[1:]))\n",
      "/tmp/ipykernel_2381/1583406912.py:44: RuntimeWarning: overflow encountered in true_divide\n",
      "  reg_term = self.weight / self.C\n",
      "/tmp/ipykernel_2381/1583406912.py:35: RuntimeWarning: divide by zero encountered in log\n",
      "  return (-y * np.log(h) - (1 - y) * np.log(1 - h)).mean() + reg_term\n",
      "/tmp/ipykernel_2381/1583406912.py:25: RuntimeWarning: overflow encountered in exp\n",
      "  sig_prob = 1/(1 + np.exp(-q))\n",
      "/tmp/ipykernel_2381/1583406912.py:33: RuntimeWarning: overflow encountered in square\n",
      "  reg_term = (1 / (2 * self.C)) * np.sum(np.square(self.weight[1:]))\n",
      "/tmp/ipykernel_2381/1583406912.py:44: RuntimeWarning: overflow encountered in true_divide\n",
      "  reg_term = self.weight / self.C\n",
      "/tmp/ipykernel_2381/1583406912.py:35: RuntimeWarning: divide by zero encountered in log\n",
      "  return (-y * np.log(h) - (1 - y) * np.log(1 - h)).mean() + reg_term\n",
      "/tmp/ipykernel_2381/1583406912.py:25: RuntimeWarning: overflow encountered in exp\n",
      "  sig_prob = 1/(1 + np.exp(-q))\n",
      "/tmp/ipykernel_2381/1583406912.py:33: RuntimeWarning: overflow encountered in square\n",
      "  reg_term = (1 / (2 * self.C)) * np.sum(np.square(self.weight[1:]))\n",
      "/tmp/ipykernel_2381/1583406912.py:44: RuntimeWarning: overflow encountered in true_divide\n",
      "  reg_term = self.weight / self.C\n",
      "/tmp/ipykernel_2381/1583406912.py:35: RuntimeWarning: divide by zero encountered in log\n",
      "  return (-y * np.log(h) - (1 - y) * np.log(1 - h)).mean() + reg_term\n",
      "/tmp/ipykernel_2381/1583406912.py:25: RuntimeWarning: overflow encountered in exp\n",
      "  sig_prob = 1/(1 + np.exp(-q))\n",
      "/tmp/ipykernel_2381/1583406912.py:33: RuntimeWarning: overflow encountered in square\n",
      "  reg_term = (1 / (2 * self.C)) * np.sum(np.square(self.weight[1:]))\n",
      "/home/lab_services_student/anaconda3/lib/python3.9/site-packages/numpy/core/fromnumeric.py:86: RuntimeWarning: overflow encountered in reduce\n",
      "  return ufunc.reduce(obj, axis, dtype, out, **passkwargs)\n",
      "/tmp/ipykernel_2381/1583406912.py:44: RuntimeWarning: overflow encountered in true_divide\n",
      "  reg_term = self.weight / self.C\n",
      "/tmp/ipykernel_2381/1583406912.py:35: RuntimeWarning: divide by zero encountered in log\n",
      "  return (-y * np.log(h) - (1 - y) * np.log(1 - h)).mean() + reg_term\n",
      "/tmp/ipykernel_2381/1583406912.py:35: RuntimeWarning: divide by zero encountered in log\n",
      "  return (-y * np.log(h) - (1 - y) * np.log(1 - h)).mean() + reg_term\n",
      "/tmp/ipykernel_2381/1583406912.py:35: RuntimeWarning: divide by zero encountered in log\n",
      "  return (-y * np.log(h) - (1 - y) * np.log(1 - h)).mean() + reg_term\n",
      "/tmp/ipykernel_2381/1583406912.py:35: RuntimeWarning: divide by zero encountered in log\n",
      "  return (-y * np.log(h) - (1 - y) * np.log(1 - h)).mean() + reg_term\n",
      "/tmp/ipykernel_2381/1583406912.py:35: RuntimeWarning: divide by zero encountered in log\n",
      "  return (-y * np.log(h) - (1 - y) * np.log(1 - h)).mean() + reg_term\n",
      "/tmp/ipykernel_2381/1583406912.py:35: RuntimeWarning: divide by zero encountered in log\n",
      "  return (-y * np.log(h) - (1 - y) * np.log(1 - h)).mean() + reg_term\n",
      "/tmp/ipykernel_2381/1583406912.py:25: RuntimeWarning: overflow encountered in exp\n",
      "  sig_prob = 1/(1 + np.exp(-q))\n",
      "/tmp/ipykernel_2381/1583406912.py:33: RuntimeWarning: overflow encountered in double_scalars\n",
      "  reg_term = (1 / (2 * self.C)) * np.sum(np.square(self.weight[1:]))\n",
      "/tmp/ipykernel_2381/1583406912.py:33: RuntimeWarning: overflow encountered in square\n",
      "  reg_term = (1 / (2 * self.C)) * np.sum(np.square(self.weight[1:]))\n",
      "/tmp/ipykernel_2381/1583406912.py:44: RuntimeWarning: overflow encountered in true_divide\n",
      "  reg_term = self.weight / self.C\n",
      "/tmp/ipykernel_2381/1583406912.py:35: RuntimeWarning: divide by zero encountered in log\n",
      "  return (-y * np.log(h) - (1 - y) * np.log(1 - h)).mean() + reg_term\n",
      "/tmp/ipykernel_2381/1583406912.py:25: RuntimeWarning: overflow encountered in exp\n",
      "  sig_prob = 1/(1 + np.exp(-q))\n",
      "/tmp/ipykernel_2381/1583406912.py:33: RuntimeWarning: overflow encountered in double_scalars\n",
      "  reg_term = (1 / (2 * self.C)) * np.sum(np.square(self.weight[1:]))\n",
      "/tmp/ipykernel_2381/1583406912.py:33: RuntimeWarning: overflow encountered in square\n",
      "  reg_term = (1 / (2 * self.C)) * np.sum(np.square(self.weight[1:]))\n",
      "/tmp/ipykernel_2381/1583406912.py:44: RuntimeWarning: overflow encountered in true_divide\n",
      "  reg_term = self.weight / self.C\n",
      "/tmp/ipykernel_2381/1583406912.py:35: RuntimeWarning: divide by zero encountered in log\n",
      "  return (-y * np.log(h) - (1 - y) * np.log(1 - h)).mean() + reg_term\n",
      "/tmp/ipykernel_2381/1583406912.py:25: RuntimeWarning: overflow encountered in exp\n",
      "  sig_prob = 1/(1 + np.exp(-q))\n",
      "/tmp/ipykernel_2381/1583406912.py:33: RuntimeWarning: overflow encountered in double_scalars\n",
      "  reg_term = (1 / (2 * self.C)) * np.sum(np.square(self.weight[1:]))\n",
      "/tmp/ipykernel_2381/1583406912.py:33: RuntimeWarning: overflow encountered in square\n",
      "  reg_term = (1 / (2 * self.C)) * np.sum(np.square(self.weight[1:]))\n",
      "/tmp/ipykernel_2381/1583406912.py:44: RuntimeWarning: overflow encountered in true_divide\n",
      "  reg_term = self.weight / self.C\n",
      "/tmp/ipykernel_2381/1583406912.py:35: RuntimeWarning: divide by zero encountered in log\n",
      "  return (-y * np.log(h) - (1 - y) * np.log(1 - h)).mean() + reg_term\n",
      "/tmp/ipykernel_2381/1583406912.py:25: RuntimeWarning: overflow encountered in exp\n",
      "  sig_prob = 1/(1 + np.exp(-q))\n",
      "/tmp/ipykernel_2381/1583406912.py:33: RuntimeWarning: overflow encountered in double_scalars\n",
      "  reg_term = (1 / (2 * self.C)) * np.sum(np.square(self.weight[1:]))\n",
      "/tmp/ipykernel_2381/1583406912.py:33: RuntimeWarning: overflow encountered in square\n",
      "  reg_term = (1 / (2 * self.C)) * np.sum(np.square(self.weight[1:]))\n",
      "/tmp/ipykernel_2381/1583406912.py:44: RuntimeWarning: overflow encountered in true_divide\n",
      "  reg_term = self.weight / self.C\n",
      "/tmp/ipykernel_2381/1583406912.py:35: RuntimeWarning: divide by zero encountered in log\n",
      "  return (-y * np.log(h) - (1 - y) * np.log(1 - h)).mean() + reg_term\n",
      "/tmp/ipykernel_2381/1583406912.py:25: RuntimeWarning: overflow encountered in exp\n",
      "  sig_prob = 1/(1 + np.exp(-q))\n",
      "/tmp/ipykernel_2381/1583406912.py:33: RuntimeWarning: overflow encountered in double_scalars\n",
      "  reg_term = (1 / (2 * self.C)) * np.sum(np.square(self.weight[1:]))\n",
      "/tmp/ipykernel_2381/1583406912.py:33: RuntimeWarning: overflow encountered in square\n",
      "  reg_term = (1 / (2 * self.C)) * np.sum(np.square(self.weight[1:]))\n",
      "/tmp/ipykernel_2381/1583406912.py:44: RuntimeWarning: overflow encountered in true_divide\n",
      "  reg_term = self.weight / self.C\n"
     ]
    },
    {
     "data": {
      "text/html": [
       "<style>#sk-container-id-3 {\n",
       "  /* Definition of color scheme common for light and dark mode */\n",
       "  --sklearn-color-text: black;\n",
       "  --sklearn-color-line: gray;\n",
       "  /* Definition of color scheme for unfitted estimators */\n",
       "  --sklearn-color-unfitted-level-0: #fff5e6;\n",
       "  --sklearn-color-unfitted-level-1: #f6e4d2;\n",
       "  --sklearn-color-unfitted-level-2: #ffe0b3;\n",
       "  --sklearn-color-unfitted-level-3: chocolate;\n",
       "  /* Definition of color scheme for fitted estimators */\n",
       "  --sklearn-color-fitted-level-0: #f0f8ff;\n",
       "  --sklearn-color-fitted-level-1: #d4ebff;\n",
       "  --sklearn-color-fitted-level-2: #b3dbfd;\n",
       "  --sklearn-color-fitted-level-3: cornflowerblue;\n",
       "\n",
       "  /* Specific color for light theme */\n",
       "  --sklearn-color-text-on-default-background: var(--sg-text-color, var(--theme-code-foreground, var(--jp-content-font-color1, black)));\n",
       "  --sklearn-color-background: var(--sg-background-color, var(--theme-background, var(--jp-layout-color0, white)));\n",
       "  --sklearn-color-border-box: var(--sg-text-color, var(--theme-code-foreground, var(--jp-content-font-color1, black)));\n",
       "  --sklearn-color-icon: #696969;\n",
       "\n",
       "  @media (prefers-color-scheme: dark) {\n",
       "    /* Redefinition of color scheme for dark theme */\n",
       "    --sklearn-color-text-on-default-background: var(--sg-text-color, var(--theme-code-foreground, var(--jp-content-font-color1, white)));\n",
       "    --sklearn-color-background: var(--sg-background-color, var(--theme-background, var(--jp-layout-color0, #111)));\n",
       "    --sklearn-color-border-box: var(--sg-text-color, var(--theme-code-foreground, var(--jp-content-font-color1, white)));\n",
       "    --sklearn-color-icon: #878787;\n",
       "  }\n",
       "}\n",
       "\n",
       "#sk-container-id-3 {\n",
       "  color: var(--sklearn-color-text);\n",
       "}\n",
       "\n",
       "#sk-container-id-3 pre {\n",
       "  padding: 0;\n",
       "}\n",
       "\n",
       "#sk-container-id-3 input.sk-hidden--visually {\n",
       "  border: 0;\n",
       "  clip: rect(1px 1px 1px 1px);\n",
       "  clip: rect(1px, 1px, 1px, 1px);\n",
       "  height: 1px;\n",
       "  margin: -1px;\n",
       "  overflow: hidden;\n",
       "  padding: 0;\n",
       "  position: absolute;\n",
       "  width: 1px;\n",
       "}\n",
       "\n",
       "#sk-container-id-3 div.sk-dashed-wrapped {\n",
       "  border: 1px dashed var(--sklearn-color-line);\n",
       "  margin: 0 0.4em 0.5em 0.4em;\n",
       "  box-sizing: border-box;\n",
       "  padding-bottom: 0.4em;\n",
       "  background-color: var(--sklearn-color-background);\n",
       "}\n",
       "\n",
       "#sk-container-id-3 div.sk-container {\n",
       "  /* jupyter's `normalize.less` sets `[hidden] { display: none; }`\n",
       "     but bootstrap.min.css set `[hidden] { display: none !important; }`\n",
       "     so we also need the `!important` here to be able to override the\n",
       "     default hidden behavior on the sphinx rendered scikit-learn.org.\n",
       "     See: https://github.com/scikit-learn/scikit-learn/issues/21755 */\n",
       "  display: inline-block !important;\n",
       "  position: relative;\n",
       "}\n",
       "\n",
       "#sk-container-id-3 div.sk-text-repr-fallback {\n",
       "  display: none;\n",
       "}\n",
       "\n",
       "div.sk-parallel-item,\n",
       "div.sk-serial,\n",
       "div.sk-item {\n",
       "  /* draw centered vertical line to link estimators */\n",
       "  background-image: linear-gradient(var(--sklearn-color-text-on-default-background), var(--sklearn-color-text-on-default-background));\n",
       "  background-size: 2px 100%;\n",
       "  background-repeat: no-repeat;\n",
       "  background-position: center center;\n",
       "}\n",
       "\n",
       "/* Parallel-specific style estimator block */\n",
       "\n",
       "#sk-container-id-3 div.sk-parallel-item::after {\n",
       "  content: \"\";\n",
       "  width: 100%;\n",
       "  border-bottom: 2px solid var(--sklearn-color-text-on-default-background);\n",
       "  flex-grow: 1;\n",
       "}\n",
       "\n",
       "#sk-container-id-3 div.sk-parallel {\n",
       "  display: flex;\n",
       "  align-items: stretch;\n",
       "  justify-content: center;\n",
       "  background-color: var(--sklearn-color-background);\n",
       "  position: relative;\n",
       "}\n",
       "\n",
       "#sk-container-id-3 div.sk-parallel-item {\n",
       "  display: flex;\n",
       "  flex-direction: column;\n",
       "}\n",
       "\n",
       "#sk-container-id-3 div.sk-parallel-item:first-child::after {\n",
       "  align-self: flex-end;\n",
       "  width: 50%;\n",
       "}\n",
       "\n",
       "#sk-container-id-3 div.sk-parallel-item:last-child::after {\n",
       "  align-self: flex-start;\n",
       "  width: 50%;\n",
       "}\n",
       "\n",
       "#sk-container-id-3 div.sk-parallel-item:only-child::after {\n",
       "  width: 0;\n",
       "}\n",
       "\n",
       "/* Serial-specific style estimator block */\n",
       "\n",
       "#sk-container-id-3 div.sk-serial {\n",
       "  display: flex;\n",
       "  flex-direction: column;\n",
       "  align-items: center;\n",
       "  background-color: var(--sklearn-color-background);\n",
       "  padding-right: 1em;\n",
       "  padding-left: 1em;\n",
       "}\n",
       "\n",
       "\n",
       "/* Toggleable style: style used for estimator/Pipeline/ColumnTransformer box that is\n",
       "clickable and can be expanded/collapsed.\n",
       "- Pipeline and ColumnTransformer use this feature and define the default style\n",
       "- Estimators will overwrite some part of the style using the `sk-estimator` class\n",
       "*/\n",
       "\n",
       "/* Pipeline and ColumnTransformer style (default) */\n",
       "\n",
       "#sk-container-id-3 div.sk-toggleable {\n",
       "  /* Default theme specific background. It is overwritten whether we have a\n",
       "  specific estimator or a Pipeline/ColumnTransformer */\n",
       "  background-color: var(--sklearn-color-background);\n",
       "}\n",
       "\n",
       "/* Toggleable label */\n",
       "#sk-container-id-3 label.sk-toggleable__label {\n",
       "  cursor: pointer;\n",
       "  display: block;\n",
       "  width: 100%;\n",
       "  margin-bottom: 0;\n",
       "  padding: 0.5em;\n",
       "  box-sizing: border-box;\n",
       "  text-align: center;\n",
       "}\n",
       "\n",
       "#sk-container-id-3 label.sk-toggleable__label-arrow:before {\n",
       "  /* Arrow on the left of the label */\n",
       "  content: \"▸\";\n",
       "  float: left;\n",
       "  margin-right: 0.25em;\n",
       "  color: var(--sklearn-color-icon);\n",
       "}\n",
       "\n",
       "#sk-container-id-3 label.sk-toggleable__label-arrow:hover:before {\n",
       "  color: var(--sklearn-color-text);\n",
       "}\n",
       "\n",
       "/* Toggleable content - dropdown */\n",
       "\n",
       "#sk-container-id-3 div.sk-toggleable__content {\n",
       "  max-height: 0;\n",
       "  max-width: 0;\n",
       "  overflow: hidden;\n",
       "  text-align: left;\n",
       "  /* unfitted */\n",
       "  background-color: var(--sklearn-color-unfitted-level-0);\n",
       "}\n",
       "\n",
       "#sk-container-id-3 div.sk-toggleable__content.fitted {\n",
       "  /* fitted */\n",
       "  background-color: var(--sklearn-color-fitted-level-0);\n",
       "}\n",
       "\n",
       "#sk-container-id-3 div.sk-toggleable__content pre {\n",
       "  margin: 0.2em;\n",
       "  border-radius: 0.25em;\n",
       "  color: var(--sklearn-color-text);\n",
       "  /* unfitted */\n",
       "  background-color: var(--sklearn-color-unfitted-level-0);\n",
       "}\n",
       "\n",
       "#sk-container-id-3 div.sk-toggleable__content.fitted pre {\n",
       "  /* unfitted */\n",
       "  background-color: var(--sklearn-color-fitted-level-0);\n",
       "}\n",
       "\n",
       "#sk-container-id-3 input.sk-toggleable__control:checked~div.sk-toggleable__content {\n",
       "  /* Expand drop-down */\n",
       "  max-height: 200px;\n",
       "  max-width: 100%;\n",
       "  overflow: auto;\n",
       "}\n",
       "\n",
       "#sk-container-id-3 input.sk-toggleable__control:checked~label.sk-toggleable__label-arrow:before {\n",
       "  content: \"▾\";\n",
       "}\n",
       "\n",
       "/* Pipeline/ColumnTransformer-specific style */\n",
       "\n",
       "#sk-container-id-3 div.sk-label input.sk-toggleable__control:checked~label.sk-toggleable__label {\n",
       "  color: var(--sklearn-color-text);\n",
       "  background-color: var(--sklearn-color-unfitted-level-2);\n",
       "}\n",
       "\n",
       "#sk-container-id-3 div.sk-label.fitted input.sk-toggleable__control:checked~label.sk-toggleable__label {\n",
       "  background-color: var(--sklearn-color-fitted-level-2);\n",
       "}\n",
       "\n",
       "/* Estimator-specific style */\n",
       "\n",
       "/* Colorize estimator box */\n",
       "#sk-container-id-3 div.sk-estimator input.sk-toggleable__control:checked~label.sk-toggleable__label {\n",
       "  /* unfitted */\n",
       "  background-color: var(--sklearn-color-unfitted-level-2);\n",
       "}\n",
       "\n",
       "#sk-container-id-3 div.sk-estimator.fitted input.sk-toggleable__control:checked~label.sk-toggleable__label {\n",
       "  /* fitted */\n",
       "  background-color: var(--sklearn-color-fitted-level-2);\n",
       "}\n",
       "\n",
       "#sk-container-id-3 div.sk-label label.sk-toggleable__label,\n",
       "#sk-container-id-3 div.sk-label label {\n",
       "  /* The background is the default theme color */\n",
       "  color: var(--sklearn-color-text-on-default-background);\n",
       "}\n",
       "\n",
       "/* On hover, darken the color of the background */\n",
       "#sk-container-id-3 div.sk-label:hover label.sk-toggleable__label {\n",
       "  color: var(--sklearn-color-text);\n",
       "  background-color: var(--sklearn-color-unfitted-level-2);\n",
       "}\n",
       "\n",
       "/* Label box, darken color on hover, fitted */\n",
       "#sk-container-id-3 div.sk-label.fitted:hover label.sk-toggleable__label.fitted {\n",
       "  color: var(--sklearn-color-text);\n",
       "  background-color: var(--sklearn-color-fitted-level-2);\n",
       "}\n",
       "\n",
       "/* Estimator label */\n",
       "\n",
       "#sk-container-id-3 div.sk-label label {\n",
       "  font-family: monospace;\n",
       "  font-weight: bold;\n",
       "  display: inline-block;\n",
       "  line-height: 1.2em;\n",
       "}\n",
       "\n",
       "#sk-container-id-3 div.sk-label-container {\n",
       "  text-align: center;\n",
       "}\n",
       "\n",
       "/* Estimator-specific */\n",
       "#sk-container-id-3 div.sk-estimator {\n",
       "  font-family: monospace;\n",
       "  border: 1px dotted var(--sklearn-color-border-box);\n",
       "  border-radius: 0.25em;\n",
       "  box-sizing: border-box;\n",
       "  margin-bottom: 0.5em;\n",
       "  /* unfitted */\n",
       "  background-color: var(--sklearn-color-unfitted-level-0);\n",
       "}\n",
       "\n",
       "#sk-container-id-3 div.sk-estimator.fitted {\n",
       "  /* fitted */\n",
       "  background-color: var(--sklearn-color-fitted-level-0);\n",
       "}\n",
       "\n",
       "/* on hover */\n",
       "#sk-container-id-3 div.sk-estimator:hover {\n",
       "  /* unfitted */\n",
       "  background-color: var(--sklearn-color-unfitted-level-2);\n",
       "}\n",
       "\n",
       "#sk-container-id-3 div.sk-estimator.fitted:hover {\n",
       "  /* fitted */\n",
       "  background-color: var(--sklearn-color-fitted-level-2);\n",
       "}\n",
       "\n",
       "/* Specification for estimator info (e.g. \"i\" and \"?\") */\n",
       "\n",
       "/* Common style for \"i\" and \"?\" */\n",
       "\n",
       ".sk-estimator-doc-link,\n",
       "a:link.sk-estimator-doc-link,\n",
       "a:visited.sk-estimator-doc-link {\n",
       "  float: right;\n",
       "  font-size: smaller;\n",
       "  line-height: 1em;\n",
       "  font-family: monospace;\n",
       "  background-color: var(--sklearn-color-background);\n",
       "  border-radius: 1em;\n",
       "  height: 1em;\n",
       "  width: 1em;\n",
       "  text-decoration: none !important;\n",
       "  margin-left: 1ex;\n",
       "  /* unfitted */\n",
       "  border: var(--sklearn-color-unfitted-level-1) 1pt solid;\n",
       "  color: var(--sklearn-color-unfitted-level-1);\n",
       "}\n",
       "\n",
       ".sk-estimator-doc-link.fitted,\n",
       "a:link.sk-estimator-doc-link.fitted,\n",
       "a:visited.sk-estimator-doc-link.fitted {\n",
       "  /* fitted */\n",
       "  border: var(--sklearn-color-fitted-level-1) 1pt solid;\n",
       "  color: var(--sklearn-color-fitted-level-1);\n",
       "}\n",
       "\n",
       "/* On hover */\n",
       "div.sk-estimator:hover .sk-estimator-doc-link:hover,\n",
       ".sk-estimator-doc-link:hover,\n",
       "div.sk-label-container:hover .sk-estimator-doc-link:hover,\n",
       ".sk-estimator-doc-link:hover {\n",
       "  /* unfitted */\n",
       "  background-color: var(--sklearn-color-unfitted-level-3);\n",
       "  color: var(--sklearn-color-background);\n",
       "  text-decoration: none;\n",
       "}\n",
       "\n",
       "div.sk-estimator.fitted:hover .sk-estimator-doc-link.fitted:hover,\n",
       ".sk-estimator-doc-link.fitted:hover,\n",
       "div.sk-label-container:hover .sk-estimator-doc-link.fitted:hover,\n",
       ".sk-estimator-doc-link.fitted:hover {\n",
       "  /* fitted */\n",
       "  background-color: var(--sklearn-color-fitted-level-3);\n",
       "  color: var(--sklearn-color-background);\n",
       "  text-decoration: none;\n",
       "}\n",
       "\n",
       "/* Span, style for the box shown on hovering the info icon */\n",
       ".sk-estimator-doc-link span {\n",
       "  display: none;\n",
       "  z-index: 9999;\n",
       "  position: relative;\n",
       "  font-weight: normal;\n",
       "  right: .2ex;\n",
       "  padding: .5ex;\n",
       "  margin: .5ex;\n",
       "  width: min-content;\n",
       "  min-width: 20ex;\n",
       "  max-width: 50ex;\n",
       "  color: var(--sklearn-color-text);\n",
       "  box-shadow: 2pt 2pt 4pt #999;\n",
       "  /* unfitted */\n",
       "  background: var(--sklearn-color-unfitted-level-0);\n",
       "  border: .5pt solid var(--sklearn-color-unfitted-level-3);\n",
       "}\n",
       "\n",
       ".sk-estimator-doc-link.fitted span {\n",
       "  /* fitted */\n",
       "  background: var(--sklearn-color-fitted-level-0);\n",
       "  border: var(--sklearn-color-fitted-level-3);\n",
       "}\n",
       "\n",
       ".sk-estimator-doc-link:hover span {\n",
       "  display: block;\n",
       "}\n",
       "\n",
       "/* \"?\"-specific style due to the `<a>` HTML tag */\n",
       "\n",
       "#sk-container-id-3 a.estimator_doc_link {\n",
       "  float: right;\n",
       "  font-size: 1rem;\n",
       "  line-height: 1em;\n",
       "  font-family: monospace;\n",
       "  background-color: var(--sklearn-color-background);\n",
       "  border-radius: 1rem;\n",
       "  height: 1rem;\n",
       "  width: 1rem;\n",
       "  text-decoration: none;\n",
       "  /* unfitted */\n",
       "  color: var(--sklearn-color-unfitted-level-1);\n",
       "  border: var(--sklearn-color-unfitted-level-1) 1pt solid;\n",
       "}\n",
       "\n",
       "#sk-container-id-3 a.estimator_doc_link.fitted {\n",
       "  /* fitted */\n",
       "  border: var(--sklearn-color-fitted-level-1) 1pt solid;\n",
       "  color: var(--sklearn-color-fitted-level-1);\n",
       "}\n",
       "\n",
       "/* On hover */\n",
       "#sk-container-id-3 a.estimator_doc_link:hover {\n",
       "  /* unfitted */\n",
       "  background-color: var(--sklearn-color-unfitted-level-3);\n",
       "  color: var(--sklearn-color-background);\n",
       "  text-decoration: none;\n",
       "}\n",
       "\n",
       "#sk-container-id-3 a.estimator_doc_link.fitted:hover {\n",
       "  /* fitted */\n",
       "  background-color: var(--sklearn-color-fitted-level-3);\n",
       "}\n",
       "</style><div id=\"sk-container-id-3\" class=\"sk-top-container\"><div class=\"sk-text-repr-fallback\"><pre>GridSearchCV(cv=5, estimator=&lt;__main__.LogReg object at 0x7fa0656d5040&gt;,\n",
       "             param_grid={&#x27;C&#x27;: [0.01, 0.1, 1, 10, 100],\n",
       "                         &#x27;learning_rate&#x27;: [0.001, 0.01, 0.05, 0.1, 0.2, 0.5]},\n",
       "             scoring=&#x27;accuracy&#x27;)</pre><b>In a Jupyter environment, please rerun this cell to show the HTML representation or trust the notebook. <br />On GitHub, the HTML representation is unable to render, please try loading this page with nbviewer.org.</b></div><div class=\"sk-container\" hidden><div class=\"sk-item sk-dashed-wrapped\"><div class=\"sk-label-container\"><div class=\"sk-label fitted sk-toggleable\"><input class=\"sk-toggleable__control sk-hidden--visually\" id=\"sk-estimator-id-7\" type=\"checkbox\" ><label for=\"sk-estimator-id-7\" class=\"sk-toggleable__label fitted sk-toggleable__label-arrow fitted\">&nbsp;&nbsp;GridSearchCV<a class=\"sk-estimator-doc-link fitted\" rel=\"noreferrer\" target=\"_blank\" href=\"https://scikit-learn.org/1.5/modules/generated/sklearn.model_selection.GridSearchCV.html\">?<span>Documentation for GridSearchCV</span></a><span class=\"sk-estimator-doc-link fitted\">i<span>Fitted</span></span></label><div class=\"sk-toggleable__content fitted\"><pre>GridSearchCV(cv=5, estimator=&lt;__main__.LogReg object at 0x7fa0656d5040&gt;,\n",
       "             param_grid={&#x27;C&#x27;: [0.01, 0.1, 1, 10, 100],\n",
       "                         &#x27;learning_rate&#x27;: [0.001, 0.01, 0.05, 0.1, 0.2, 0.5]},\n",
       "             scoring=&#x27;accuracy&#x27;)</pre></div> </div></div><div class=\"sk-parallel\"><div class=\"sk-parallel-item\"><div class=\"sk-item\"><div class=\"sk-label-container\"><div class=\"sk-label fitted sk-toggleable\"><input class=\"sk-toggleable__control sk-hidden--visually\" id=\"sk-estimator-id-8\" type=\"checkbox\" ><label for=\"sk-estimator-id-8\" class=\"sk-toggleable__label fitted sk-toggleable__label-arrow fitted\">best_estimator_: LogReg</label><div class=\"sk-toggleable__content fitted\"><pre>&lt;__main__.LogReg object at 0x7fa0656f3eb0&gt;</pre></div> </div></div><div class=\"sk-serial\"><div class=\"sk-item\"><div class=\"sk-estimator fitted sk-toggleable\"><input class=\"sk-toggleable__control sk-hidden--visually\" id=\"sk-estimator-id-9\" type=\"checkbox\" ><label for=\"sk-estimator-id-9\" class=\"sk-toggleable__label fitted sk-toggleable__label-arrow fitted\">LogReg</label><div class=\"sk-toggleable__content fitted\"><pre>&lt;__main__.LogReg object at 0x7fa0656f3eb0&gt;</pre></div> </div></div></div></div></div></div></div></div></div>"
      ],
      "text/plain": [
       "GridSearchCV(cv=5, estimator=<__main__.LogReg object at 0x7fa0656d5040>,\n",
       "             param_grid={'C': [0.01, 0.1, 1, 10, 100],\n",
       "                         'learning_rate': [0.001, 0.01, 0.05, 0.1, 0.2, 0.5]},\n",
       "             scoring='accuracy')"
      ]
     },
     "execution_count": 128,
     "metadata": {},
     "output_type": "execute_result"
    }
   ],
   "source": [
    "# instantiating and fitting GridSearchCV with 5 fold cross validation\n",
    "grid = GridSearchCV(estimator=logreg, param_grid=param_grid, cv=5, scoring='accuracy')\n",
    "grid.fit(X_train, y_train)"
   ]
  },
  {
   "cell_type": "markdown",
   "metadata": {},
   "source": [
    "Let's see what the model with the best parameters was, along with it's validation score."
   ]
  },
  {
   "cell_type": "code",
   "execution_count": 129,
   "metadata": {},
   "outputs": [
    {
     "name": "stdout",
     "output_type": "stream",
     "text": [
      "Best parameters: {'C': 100, 'learning_rate': 0.05}\n",
      "Validation score: 0.9019\n"
     ]
    }
   ],
   "source": [
    "# best parameters\n",
    "print(\"Best parameters: {}\\nValidation score: {:.4f}\".format(grid.best_params_, grid.best_score_))"
   ]
  },
  {
   "cell_type": "markdown",
   "metadata": {},
   "source": [
    "We get an impressive validation score of approximately 90.15% on our training set. Let's investigate the accuracy score on out testing set to see how it compares."
   ]
  },
  {
   "cell_type": "code",
   "execution_count": 130,
   "metadata": {},
   "outputs": [
    {
     "name": "stdout",
     "output_type": "stream",
     "text": [
      "Test set score: 0.9020\n"
     ]
    }
   ],
   "source": [
    "# Test set score\n",
    "print(\"Test set score: {:.4f}\".format(grid.score(X_test, y_test)))"
   ]
  },
  {
   "cell_type": "markdown",
   "metadata": {},
   "source": [
    "Our model seems to be very well fit looking at how similar our test score is to our validation score. However, accuracy alone is not the best metric for model evaluation. Let's dive depper into our model's classification performance."
   ]
  },
  {
   "cell_type": "markdown",
   "metadata": {},
   "source": [
    "#### 4.5.2. Model Evaluation Part 1 - Confusion matrix and classification report\n",
    "\n",
    "We start off with our confusion matrix, which we can easily create using the confusion_matrix() method from Scikit-learn's metrics module, then plot it using Seaborn's heatmap() method:"
   ]
  },
  {
   "cell_type": "code",
   "execution_count": 131,
   "metadata": {},
   "outputs": [
    {
     "data": {
      "text/plain": [
       "Text(0.5, 1.0, 'Confusion Matrix')"
      ]
     },
     "execution_count": 131,
     "metadata": {},
     "output_type": "execute_result"
    },
    {
     "data": {
      "image/png": "[encoded data removed]",
      "text/plain": [
       "<Figure size 360x216 with 1 Axes>"
      ]
     },
     "metadata": {
      "needs_background": "light"
     },
     "output_type": "display_data"
    }
   ],
   "source": [
    "# Confusion matrix\n",
    "y_pred = grid.predict(X_test)\n",
    "cm = confusion_matrix(y_test, y_pred, labels=[1, 0])\n",
    "\n",
    "# Plot confusion matrix\n",
    "plt.rcParams['figure.figsize'] = (5, 3)\n",
    "sns.heatmap(cm, annot=True, fmt=\"d\", cmap=\"Blues\", cbar=False, linecolor='black', linewidth=0.2, \n",
    "           xticklabels=[1, 0], yticklabels=[1, 0])\n",
    "plt.xlabel(\"Predicted labels\")\n",
    "plt.ylabel(\"Actual labels\")\n",
    "plt.title(\"Confusion Matrix\")"
   ]
  },
  {
   "cell_type": "markdown",
   "metadata": {},
   "source": [
    "From this confusion matrix, we gather that our logistic regression model produced the following classification results on the testing set with regards to predicting customer churn:\n",
    "\n",
    "- 951 true positives (TP - upper left), which means that it predicted 951 customers to have churned that actually did churn.\n",
    "- 172 false negatives (FN - upper right), which means that it predicted 172 customers to be non-churned that actually had churned.\n",
    "- 48 false positives (FP - lower left), which means that it predicted 48 customers to be churned that actually were non-churned.\n",
    "- 1075 true negatives (TN - lower right), which means that it predicted 1075 customers to be non-churned that actually were non-churned.\n",
    "\n",
    "The model produced relatively low type 1 and 2 errors (FPs and FNs respectively) in proportion to its TPs and TNs. To better understand this model's performance regarding our goal (investigating how well a logistic regression model built from scratch can predict customer churn), lets take a look at our classification report using the classicifcation_report() method from Scikit-learn's metrics module:"
   ]
  },
  {
   "cell_type": "code",
   "execution_count": 132,
   "metadata": {},
   "outputs": [
    {
     "name": "stdout",
     "output_type": "stream",
     "text": [
      "              precision    recall  f1-score   support\n",
      "\n",
      "           0       0.86      0.96      0.91      1123\n",
      "           1       0.95      0.85      0.90      1123\n",
      "\n",
      "    accuracy                           0.90      2246\n",
      "   macro avg       0.91      0.90      0.90      2246\n",
      "weighted avg       0.91      0.90      0.90      2246\n",
      "\n"
     ]
    }
   ],
   "source": [
    "# Classification report\n",
    "print(classification_report(y_test, y_pred))"
   ]
  },
  {
   "cell_type": "markdown",
   "metadata": {},
   "source": [
    "It is important to note that the classification_report() method calculates precision, recall and the f1-score for both classes as if they were the positive class then averages those values out (per class) using two average metrics (macro and weighted average). Therefore, Class 0's precision and recall are Class 1's negative predictive value and specificity respectively in this case, since we are treating Class 1 as the positive class. Class 0's f1-score can be treated as a harmonic mean between negative predictive value and specificity for Class 1. The metrics are interpreted as follows:\n",
    "\n",
    "Predictive performance of churned customers:\n",
    "- Precision: a precision score of 0.95 for Class 1 tells us that out of all the times the logistic regression model predicted a customer to be churned, it made the correct prediction 95% of the time.\n",
    "- Recall: a recall score of 0.85 for Class 1 tells us that out of all the positive instances in the testing set (that is, out of all the instances where customers churned), the logistic regression model managed to capture 85% of those positive instances (TP + FN).\n",
    "- F1-score: an f1-score of 0.90 for Class 1 gives us a very strong harmonic mean of this model's predictive power regarding the prediction of Class 1 (taking into account the weaknesses of both precision and recall). This model is very good at predicting churned customers.\n",
    "<br>\n",
    "\n",
    "Predictive performance of non-churned customers:\n",
    "- Negative predictive value: an approximate negative predictive value score of 0.86 for Class 1 (Class 0's precision) tells us that out of all the times the logistic regression model predicted a customer to be non-churned, it made the correct prediction approximately 86% of the time.\n",
    "- Specificity: a specificity score of 0.96 for Class 1 (Class 0's recall) tells us that out of all the negative instances in the testing set (that is, out of all the instances where customers were non-churned), the logistic regression model managed to capture 96% of those negative instances (TN + FP).\n",
    "- \"Negative class\" F1-score: an approximate \"negative class\" f1-score of 0.91 (Class 0's F1-score) gives us a very strong harmonic mean of this model's predictive power regarding the prediction of Class 0 (taking into account the weaknesses of both negative predictive value and specificity). This model is very good at predicting non-churned customers.\n",
    "\n",
    "Comparisons: \n",
    "- The model has a higher precision (0.95) than it does a negative predictive value (0.86). The model is better at predicting churned customers than it is at predicting non-churned customers.\n",
    "- The model has a higher specificity (0.96) than it does recall (0.85). The model managed to capture more instances of non-churned customers in the test set than it did instances of churned customers.\n",
    "- The model has a slightly higher \"negative class\" (Class 0) f1-score than it does (Class 1) f1-score. Overall, the model's predictive power leans slightly more towards Class 0 in the context of this data set."
   ]
  },
  {
   "cell_type": "markdown",
   "metadata": {},
   "source": [
    "#### 4.5.3. Model Evaluation Part 2 - ROC and AUC\n",
    "\n",
    "As much as we have an idea of how skilful this model is by now, it really helps to plot ROC curves to get an exact understanding of just how skilful our model is. We can create our ROC curve points we will use to plot our graph using the roc_curve() method imported from Scikit-learn's metrics module. As inputs, the method takes in our target variable from our test set (y_test) and its respective predicted probabilities. We start off by creating the predicted probabilities for our logistic regression model (using the predict_proba() method), as well as those of a simulated random classifier."
   ]
  },
  {
   "cell_type": "code",
   "execution_count": 133,
   "metadata": {},
   "outputs": [],
   "source": [
    "# simulating probabilities that a random classifier would produce and producing probabilities using...\n",
    "# X_test for logistic regression model using predict_proba() method\n",
    "r_probs = [0 for _ in range(len(y_test))] # an absolutely random classifier would very likely get all predictions wrong\n",
    "logreg_probs = grid.predict_proba(X_test) # this predict_proba method outputs the probs for the positive class"
   ]
  },
  {
   "cell_type": "markdown",
   "metadata": {},
   "source": [
    "Before we plot the ROC curves of the logistic regression model and the simulated random classifier (as a reference), we now have enough information to calculate our AUC scores for the models using the roc_auc_score() method from Scikit-learn's metrics module."
   ]
  },
  {
   "cell_type": "code",
   "execution_count": 134,
   "metadata": {},
   "outputs": [
    {
     "name": "stdout",
     "output_type": "stream",
     "text": [
      "AUC scores for classifiers:\n",
      "Simulated Random Classifier: 0.5000\n",
      "Gaussian Naive Bayes: 0.9613\n"
     ]
    }
   ],
   "source": [
    "# AUC scores for classifiers (including simulated random = 0.5 [baseline])\n",
    "r_auc = roc_auc_score(y_test, r_probs)\n",
    "logreg_auc = roc_auc_score(y_test, logreg_probs)\n",
    "\n",
    "print(\"AUC scores for classifiers:\\nSimulated Random Classifier: {:.4f}\\nGaussian Naive Bayes: {:.4f}\".format(\n",
    "    r_auc, logreg_auc))"
   ]
  },
  {
   "cell_type": "markdown",
   "metadata": {},
   "source": [
    "The AUC scores will be used for the graph's legend but just from these scores, we can see just how skillful our logistic regression model is compared to the random classifier. We see the simulated random classifier gets an AUC score of 0.5, of which it should. The logistic regression model gets an AUC of approximately 0.96, which tells us that the logistic regression model is very skillful at discriminating between the positive class and the negative class.\n",
    "\n",
    "Let's now calculate the TPR and FPR values for our models (that we will need to plot the graph) using the roc_curve() method.\n"
   ]
  },
  {
   "cell_type": "code",
   "execution_count": 135,
   "metadata": {},
   "outputs": [],
   "source": [
    "# Calculating ROC curve points\n",
    "# Thresholds for tweaking tpr/fpr rate accordingly\n",
    "r_fpr, r_tpr, thresholds = roc_curve(y_test, r_probs)\n",
    "logreg_fpr, logreg_tpr, thresholds = roc_curve(y_test, logreg_probs)"
   ]
  },
  {
   "cell_type": "markdown",
   "metadata": {},
   "source": [
    "We can now plot our ROC curves to visualize the AUC results using Matplotlib's pyplot module."
   ]
  },
  {
   "cell_type": "code",
   "execution_count": 136,
   "metadata": {},
   "outputs": [
    {
     "data": {
      "text/plain": [
       "<matplotlib.legend.Legend at 0x7fa065776460>"
      ]
     },
     "execution_count": 136,
     "metadata": {},
     "output_type": "execute_result"
    },
    {
     "data": {
      "image/png": "[encoded data removed]",
      "text/plain": [
       "<Figure size 720x432 with 1 Axes>"
      ]
     },
     "metadata": {
      "needs_background": "light"
     },
     "output_type": "display_data"
    }
   ],
   "source": [
    "# Plotting ROC curve\n",
    "plt.rcParams['figure.figsize'] = (10, 6)\n",
    "plt.plot(r_fpr, r_tpr, linestyle='--', label='Simulated Random Classifier (AUC={:.2f})'.format(r_auc))\n",
    "plt.plot(logreg_fpr, logreg_tpr, linestyle='dotted', label='Logistic Regression Model (AUC={:.4f})'.format(logreg_auc))\n",
    "\n",
    "plt.title('ROC Curve')\n",
    "plt.xlabel('False Positive Rate')\n",
    "plt.ylabel('True Positive Rate')\n",
    "plt.legend(loc='lower right')"
   ]
  },
  {
   "cell_type": "markdown",
   "metadata": {},
   "source": [
    "## 5. Conclusion\n",
    "\n",
    "The objectives of the analysis that were succesfully completed are as follows:\n",
    "- A thorough data cleaning and exploratory data analysis was conducted before using the data for model training purposes.\n",
    "- A functional logistic regression class was built from scratch. \n",
    "- The logistic regression model was successfully trained and any necessary model improvement techniques were successfully applied.\n",
    "- The necessary model evaluation classification metrics were calculated, interpreted and understood. "
   ]
  },
  {
   "cell_type": "markdown",
   "metadata": {},
   "source": [
    "## 6. References\n",
    "\n",
    "1. Amazon Web Services. 2024. What is Logistic Regression?, 2024. [Online]. Available at: https://aws.amazon.com/what-is/logistic-regression/\n",
    "2. Career Foundry. 2023. What Is Data Cleaning and Why Does It Matter?, 14 September 2023. [Online]. Available at: https://careerfoundry.com/en/blog/data-analytics/what-is-data-cleaning/\n",
    "3. Medium. 2023. Introduction to Balanced and Imbalanced Datasets in Machine Learning, 9 August 2023. [Online]. Available at: https://medium.com/cord-tech/introduction-to-balanced-and-imbalanced-datasets-in-machine-learning-be60c6eeb8be\n",
    "4. Investopedia. 2024. Multicollinearity: Meaning, Examples, and FAQs, 29 March 2024. [Online]. Available at: https://www.investopedia.com/terms/m/multicollinearity.asp\n",
    "5. Domino Data Lab. 2024. PySpark, 2024. [Online]. Available at: https://domino.ai/data-science-dictionary/pyspark\n",
    "6. AskPython. 2020. Logistic Regression From Scratch in Python [Algorithm Explained], 31 December 2020. [Online]. Available at: https://www.askpython.com/python/examples/logistic-regression-from-scratch"
   ]
  }
 ],
 "metadata": {
  "kernelspec": {
   "display_name": "Python 3 (ipykernel)",
   "language": "python",
   "name": "python3"
  },
  "language_info": {
   "codemirror_mode": {
    "name": "ipython",
    "version": 3
   },
   "file_extension": ".py",
   "mimetype": "text/x-python",
   "name": "python",
   "nbconvert_exporter": "python",
   "pygments_lexer": "ipython3",
   "version": "3.11.5"
  }
 },
 "nbformat": 4,
 "nbformat_minor": 2
}

{
 "cells": [
  {
   "cell_type": "markdown",
   "id": "831cf1fa",
   "metadata": {},
   "source": [
    "1 July 2024 <br>\n",
    "Mufarowashe Chiyangwa <br>\n",
    "ST10261507 <br>\n",
    "PDAN8411w\n",
    "<br>\n",
    "<br>\n",
    "<br>\n",
    "<br>\n",
    "# POE Task 3 - Text Processing & Pipelines\n",
    "<br>\n",
    "\n",
    "## 1. What is text processing?\n",
    "\n",
    "Text processing is the process of analyzing unstructured text data to extract meaningful insights using machine learning and natural language processing (NLP) tools (MonkeyLearn, 2019). Companies and organizations get a lot of raw text data via emails, social media, chat discusiions, and other platforms that contains thoughts and ideas regarding a wide range of subjects from which insights can be extracted. If companies and organizations want to extract these insights, the raw, unstructured text data must first be sorted, organized, and measured (MonkeyLearn, 2019). There are two broad categories of text processing: text classification and text extraction.\n",
    "\n",
    "Text classification is when text data is classified into pre-defined categories based on its content (MonkeyLearn, 2019). Here are some common types of text classification:\n",
    "- Topic analysis: groups large amounts of text data into topics or themes (MonkeyLearn, 2019).\n",
    "- Sentiment analysis: detects sentiment or the underlying emotion in text data such as reviews, social media comments, and surveys (often classified as [positive; negative] or [positive; neutral; negative]) (MonkeyLearn, 2019).\n",
    "- Intent detection: discovers the agenda behind text data and is useful for companies and organizations that seek to anticipate consumer decisions (MonkeyLearn, 2019). An example would be deciphering/anticipating consumer buying decisions (whether or not they are going to buy a product) based on product FAQs/queries.\n",
    "- Language classification: detecting and classifying the language of text (MonkeyLearn, 2019).\n",
    "\n",
    "Text extraction is the process of identifying and extracting valuable pieces of text from text data such as client names, product details, dates, and addresses (MonkeyLearn, 2019). Here are two types of text extraction:\n",
    "- Keyword extraction: extracting keywords or expressions from text data in a specific context (MonkeyLearn, 2019). An example would be extracting keywords and expressions from the 100s of comments on an Instagram live done by Jordan Petersen to see what people were commenting about most.\n",
    "- Entity extraction: extracting the names of entities such as dignitaries, celebrities, companies, and brands from text data in a specific context. This is especially useful for companies and organizations trying to identify potential competitors (MonkeyLearn, 2019). For example, Standard Bank identifies that ABSA is their closest competitor on pricing after conducting an entity extraction on pricing-related tweets.\n",
    "<br>\n",
    "\n",
    "## 2. What data set was chosen an why is it appropriate for text processing?\n",
    "\n",
    "The chosen data set for this text processing task (sentiment analysis) is a hotel reviews data set originally from Datafiniti - one of the world's most well-known data-scraping platforms and repositories that scrapes data from all kinds of industries from the web and converts it into usable data sets (Datafiniti, 2024). The data set consists of 10 000 reviews from about 2000 hotels in the United States of America from Datafiniti's Business Database. The data set was obtained from data.world, and can be accessed using the following link: https://data.world/datafiniti/hotel-reviews/workspace/file?filename=Datafiniti_Hotel_Reviews.csv\n",
    "\n",
    "The 25 features are described as follows (from data set inspection and reasonable assumption - no data dictionary available):\n",
    "\n",
    "- id: unique hotel identifier\n",
    "- dateAdded: the date that a hotel's reviews were added to the data set\n",
    "- dateUpdated: the date that a hotel's reviews were updated in the data set\n",
    "- address: the hotel address\n",
    "- categories: hotel type/sub-categories/specifications\n",
    "- primaryCategories: industries the hotel operates in\n",
    "- city: the city that the hotel is located in\n",
    "- country: the country that the hotel is located in (all are located in USA)\n",
    "- keys: second unique hotel identifier\n",
    "- latitude: the latitudinal coordinate of the hotel\n",
    "- longitude: the longitudinal coordinate of the hotel\n",
    "- name: the name of the hotel\n",
    "- postalcode: the postal code of the hotel\n",
    "- province: the province the hotel is located in\n",
    "- reviews_date: the date that a review was made\n",
    "- reviews_dateseen: the date that a review was seen\n",
    "- reviews_rating: the rating given to a hotel by a reviewer (from 1 to 5)\n",
    "- reviews_sourceurls: the URL of the review\n",
    "- reviews_text: the written review itself\n",
    "- reviews_title: the title of the review\n",
    "- reviews_usercity: the city in which the reviewer resides\n",
    "- reviews_userprovince: the province in which the viewer resides\n",
    "- reviews_username: the reviewer alias\n",
    "- sourceurls: the URL of the source where the review can be found\n",
    "- websites: the hotel website\n",
    "<br>\n",
    "\n",
    "The data set needs to adhere to the following criteria in order to be appropriate for text processing:\n",
    "\n",
    "- Text data: there must be some form of text data to process in the data set, whether it be reviews, comments, tweets, posts, or survey responses.\n",
    "- Categorical target: the target variable of the dataset must be a discrete, categorical variable with mutually exclusive classes in order for sentiment analysis (the text processing task) to be undertaken on the data set.\n",
    "- Data cleaning: it is important to clean data before any other analysis task is undertaken because sub-par data quality can affect the results of the classification analysis (Career Foundry, 2023).\n",
    "- Text data preprocessing: the text data needed for the analysis will require preprocessing before it can be processed by the chosen machine learing algorithm. It will need to be free of punctuation, tags and special characters, and it will need to be in lower case, amongst other requirements.\n",
    "- Balanced data: imbalanced data can skew the results of the performance metrics of the classification model that is going to process the text data, affecting their validity. A balanced data set ensures that the classification model is not \"biased towards one class\" (Medium, 2023), particularly the majority class, thus preserving the validity of the results obtained from the classification metrics.\n",
    "\n",
    "Disclaimer: the chosen data set does not yet completely adhere to the above criteria, but will adhere to it after the sections where data cleaning, exploration and preprocessing are undertaken. \n",
    "<br>\n",
    "\n",
    "## 3. Explanation of the analysis that will be conducted on the data set\n",
    "\n",
    "We seek to conduct a sentiment analysis (defined earlier) on the chosen hotel reviews dataset in order to see how well we can predict positive and negative hotel review sentiment.\n",
    "\n",
    "Objectives of the analysis:\n",
    "- Conduct a thorough data cleaning, exploratory data analysis, and text data preprocessing before using the data to train any model.\n",
    "- Produce a functional pipeline that cuts down some of the analysis steps and is convenient in its use.\n",
    "- Embed a logistic regression algorithm in the pipeline that can predict positive and negative hotel review sentiment with high predictive potency.\n",
    "- Integrate model improvement/optimization techniques with our pipeline during the model development stage.\n",
    "- Calculate, interpret and understand the necessary model evaluation classification metrics.\n",
    "<br>\n",
    "\n",
    "## 4. The data analysis process\n",
    "\n",
    "The various python libraries that are going to be required for the analysis are as follows:"
   ]
  },
  {
   "cell_type": "code",
   "execution_count": 1,
   "id": "bc369bfa",
   "metadata": {},
   "outputs": [],
   "source": [
    "# Import libraries\n",
    "import pandas as pd\n",
    "import numpy as np\n",
    "import matplotlib.pyplot as plt\n",
    "import seaborn as sns\n",
    "import nltk\n",
    "from nltk.corpus import stopwords\n",
    "import spacy\n",
    "import string\n",
    "from sklearn.feature_extraction.text import CountVectorizer\n",
    "from imblearn.over_sampling import SMOTE\n",
    "from sklearn.model_selection import train_test_split\n",
    "from sklearn.pipeline import Pipeline\n",
    "from sklearn.feature_extraction.text import TfidfTransformer\n",
    "from sklearn.preprocessing import StandardScaler\n",
    "from sklearn.linear_model import LogisticRegression\n",
    "from sklearn.model_selection import GridSearchCV\n",
    "from sklearn.metrics import classification_report, confusion_matrix, f1_score, roc_curve, auc, roc_auc_score"
   ]
  },
  {
   "cell_type": "markdown",
   "id": "9d00f705",
   "metadata": {},
   "source": [
    "### 4.1. Data importation and cleaning\n",
    "\n",
    "We begin the analysis by importing our dataset using Pandas' read_csv() method. We then use the head() method to get a preview of the first 10 rows of the dataset."
   ]
  },
  {
   "cell_type": "code",
   "execution_count": 2,
   "id": "174f0f00",
   "metadata": {},
   "outputs": [
    {
     "data": {
      "text/html": [
       "<div>\n",
       "<style scoped>\n",
       "    .dataframe tbody tr th:only-of-type {\n",
       "        vertical-align: middle;\n",
       "    }\n",
       "\n",
       "    .dataframe tbody tr th {\n",
       "        vertical-align: top;\n",
       "    }\n",
       "\n",
       "    .dataframe thead th {\n",
       "        text-align: right;\n",
       "    }\n",
       "</style>\n",
       "<table border=\"1\" class=\"dataframe\">\n",
       "  <thead>\n",
       "    <tr style=\"text-align: right;\">\n",
       "      <th></th>\n",
       "      <th>id</th>\n",
       "      <th>dateAdded</th>\n",
       "      <th>dateUpdated</th>\n",
       "      <th>address</th>\n",
       "      <th>categories</th>\n",
       "      <th>primaryCategories</th>\n",
       "      <th>city</th>\n",
       "      <th>country</th>\n",
       "      <th>keys</th>\n",
       "      <th>latitude</th>\n",
       "      <th>...</th>\n",
       "      <th>reviews.dateSeen</th>\n",
       "      <th>reviews.rating</th>\n",
       "      <th>reviews.sourceURLs</th>\n",
       "      <th>reviews.text</th>\n",
       "      <th>reviews.title</th>\n",
       "      <th>reviews.userCity</th>\n",
       "      <th>reviews.userProvince</th>\n",
       "      <th>reviews.username</th>\n",
       "      <th>sourceURLs</th>\n",
       "      <th>websites</th>\n",
       "    </tr>\n",
       "  </thead>\n",
       "  <tbody>\n",
       "    <tr>\n",
       "      <th>0</th>\n",
       "      <td>AVwc252WIN2L1WUfpqLP</td>\n",
       "      <td>2016-10-30T21:42:42Z</td>\n",
       "      <td>2018-09-10T21:06:27Z</td>\n",
       "      <td>5921 Valencia Cir</td>\n",
       "      <td>Hotels,Hotels and motels,Hotel and motel reser...</td>\n",
       "      <td>Accommodation &amp; Food Services</td>\n",
       "      <td>Rancho Santa Fe</td>\n",
       "      <td>US</td>\n",
       "      <td>us/ca/ranchosantafe/5921valenciacir/359754519</td>\n",
       "      <td>32.990959</td>\n",
       "      <td>...</td>\n",
       "      <td>2016-08-03T00:00:00Z,2016-07-26T00:00:00Z,2016...</td>\n",
       "      <td>5.0</td>\n",
       "      <td>https://www.hotels.com/hotel/125419/reviews%20/</td>\n",
       "      <td>Our experience at Rancho Valencia was absolute...</td>\n",
       "      <td>Best romantic vacation ever!!!!</td>\n",
       "      <td>NaN</td>\n",
       "      <td>NaN</td>\n",
       "      <td>Paula</td>\n",
       "      <td>http://www.hotels.com/ho125419/%25252525253Flo...</td>\n",
       "      <td>http://www.ranchovalencia.com</td>\n",
       "    </tr>\n",
       "    <tr>\n",
       "      <th>1</th>\n",
       "      <td>AVwc252WIN2L1WUfpqLP</td>\n",
       "      <td>2016-10-30T21:42:42Z</td>\n",
       "      <td>2018-09-10T21:06:27Z</td>\n",
       "      <td>5921 Valencia Cir</td>\n",
       "      <td>Hotels,Hotels and motels,Hotel and motel reser...</td>\n",
       "      <td>Accommodation &amp; Food Services</td>\n",
       "      <td>Rancho Santa Fe</td>\n",
       "      <td>US</td>\n",
       "      <td>us/ca/ranchosantafe/5921valenciacir/359754519</td>\n",
       "      <td>32.990959</td>\n",
       "      <td>...</td>\n",
       "      <td>2016-08-02T00:00:00Z,2016-08-26T00:00:00Z,2016...</td>\n",
       "      <td>5.0</td>\n",
       "      <td>https://www.hotels.com/hotel/125419/reviews%20/</td>\n",
       "      <td>Amazing place. Everyone was extremely warm and...</td>\n",
       "      <td>Sweet sweet serenity</td>\n",
       "      <td>NaN</td>\n",
       "      <td>NaN</td>\n",
       "      <td>D</td>\n",
       "      <td>http://www.hotels.com/ho125419/%25252525253Flo...</td>\n",
       "      <td>http://www.ranchovalencia.com</td>\n",
       "    </tr>\n",
       "    <tr>\n",
       "      <th>2</th>\n",
       "      <td>AVwc252WIN2L1WUfpqLP</td>\n",
       "      <td>2016-10-30T21:42:42Z</td>\n",
       "      <td>2018-09-10T21:06:27Z</td>\n",
       "      <td>5921 Valencia Cir</td>\n",
       "      <td>Hotels,Hotels and motels,Hotel and motel reser...</td>\n",
       "      <td>Accommodation &amp; Food Services</td>\n",
       "      <td>Rancho Santa Fe</td>\n",
       "      <td>US</td>\n",
       "      <td>us/ca/ranchosantafe/5921valenciacir/359754519</td>\n",
       "      <td>32.990959</td>\n",
       "      <td>...</td>\n",
       "      <td>2016-11-15T00:00:00Z,2016-08-23T00:00:00Z,2016...</td>\n",
       "      <td>5.0</td>\n",
       "      <td>https://www.hotels.com/hotel/125419/reviews%20/</td>\n",
       "      <td>We booked a 3 night stay at Rancho Valencia to...</td>\n",
       "      <td>Amazing Property and Experience</td>\n",
       "      <td>NaN</td>\n",
       "      <td>NaN</td>\n",
       "      <td>Ron</td>\n",
       "      <td>http://www.hotels.com/ho125419/%25252525253Flo...</td>\n",
       "      <td>http://www.ranchovalencia.com</td>\n",
       "    </tr>\n",
       "    <tr>\n",
       "      <th>3</th>\n",
       "      <td>AVwdOclqIN2L1WUfti38</td>\n",
       "      <td>2015-11-28T19:19:35Z</td>\n",
       "      <td>2018-09-10T21:06:16Z</td>\n",
       "      <td>7520 Teague Rd</td>\n",
       "      <td>Hotels,Hotels and motels,Travel agencies and b...</td>\n",
       "      <td>Accommodation &amp; Food Services</td>\n",
       "      <td>Hanover</td>\n",
       "      <td>US</td>\n",
       "      <td>us/md/hanover/7520teaguerd/-2043779672</td>\n",
       "      <td>39.155929</td>\n",
       "      <td>...</td>\n",
       "      <td>2016-05-21T00:00:00Z,2016-07-31T00:00:00Z</td>\n",
       "      <td>2.0</td>\n",
       "      <td>https://www.tripadvisor.com/Hotel_Review-g4118...</td>\n",
       "      <td>Currently in bed writing this for the past hr ...</td>\n",
       "      <td>Never again...beware, if you want sleep.</td>\n",
       "      <td>Richmond</td>\n",
       "      <td>VA</td>\n",
       "      <td>jaeem2016</td>\n",
       "      <td>http://www.yellowbook.com/profile/aloft-arunde...</td>\n",
       "      <td>http://www.starwoodhotels.com/alofthotels/prop...</td>\n",
       "    </tr>\n",
       "    <tr>\n",
       "      <th>4</th>\n",
       "      <td>AVwdOclqIN2L1WUfti38</td>\n",
       "      <td>2015-11-28T19:19:35Z</td>\n",
       "      <td>2018-09-10T21:06:16Z</td>\n",
       "      <td>7520 Teague Rd</td>\n",
       "      <td>Hotels,Hotels and motels,Travel agencies and b...</td>\n",
       "      <td>Accommodation &amp; Food Services</td>\n",
       "      <td>Hanover</td>\n",
       "      <td>US</td>\n",
       "      <td>us/md/hanover/7520teaguerd/-2043779672</td>\n",
       "      <td>39.155929</td>\n",
       "      <td>...</td>\n",
       "      <td>2016-07-31T00:00:00Z</td>\n",
       "      <td>5.0</td>\n",
       "      <td>https://www.tripadvisor.com/Hotel_Review-g4118...</td>\n",
       "      <td>I live in Md and the Aloft is my Home away fro...</td>\n",
       "      <td>ALWAYS GREAT STAY...</td>\n",
       "      <td>Laurel</td>\n",
       "      <td>MD</td>\n",
       "      <td>MamaNiaOne</td>\n",
       "      <td>http://www.yellowbook.com/profile/aloft-arunde...</td>\n",
       "      <td>http://www.starwoodhotels.com/alofthotels/prop...</td>\n",
       "    </tr>\n",
       "  </tbody>\n",
       "</table>\n",
       "<p>5 rows × 25 columns</p>\n",
       "</div>"
      ],
      "text/plain": [
       "                     id             dateAdded           dateUpdated  \\\n",
       "0  AVwc252WIN2L1WUfpqLP  2016-10-30T21:42:42Z  2018-09-10T21:06:27Z   \n",
       "1  AVwc252WIN2L1WUfpqLP  2016-10-30T21:42:42Z  2018-09-10T21:06:27Z   \n",
       "2  AVwc252WIN2L1WUfpqLP  2016-10-30T21:42:42Z  2018-09-10T21:06:27Z   \n",
       "3  AVwdOclqIN2L1WUfti38  2015-11-28T19:19:35Z  2018-09-10T21:06:16Z   \n",
       "4  AVwdOclqIN2L1WUfti38  2015-11-28T19:19:35Z  2018-09-10T21:06:16Z   \n",
       "\n",
       "             address                                         categories  \\\n",
       "0  5921 Valencia Cir  Hotels,Hotels and motels,Hotel and motel reser...   \n",
       "1  5921 Valencia Cir  Hotels,Hotels and motels,Hotel and motel reser...   \n",
       "2  5921 Valencia Cir  Hotels,Hotels and motels,Hotel and motel reser...   \n",
       "3     7520 Teague Rd  Hotels,Hotels and motels,Travel agencies and b...   \n",
       "4     7520 Teague Rd  Hotels,Hotels and motels,Travel agencies and b...   \n",
       "\n",
       "               primaryCategories             city country  \\\n",
       "0  Accommodation & Food Services  Rancho Santa Fe      US   \n",
       "1  Accommodation & Food Services  Rancho Santa Fe      US   \n",
       "2  Accommodation & Food Services  Rancho Santa Fe      US   \n",
       "3  Accommodation & Food Services          Hanover      US   \n",
       "4  Accommodation & Food Services          Hanover      US   \n",
       "\n",
       "                                            keys   latitude  ...  \\\n",
       "0  us/ca/ranchosantafe/5921valenciacir/359754519  32.990959  ...   \n",
       "1  us/ca/ranchosantafe/5921valenciacir/359754519  32.990959  ...   \n",
       "2  us/ca/ranchosantafe/5921valenciacir/359754519  32.990959  ...   \n",
       "3         us/md/hanover/7520teaguerd/-2043779672  39.155929  ...   \n",
       "4         us/md/hanover/7520teaguerd/-2043779672  39.155929  ...   \n",
       "\n",
       "                                    reviews.dateSeen reviews.rating  \\\n",
       "0  2016-08-03T00:00:00Z,2016-07-26T00:00:00Z,2016...            5.0   \n",
       "1  2016-08-02T00:00:00Z,2016-08-26T00:00:00Z,2016...            5.0   \n",
       "2  2016-11-15T00:00:00Z,2016-08-23T00:00:00Z,2016...            5.0   \n",
       "3          2016-05-21T00:00:00Z,2016-07-31T00:00:00Z            2.0   \n",
       "4                               2016-07-31T00:00:00Z            5.0   \n",
       "\n",
       "                                  reviews.sourceURLs  \\\n",
       "0    https://www.hotels.com/hotel/125419/reviews%20/   \n",
       "1    https://www.hotels.com/hotel/125419/reviews%20/   \n",
       "2    https://www.hotels.com/hotel/125419/reviews%20/   \n",
       "3  https://www.tripadvisor.com/Hotel_Review-g4118...   \n",
       "4  https://www.tripadvisor.com/Hotel_Review-g4118...   \n",
       "\n",
       "                                        reviews.text  \\\n",
       "0  Our experience at Rancho Valencia was absolute...   \n",
       "1  Amazing place. Everyone was extremely warm and...   \n",
       "2  We booked a 3 night stay at Rancho Valencia to...   \n",
       "3  Currently in bed writing this for the past hr ...   \n",
       "4  I live in Md and the Aloft is my Home away fro...   \n",
       "\n",
       "                              reviews.title reviews.userCity  \\\n",
       "0           Best romantic vacation ever!!!!              NaN   \n",
       "1                      Sweet sweet serenity              NaN   \n",
       "2           Amazing Property and Experience              NaN   \n",
       "3  Never again...beware, if you want sleep.         Richmond   \n",
       "4                      ALWAYS GREAT STAY...           Laurel   \n",
       "\n",
       "   reviews.userProvince reviews.username  \\\n",
       "0                   NaN            Paula   \n",
       "1                   NaN                D   \n",
       "2                   NaN              Ron   \n",
       "3                    VA        jaeem2016   \n",
       "4                    MD       MamaNiaOne   \n",
       "\n",
       "                                          sourceURLs  \\\n",
       "0  http://www.hotels.com/ho125419/%25252525253Flo...   \n",
       "1  http://www.hotels.com/ho125419/%25252525253Flo...   \n",
       "2  http://www.hotels.com/ho125419/%25252525253Flo...   \n",
       "3  http://www.yellowbook.com/profile/aloft-arunde...   \n",
       "4  http://www.yellowbook.com/profile/aloft-arunde...   \n",
       "\n",
       "                                            websites  \n",
       "0                      http://www.ranchovalencia.com  \n",
       "1                      http://www.ranchovalencia.com  \n",
       "2                      http://www.ranchovalencia.com  \n",
       "3  http://www.starwoodhotels.com/alofthotels/prop...  \n",
       "4  http://www.starwoodhotels.com/alofthotels/prop...  \n",
       "\n",
       "[5 rows x 25 columns]"
      ]
     },
     "execution_count": 2,
     "metadata": {},
     "output_type": "execute_result"
    }
   ],
   "source": [
    "# import dataset\n",
    "df = pd.read_csv('C:/Users/munas/Documents/VC Data Analytics Edu Resources/Programming for Data Analytics 1/POE/Task 3/Datafiniti_Hotel_Reviews.csv')\n",
    "df.head(5)"
   ]
  },
  {
   "cell_type": "markdown",
   "id": "d180c1ac",
   "metadata": {},
   "source": [
    "We can begin with verifying the number of rows and columns our data set has using the shape attribute."
   ]
  },
  {
   "cell_type": "code",
   "execution_count": 3,
   "id": "faa42ecd",
   "metadata": {},
   "outputs": [
    {
     "data": {
      "text/plain": [
       "(10000, 25)"
      ]
     },
     "execution_count": 3,
     "metadata": {},
     "output_type": "execute_result"
    }
   ],
   "source": [
    "# Shape of data set\n",
    "df.shape"
   ]
  },
  {
   "cell_type": "markdown",
   "id": "1dd56456",
   "metadata": {},
   "source": [
    "We then investigate the data types of our columns. That can be done by applying Pandas' info() method onto our dataframe."
   ]
  },
  {
   "cell_type": "code",
   "execution_count": 4,
   "id": "4cef6951",
   "metadata": {},
   "outputs": [
    {
     "name": "stdout",
     "output_type": "stream",
     "text": [
      "<class 'pandas.core.frame.DataFrame'>\n",
      "RangeIndex: 10000 entries, 0 to 9999\n",
      "Data columns (total 25 columns):\n",
      " #   Column                Non-Null Count  Dtype  \n",
      "---  ------                --------------  -----  \n",
      " 0   id                    10000 non-null  object \n",
      " 1   dateAdded             10000 non-null  object \n",
      " 2   dateUpdated           10000 non-null  object \n",
      " 3   address               10000 non-null  object \n",
      " 4   categories            10000 non-null  object \n",
      " 5   primaryCategories     10000 non-null  object \n",
      " 6   city                  10000 non-null  object \n",
      " 7   country               10000 non-null  object \n",
      " 8   keys                  10000 non-null  object \n",
      " 9   latitude              10000 non-null  float64\n",
      " 10  longitude             10000 non-null  float64\n",
      " 11  name                  10000 non-null  object \n",
      " 12  postalCode            10000 non-null  object \n",
      " 13  province              10000 non-null  object \n",
      " 14  reviews.date          10000 non-null  object \n",
      " 15  reviews.dateSeen      10000 non-null  object \n",
      " 16  reviews.rating        10000 non-null  float64\n",
      " 17  reviews.sourceURLs    10000 non-null  object \n",
      " 18  reviews.text          9999 non-null   object \n",
      " 19  reviews.title         9999 non-null   object \n",
      " 20  reviews.userCity      4164 non-null   object \n",
      " 21  reviews.userProvince  2705 non-null   object \n",
      " 22  reviews.username      10000 non-null  object \n",
      " 23  sourceURLs            10000 non-null  object \n",
      " 24  websites              10000 non-null  object \n",
      "dtypes: float64(3), object(22)\n",
      "memory usage: 1.9+ MB\n"
     ]
    }
   ],
   "source": [
    "# Data types\n",
    "df.info()"
   ]
  },
  {
   "cell_type": "markdown",
   "id": "4f035970",
   "metadata": {},
   "source": [
    "Our 'reviews.rating' column is a float variable. It is necessary to have it formatted as a categorical (integer) variable as it will be used to create our sentiment target variable. We can make this change using the astype() method and inspect the change using the unique() method."
   ]
  },
  {
   "cell_type": "code",
   "execution_count": 5,
   "id": "7bc0141a",
   "metadata": {},
   "outputs": [
    {
     "data": {
      "text/plain": [
       "array([5, 2, 4, 3, 1])"
      ]
     },
     "execution_count": 5,
     "metadata": {},
     "output_type": "execute_result"
    }
   ],
   "source": [
    "# Change 'TARGET_5Yrs' data type from float to int\n",
    "df['reviews.rating'] = df['reviews.rating'].astype(int)\n",
    "df['reviews.rating'].unique()"
   ]
  },
  {
   "cell_type": "markdown",
   "id": "a94f8a14",
   "metadata": {},
   "source": [
    "Now let's see if the data fame has any duplicates using the duplicated() method"
   ]
  },
  {
   "cell_type": "code",
   "execution_count": 6,
   "id": "22fdce24",
   "metadata": {},
   "outputs": [
    {
     "name": "stdout",
     "output_type": "stream",
     "text": [
      "True or False, do duplicates exist in the dataset?\n",
      "False\n"
     ]
    }
   ],
   "source": [
    "# Check for duplicates\n",
    "print(\"True or False, do duplicates exist in the dataset?\\n{}\".format(\n",
    "    np.all(df.duplicated() == True)))"
   ]
  },
  {
   "cell_type": "markdown",
   "id": "51801956",
   "metadata": {},
   "source": [
    "Let's check for missing values in the three columns that will be needed for our analysis: 'reviews.rating', 'reviews.text', and 'reviews.title'. We can do this using a chain of two methods, isna() and sum(), which will sum up the number of missing values per column."
   ]
  },
  {
   "cell_type": "code",
   "execution_count": 7,
   "id": "ab755c96",
   "metadata": {},
   "outputs": [
    {
     "name": "stdout",
     "output_type": "stream",
     "text": [
      "Missing values:\n",
      "reviews.rating    0\n",
      "reviews.title     1\n",
      "reviews.text      1\n",
      "dtype: int64\n"
     ]
    }
   ],
   "source": [
    "# Check for missing values \n",
    "print(\"Missing values:\\n{}\".format(df[['reviews.rating', 'reviews.title', 'reviews.text']].isna().sum())) "
   ]
  },
  {
   "cell_type": "markdown",
   "id": "264ba2a1",
   "metadata": {},
   "source": [
    "We observe that the 'reviews.title' and 'reviews.text' columns each have 1 missing value. Let's subset all the rows with missing values to investigate the matter further."
   ]
  },
  {
   "cell_type": "code",
   "execution_count": 8,
   "id": "fe8ff485",
   "metadata": {},
   "outputs": [
    {
     "data": {
      "text/html": [
       "<div>\n",
       "<style scoped>\n",
       "    .dataframe tbody tr th:only-of-type {\n",
       "        vertical-align: middle;\n",
       "    }\n",
       "\n",
       "    .dataframe tbody tr th {\n",
       "        vertical-align: top;\n",
       "    }\n",
       "\n",
       "    .dataframe thead th {\n",
       "        text-align: right;\n",
       "    }\n",
       "</style>\n",
       "<table border=\"1\" class=\"dataframe\">\n",
       "  <thead>\n",
       "    <tr style=\"text-align: right;\">\n",
       "      <th></th>\n",
       "      <th>id</th>\n",
       "      <th>dateAdded</th>\n",
       "      <th>dateUpdated</th>\n",
       "      <th>address</th>\n",
       "      <th>categories</th>\n",
       "      <th>primaryCategories</th>\n",
       "      <th>city</th>\n",
       "      <th>country</th>\n",
       "      <th>keys</th>\n",
       "      <th>latitude</th>\n",
       "      <th>...</th>\n",
       "      <th>reviews.dateSeen</th>\n",
       "      <th>reviews.rating</th>\n",
       "      <th>reviews.sourceURLs</th>\n",
       "      <th>reviews.text</th>\n",
       "      <th>reviews.title</th>\n",
       "      <th>reviews.userCity</th>\n",
       "      <th>reviews.userProvince</th>\n",
       "      <th>reviews.username</th>\n",
       "      <th>sourceURLs</th>\n",
       "      <th>websites</th>\n",
       "    </tr>\n",
       "  </thead>\n",
       "  <tbody>\n",
       "    <tr>\n",
       "      <th>600</th>\n",
       "      <td>AWKkrZYpa4HuVbedPT1I</td>\n",
       "      <td>2018-04-08T09:00:00Z</td>\n",
       "      <td>2018-09-04T21:27:48Z</td>\n",
       "      <td>160 East Flamingo Road</td>\n",
       "      <td>Hotels,Hotel</td>\n",
       "      <td>Accommodation &amp; Food Services</td>\n",
       "      <td>Las Vegas</td>\n",
       "      <td>US</td>\n",
       "      <td>us/nv/lasvegas/160eastflamingoroad/-1348544144</td>\n",
       "      <td>36.115137</td>\n",
       "      <td>...</td>\n",
       "      <td>2018-03-29T00:00:00Z</td>\n",
       "      <td>4</td>\n",
       "      <td>https://www.booking.com/reviews/us/hotel/westi...</td>\n",
       "      <td>Bad: Fit and finish construction of rooms coul...</td>\n",
       "      <td>NaN</td>\n",
       "      <td>NaN</td>\n",
       "      <td>NaN</td>\n",
       "      <td>Anonymous</td>\n",
       "      <td>https://www.booking.com/reviews/us/hotel/westi...</td>\n",
       "      <td>http://www.westinvegas.com/</td>\n",
       "    </tr>\n",
       "    <tr>\n",
       "      <th>6723</th>\n",
       "      <td>AVwcmcqPkufWRAb5w-y1</td>\n",
       "      <td>2015-10-23T22:32:31Z</td>\n",
       "      <td>2018-03-06T00:33:22Z</td>\n",
       "      <td>250 Spring St</td>\n",
       "      <td>Hotel,Hotels and motels</td>\n",
       "      <td>Accommodation &amp; Food Services</td>\n",
       "      <td>Charleston</td>\n",
       "      <td>US</td>\n",
       "      <td>us/sc/charleston/250springst/-518306969</td>\n",
       "      <td>32.786271</td>\n",
       "      <td>...</td>\n",
       "      <td>2016-06-18T00:00:00Z,2016-05-25T00:00:00Z,2016...</td>\n",
       "      <td>3</td>\n",
       "      <td>https://www.expedia.com/Charleston-Hotels-Holi...</td>\n",
       "      <td>NaN</td>\n",
       "      <td>Review</td>\n",
       "      <td>NaN</td>\n",
       "      <td>NaN</td>\n",
       "      <td>A verified traveler</td>\n",
       "      <td>https://foursquare.com/v/holiday-inn-express-c...</td>\n",
       "      <td>https://www.ihg.com/holidayinnexpress/hotels/u...</td>\n",
       "    </tr>\n",
       "  </tbody>\n",
       "</table>\n",
       "<p>2 rows × 25 columns</p>\n",
       "</div>"
      ],
      "text/plain": [
       "                        id             dateAdded           dateUpdated  \\\n",
       "600   AWKkrZYpa4HuVbedPT1I  2018-04-08T09:00:00Z  2018-09-04T21:27:48Z   \n",
       "6723  AVwcmcqPkufWRAb5w-y1  2015-10-23T22:32:31Z  2018-03-06T00:33:22Z   \n",
       "\n",
       "                     address               categories  \\\n",
       "600   160 East Flamingo Road             Hotels,Hotel   \n",
       "6723           250 Spring St  Hotel,Hotels and motels   \n",
       "\n",
       "                  primaryCategories        city country  \\\n",
       "600   Accommodation & Food Services   Las Vegas      US   \n",
       "6723  Accommodation & Food Services  Charleston      US   \n",
       "\n",
       "                                                keys   latitude  ...  \\\n",
       "600   us/nv/lasvegas/160eastflamingoroad/-1348544144  36.115137  ...   \n",
       "6723         us/sc/charleston/250springst/-518306969  32.786271  ...   \n",
       "\n",
       "                                       reviews.dateSeen reviews.rating  \\\n",
       "600                                2018-03-29T00:00:00Z              4   \n",
       "6723  2016-06-18T00:00:00Z,2016-05-25T00:00:00Z,2016...              3   \n",
       "\n",
       "                                     reviews.sourceURLs  \\\n",
       "600   https://www.booking.com/reviews/us/hotel/westi...   \n",
       "6723  https://www.expedia.com/Charleston-Hotels-Holi...   \n",
       "\n",
       "                                           reviews.text reviews.title  \\\n",
       "600   Bad: Fit and finish construction of rooms coul...           NaN   \n",
       "6723                                                NaN        Review   \n",
       "\n",
       "     reviews.userCity  reviews.userProvince     reviews.username  \\\n",
       "600               NaN                   NaN            Anonymous   \n",
       "6723              NaN                   NaN  A verified traveler   \n",
       "\n",
       "                                             sourceURLs  \\\n",
       "600   https://www.booking.com/reviews/us/hotel/westi...   \n",
       "6723  https://foursquare.com/v/holiday-inn-express-c...   \n",
       "\n",
       "                                               websites  \n",
       "600                         http://www.westinvegas.com/  \n",
       "6723  https://www.ihg.com/holidayinnexpress/hotels/u...  \n",
       "\n",
       "[2 rows x 25 columns]"
      ]
     },
     "execution_count": 8,
     "metadata": {},
     "output_type": "execute_result"
    }
   ],
   "source": [
    "# Subsetting rows with missing values in 'reviews.title' and 'reviews.text' rows\n",
    "# df.isna().any(axis=1) creates a boolean mask indicating rows where any value is missing in specified columns\n",
    "df[df[['reviews.rating', 'reviews.title', 'reviews.text']].isna().any(axis=1)]"
   ]
  },
  {
   "cell_type": "markdown",
   "id": "e1ec9cd9",
   "metadata": {},
   "source": [
    "We'll remove row 6723 entirely - it has no text in the 'reviews.text' column and the title in its 'reviews.title' column is nonsensical. We can remove this row using Pandas' drop() method. "
   ]
  },
  {
   "cell_type": "code",
   "execution_count": 9,
   "id": "2160e454",
   "metadata": {},
   "outputs": [
    {
     "name": "stdout",
     "output_type": "stream",
     "text": [
      "Missing values:\n",
      "reviews.rating    0\n",
      "reviews.title     1\n",
      "reviews.text      0\n",
      "dtype: int64\n"
     ]
    }
   ],
   "source": [
    "df.drop(index=6723, inplace=True)\n",
    "print(\"Missing values:\\n{}\".format(df[['reviews.rating', 'reviews.title', 'reviews.text']].isna().sum()))"
   ]
  },
  {
   "cell_type": "markdown",
   "id": "5fa82551",
   "metadata": {},
   "source": [
    "For row 600, we can impute the 'reviews.title' missing value with something along the lines of what is written in the 'reviews.text' column for that row. First, we check what is written in row 600 of the 'reviews.text' column using the values[] accessor."
   ]
  },
  {
   "cell_type": "code",
   "execution_count": 10,
   "id": "21cf5805",
   "metadata": {},
   "outputs": [
    {
     "data": {
      "text/plain": [
       "'Bad: Fit and finish construction of rooms could have been better. Good: n/a'"
      ]
     },
     "execution_count": 10,
     "metadata": {},
     "output_type": "execute_result"
    }
   ],
   "source": [
    "df['reviews.text'].values[600]"
   ]
  },
  {
   "cell_type": "markdown",
   "id": "091e1e1d",
   "metadata": {},
   "source": [
    "A good imputation of row 600's 'reviews.title' relevant to what is written in 'reviews.text' would be 'inadequate rooms'. We will impite this in row 600's 'reviews.text' using the at[] accessor."
   ]
  },
  {
   "cell_type": "code",
   "execution_count": 11,
   "id": "d8dfa822",
   "metadata": {},
   "outputs": [
    {
     "data": {
      "text/plain": [
       "'inadequate rooms'"
      ]
     },
     "execution_count": 11,
     "metadata": {},
     "output_type": "execute_result"
    }
   ],
   "source": [
    "df.at[600, 'reviews.title'] = 'inadequate rooms'\n",
    "df.at[600, 'reviews.title']"
   ]
  },
  {
   "cell_type": "markdown",
   "id": "fccf2d16",
   "metadata": {},
   "source": [
    "Now we check again for missing values in the columns we are interested in to see if the issue has been resolved."
   ]
  },
  {
   "cell_type": "code",
   "execution_count": 12,
   "id": "b8735cc8",
   "metadata": {},
   "outputs": [
    {
     "name": "stdout",
     "output_type": "stream",
     "text": [
      "Missing values:\n",
      "reviews.rating    0\n",
      "reviews.title     0\n",
      "reviews.text      0\n",
      "dtype: int64\n"
     ]
    }
   ],
   "source": [
    "print(\"Missing values:\\n{}\".format(df[['reviews.rating', 'reviews.title', 'reviews.text']].isna().sum()))"
   ]
  },
  {
   "cell_type": "markdown",
   "id": "efc3660d",
   "metadata": {},
   "source": [
    "Let's check the shape of our data set again to confirm that there are now 9999 rows."
   ]
  },
  {
   "cell_type": "code",
   "execution_count": 13,
   "id": "fc2d6e7c",
   "metadata": {},
   "outputs": [
    {
     "data": {
      "text/plain": [
       "(9999, 25)"
      ]
     },
     "execution_count": 13,
     "metadata": {},
     "output_type": "execute_result"
    }
   ],
   "source": [
    "# Shape of data set\n",
    "df.shape"
   ]
  },
  {
   "cell_type": "markdown",
   "id": "09293b92",
   "metadata": {},
   "source": [
    "### 4.2. Brief exploratory data analysis\n",
    "\n",
    "Before we do our data preprocessing, it would be interesting to investigate which industries have the hotels with the best ratings and which industries have the hotels with the worst ratings. We can do this by first creating a separate data frame with only the 'reviews.rating' and 'primaryCategories' columns, then creating two more subsetted dataframes - one containing only 5-star reviews and one cotaining only 1-start reviews. Afterwards, we can visualize these results."
   ]
  },
  {
   "cell_type": "code",
   "execution_count": 14,
   "id": "b3055bcd",
   "metadata": {},
   "outputs": [],
   "source": [
    "# Creating subsets\n",
    "df_ind_ratings = df[['reviews.rating', 'primaryCategories']]\n",
    "df_5star = df_ind_ratings[df_ind_ratings['reviews.rating'] == 5]\n",
    "df_1star = df_ind_ratings[df_ind_ratings['reviews.rating'] == 1]"
   ]
  },
  {
   "cell_type": "markdown",
   "id": "78804f35",
   "metadata": {},
   "source": [
    "Now that we have created our subsets, we can visualize the results using Seaborn's countplot() method. Let's begin with looking at the 5-star ratings distribution."
   ]
  },
  {
   "cell_type": "code",
   "execution_count": 15,
   "id": "652f1c7e",
   "metadata": {},
   "outputs": [
    {
     "data": {
      "text/plain": [
       "Text(0.5, 1.0, '5-star hotel rating distribution by industry')"
      ]
     },
     "execution_count": 15,
     "metadata": {},
     "output_type": "execute_result"
    },
    {
     "data": {
      "image/png": "[encoded data removed]",
      "text/plain": [
       "<Figure size 500x300 with 1 Axes>"
      ]
     },
     "metadata": {},
     "output_type": "display_data"
    }
   ],
   "source": [
    "# df_5star countplot\n",
    "plt.rcParams['figure.figsize'] = (5, 3)\n",
    "sns.countplot(df_5star, y='primaryCategories', palette='Blues')\n",
    "plt.ylabel(\"Industry\")\n",
    "plt.yticks(rotation=0, fontsize=7)\n",
    "plt.xlabel(\"5-star hotel count\")\n",
    "plt.title(\"5-star hotel rating distribution by industry\")"
   ]
  },
  {
   "cell_type": "markdown",
   "id": "4d218f86",
   "metadata": {},
   "source": [
    "Now let's look at the 1-star ratings distribution."
   ]
  },
  {
   "cell_type": "code",
   "execution_count": 16,
   "id": "ae6df2a6",
   "metadata": {},
   "outputs": [
    {
     "data": {
      "text/plain": [
       "Text(0.5, 1.0, '1-star hotel rating distribution by industry')"
      ]
     },
     "execution_count": 16,
     "metadata": {},
     "output_type": "execute_result"
    },
    {
     "data": {
      "image/png": "[encoded data removed]",
      "text/plain": [
       "<Figure size 500x300 with 1 Axes>"
      ]
     },
     "metadata": {},
     "output_type": "display_data"
    }
   ],
   "source": [
    "# df_1star countplot\n",
    "plt.rcParams['figure.figsize'] = (5, 3)\n",
    "sns.countplot(df_1star, y='primaryCategories', palette='Blues')\n",
    "plt.ylabel(\"Industry\")\n",
    "plt.yticks(rotation=0, fontsize=7)\n",
    "plt.xlabel(\"1-star hotel count\")\n",
    "plt.title(\"1-star hotel rating distribution by industry\")"
   ]
  },
  {
   "cell_type": "markdown",
   "id": "90a5dccb",
   "metadata": {},
   "source": [
    "Yea, nothing interesting to see here. The Accomodation and Food Services industry is probably the industry with the most hotel reviews by a massive margin. We can confirm that quickly using Pandas' value_counts() method."
   ]
  },
  {
   "cell_type": "code",
   "execution_count": 17,
   "id": "6ccfdd25",
   "metadata": {},
   "outputs": [
    {
     "data": {
      "text/plain": [
       "primaryCategories\n",
       "Accommodation & Food Services                                    9927\n",
       "Arts Entertainment & Recreation                                    45\n",
       "Healthcare & Social Assistance,Accommodation & Food Services       18\n",
       "Wholesale Trade,Accommodation & Food Services                       7\n",
       "Accommodation & Food Services,Arts Entertainment & Recreation       1\n",
       "Utilities                                                           1\n",
       "Name: count, dtype: int64"
      ]
     },
     "execution_count": 17,
     "metadata": {},
     "output_type": "execute_result"
    }
   ],
   "source": [
    "# Group revenue by temperature\n",
    "df_ind_ratings['primaryCategories'].value_counts()"
   ]
  },
  {
   "cell_type": "markdown",
   "id": "d68c8325",
   "metadata": {},
   "source": [
    "A potentially more interesting insight would be to see the overall ratings distribution to get a quick gauge of the overall sentiment of the reviews in the entire data set. Let's spice things up a bit and visualize this using the Pyplot module's pie() method from Matplotlib."
   ]
  },
  {
   "cell_type": "code",
   "execution_count": 18,
   "id": "0939ea51",
   "metadata": {},
   "outputs": [
    {
     "data": {
      "text/plain": [
       "Text(0.5, 1.0, 'Hotel ratings distribution')"
      ]
     },
     "execution_count": 18,
     "metadata": {},
     "output_type": "execute_result"
    },
    {
     "data": {
      "image/png": "[encoded data removed]",
      "text/plain": [
       "<Figure size 1100x500 with 1 Axes>"
      ]
     },
     "metadata": {},
     "output_type": "display_data"
    }
   ],
   "source": [
    "# pie chart with pyplot\n",
    "counts = np.bincount(df_ind_ratings['reviews.rating']).tolist()[1:] # making a list of counts\n",
    "labels = ['1-star', '2-star', '3-star', '4-star', '5-star'] # making chart labels\n",
    "explode = (0, 0, 0, 0, 0.1) # offsets the 5-star slice\n",
    "colors = ['#c6dbef', '#6daed1', '#eff3ff', '#9ecae1', '#4c72b0'] # defining color palette\n",
    "\n",
    "plt.rcParams['figure.figsize'] = (11, 5)\n",
    "plt.pie(counts, labels=labels, explode=explode, autopct='%1.1f%%', shadow=False, startangle=200, \n",
    "        colors=colors) # autopct='%1.1f%%' presents proportions rounded off to nearest tenth\n",
    "plt.axis('equal') # ensures that pie is drawn as a circle  \n",
    "plt.title('Hotel ratings distribution')"
   ]
  },
  {
   "cell_type": "markdown",
   "id": "09cdb594",
   "metadata": {},
   "source": [
    "If we take 3-, 4-, and 5-star ratings as positive, and 2- and 1-star ratings as negative, we see that there is an overwhelmingly positive sentiment regarding this particular data set of hotel reviews, with approximately 87.4% of the total reviews being positive."
   ]
  },
  {
   "cell_type": "markdown",
   "id": "95e2a6ee",
   "metadata": {},
   "source": [
    "### 4.3. Data preprocessing\n",
    "\n",
    "The two text columns that require preprocessing for our sentiment analysis are the 'reviews.title' and 'reviews.text' columns that we cleaned earlier along with the 'reviews.rating' column. However, before we preprocess these two text columns, we need to create our binary target variable using the 'reviews.rating' column by iterating through this column using a for loop and assigning a 0 for a rating of 1 or 2 (negative hotel review) and a 1 for a rating of 3, 4, or 5 (positive hotel review)."
   ]
  },
  {
   "cell_type": "code",
   "execution_count": 19,
   "id": "400abec4",
   "metadata": {},
   "outputs": [
    {
     "name": "stdout",
     "output_type": "stream",
     "text": [
      "0       1\n",
      "1       1\n",
      "2       1\n",
      "3       0\n",
      "4       1\n",
      "       ..\n",
      "9995    1\n",
      "9996    1\n",
      "9997    1\n",
      "9998    0\n",
      "9999    0\n",
      "Name: target, Length: 9999, dtype: int64\n"
     ]
    }
   ],
   "source": [
    "# instantiate an empty list where target variable will be stored\n",
    "target = []\n",
    "\n",
    "# create for loop that will iterate through 'reviews.rating'\n",
    "for rating in df['reviews.rating']:\n",
    "    if rating in [1, 2]:\n",
    "        target.append(0) # append(0) will add 0 to list if above condition is fulfilled\n",
    "    elif rating in [3, 4, 5]:\n",
    "        target.append(1) # append(1) will add 1 to list if above condition is fulfilled\n",
    "        \n",
    "# add target variable to the dataframe\n",
    "df['target'] = target\n",
    "\n",
    "# print df['target'] and it shape\n",
    "print(df['target'])"
   ]
  },
  {
   "cell_type": "markdown",
   "id": "b3337bcd",
   "metadata": {},
   "source": [
    "The last thing we need to do before we can preprocess our text data is to concatenate our two text-based columns that we are going to be using into one column. The 'reviews.text' column is where most of the needed text data is but 'reviews.title' still does contain some very relevant text information since it is representative of the title of the hotel review a consumer made, and could have very punchy, distinctive keywords in there used to summarize the sentiment of the review, just like how any other title in any other context would concisely highlight or accentuate the body of its respective text document. This concatenation can be done using Pandas' str.cat() method, which concatenates two string columns using a separator of one's choosing."
   ]
  },
  {
   "cell_type": "code",
   "execution_count": 20,
   "id": "0e0dd754",
   "metadata": {},
   "outputs": [
    {
     "data": {
      "text/html": [
       "<div>\n",
       "<style scoped>\n",
       "    .dataframe tbody tr th:only-of-type {\n",
       "        vertical-align: middle;\n",
       "    }\n",
       "\n",
       "    .dataframe tbody tr th {\n",
       "        vertical-align: top;\n",
       "    }\n",
       "\n",
       "    .dataframe thead th {\n",
       "        text-align: right;\n",
       "    }\n",
       "</style>\n",
       "<table border=\"1\" class=\"dataframe\">\n",
       "  <thead>\n",
       "    <tr style=\"text-align: right;\">\n",
       "      <th></th>\n",
       "      <th>reviews.title</th>\n",
       "      <th>reviews.text</th>\n",
       "      <th>full.text</th>\n",
       "    </tr>\n",
       "  </thead>\n",
       "  <tbody>\n",
       "    <tr>\n",
       "      <th>0</th>\n",
       "      <td>Best romantic vacation ever!!!!</td>\n",
       "      <td>Our experience at Rancho Valencia was absolute...</td>\n",
       "      <td>Best romantic vacation ever!!!! Our experience...</td>\n",
       "    </tr>\n",
       "    <tr>\n",
       "      <th>1</th>\n",
       "      <td>Sweet sweet serenity</td>\n",
       "      <td>Amazing place. Everyone was extremely warm and...</td>\n",
       "      <td>Sweet sweet serenity Amazing place. Everyone w...</td>\n",
       "    </tr>\n",
       "    <tr>\n",
       "      <th>2</th>\n",
       "      <td>Amazing Property and Experience</td>\n",
       "      <td>We booked a 3 night stay at Rancho Valencia to...</td>\n",
       "      <td>Amazing Property and Experience We booked a 3 ...</td>\n",
       "    </tr>\n",
       "  </tbody>\n",
       "</table>\n",
       "</div>"
      ],
      "text/plain": [
       "                     reviews.title  \\\n",
       "0  Best romantic vacation ever!!!!   \n",
       "1             Sweet sweet serenity   \n",
       "2  Amazing Property and Experience   \n",
       "\n",
       "                                        reviews.text  \\\n",
       "0  Our experience at Rancho Valencia was absolute...   \n",
       "1  Amazing place. Everyone was extremely warm and...   \n",
       "2  We booked a 3 night stay at Rancho Valencia to...   \n",
       "\n",
       "                                           full.text  \n",
       "0  Best romantic vacation ever!!!! Our experience...  \n",
       "1  Sweet sweet serenity Amazing place. Everyone w...  \n",
       "2  Amazing Property and Experience We booked a 3 ...  "
      ]
     },
     "execution_count": 20,
     "metadata": {},
     "output_type": "execute_result"
    }
   ],
   "source": [
    "# concatenate 'reviews.title' and 'reviews.text' into one column\n",
    "df['full.text'] = df['reviews.title'].str.cat(df['reviews.text'], sep=' ')\n",
    "df[['reviews.title', 'reviews.text', 'full.text']][0:3]"
   ]
  },
  {
   "cell_type": "markdown",
   "id": "33d098cc",
   "metadata": {},
   "source": [
    "Now we can begin preprocessing our text data. Let's assign 'full.text' to X (our feature) and 'target' to y (our target)."
   ]
  },
  {
   "cell_type": "code",
   "execution_count": 21,
   "id": "e252738a",
   "metadata": {},
   "outputs": [],
   "source": [
    "# X and y assignments\n",
    "X = df['full.text']\n",
    "y = df['target']"
   ]
  },
  {
   "cell_type": "markdown",
   "id": "95e2b579",
   "metadata": {},
   "source": [
    "Our first preprocessing task is removing all the punctuation in X. We can do this by creating a user-defined function that strips away the punctuation using the punctuation string constant from the String module (that was imported earlier) that contains commonly used punctuation in string format (if the text item is not in the punctuation constant, it will be returned). We then apply that function to X using the apply() method from Pandas. The apply() method iteratively applies a function to a series or a specified row/column in a data frame."
   ]
  },
  {
   "cell_type": "code",
   "execution_count": 22,
   "id": "3450ab84",
   "metadata": {},
   "outputs": [
    {
     "data": {
      "text/plain": [
       "0    Best romantic vacation ever Our experience at ...\n",
       "1    Sweet sweet serenity Amazing place Everyone wa...\n",
       "2    Amazing Property and Experience We booked a 3 ...\n",
       "Name: full.text, dtype: object"
      ]
     },
     "execution_count": 22,
     "metadata": {},
     "output_type": "execute_result"
    }
   ],
   "source": [
    "# create function\n",
    "def strip_punc(doc):\n",
    "    nopunc = \"\".join(  # 'join' concatenates non-punctuation text items\n",
    "        [text_item for text_item in doc if text_item not in string.punctuation]\n",
    "    )\n",
    "    return nopunc\n",
    "    \n",
    "# applying strip_punc to X\n",
    "X_puncfree = X.apply(lambda doc: strip_punc(doc))\n",
    "\n",
    "# viewing first 3 cells of X_puncfree\n",
    "X_puncfree.head(3)"
   ]
  },
  {
   "cell_type": "markdown",
   "id": "4e728d1f",
   "metadata": {},
   "source": [
    "The next preprocessing task is making sure our documents (text cells) in our punctuation-free corpus (X_puncfree) are in lowercase. This can be done by applying the lower() method (in-built in Python) with the apply() method."
   ]
  },
  {
   "cell_type": "code",
   "execution_count": 23,
   "id": "6e89bbfd",
   "metadata": {},
   "outputs": [
    {
     "data": {
      "text/plain": [
       "0    best romantic vacation ever our experience at ...\n",
       "1    sweet sweet serenity amazing place everyone wa...\n",
       "2    amazing property and experience we booked a 3 ...\n",
       "Name: full.text, dtype: object"
      ]
     },
     "execution_count": 23,
     "metadata": {},
     "output_type": "execute_result"
    }
   ],
   "source": [
    "# apply lower() method\n",
    "X_lower = X_puncfree.apply(lambda doc: doc.lower())\n",
    "\n",
    "# viewing first 3 cells of X_lower\n",
    "X_lower.head(3)"
   ]
  },
  {
   "cell_type": "markdown",
   "id": "c73bb5b9",
   "metadata": {},
   "source": [
    "Now that we've removed punctuation from our corpus (which is X_lower at this point) and we've made it lowercase, it is ready to be tokenized. Tokenization is the process of splitting words in the documents (text cells) of a corpus by whatever separates them, which would be whitespace in this case. After these words are split, they are referred to as tokens and will be processed further so that they are suitable for use by a machine learning algorithm (Muller and Guido, 2016). We can tokenize our corpus by creating a user-defined function that uses Python's in-built split() method to split the words in the documents, then apply this function to our corpus with the apply() method."
   ]
  },
  {
   "cell_type": "code",
   "execution_count": 24,
   "id": "c4639642",
   "metadata": {},
   "outputs": [
    {
     "data": {
      "text/plain": [
       "0    [best, romantic, vacation, ever, our, experien...\n",
       "1    [sweet, sweet, serenity, amazing, place, every...\n",
       "2    [amazing, property, and, experience, we, booke...\n",
       "Name: full.text, dtype: object"
      ]
     },
     "execution_count": 24,
     "metadata": {},
     "output_type": "execute_result"
    }
   ],
   "source": [
    "# create function\n",
    "def tokenize(doc):\n",
    "    for word in doc:\n",
    "        tokens = doc.split() # default separator is whitespace\n",
    "        return tokens\n",
    "    \n",
    "# applying tokenize to X\n",
    "X_tokenized = X_lower.apply(lambda doc: tokenize(doc))\n",
    "\n",
    "# viewing first 3 cells of X_tokenized\n",
    "X_tokenized.head(3)"
   ]
  },
  {
   "cell_type": "markdown",
   "id": "9e995fb4",
   "metadata": {},
   "source": [
    "Once we've tokenized our corpus, we can remove stopwords. Put simply, stopwords are frequently occurring and uninformative words in our corpus that are generally used for the purposes of grammar and syntax in a language. Examples of stopwords are  'they', 'that' and 'am'. Removing stopwords helps us isolate the more informative words in our corpus that aid in understanding the themes/topics of our documents (Python Tutorials, 2024). We can remove stopwords from our corpus using the stopwords constant from the corpus module in the NLTK library (imported earlier) that contains a list of commonly used stopwords in natural language processing. We will need to incorporate the stopwords constant into a user-defined function that will return all the words in a document that are not in the stopwords constant, then apply that function to our corpus using the apply() method."
   ]
  },
  {
   "cell_type": "code",
   "execution_count": 25,
   "id": "d46825a6",
   "metadata": {},
   "outputs": [],
   "source": [
    "# download stopwords (if not downloaded already) with the following line of code before importing stopwords constant\n",
    "# from corpus module from nltk library: nltk.download('stopwords')\n",
    "# stopwords constant already imported\n",
    "\n",
    "# Get the list of english stopwords (other languages are available)\n",
    "stop_words = stopwords.words('english')\n",
    "\n",
    "# create function\n",
    "def strip_stop(doc):\n",
    "    nostop = [text_item for text_item in doc if text_item not in stop_words]\n",
    "    return nostop\n",
    "    \n",
    "# applying strip_stop to X_tokenized\n",
    "X_stopfree = X_tokenized.apply(lambda doc: strip_stop(doc))"
   ]
  },
  {
   "cell_type": "markdown",
   "id": "b0771ad1",
   "metadata": {},
   "source": [
    "Let's do a quick stopwords vs no stopwords comparison. This is our first document in our corpus with stopwords..."
   ]
  },
  {
   "cell_type": "code",
   "execution_count": 26,
   "id": "f3e132af",
   "metadata": {},
   "outputs": [
    {
     "data": {
      "text/plain": [
       "['best',\n",
       " 'romantic',\n",
       " 'vacation',\n",
       " 'ever',\n",
       " 'our',\n",
       " 'experience',\n",
       " 'at',\n",
       " 'rancho',\n",
       " 'valencia',\n",
       " 'was',\n",
       " 'absolutely',\n",
       " 'perfect',\n",
       " 'from',\n",
       " 'beginning',\n",
       " 'to',\n",
       " 'end',\n",
       " 'we',\n",
       " 'felt',\n",
       " 'special',\n",
       " 'and',\n",
       " 'very',\n",
       " 'happy',\n",
       " 'during',\n",
       " 'our',\n",
       " 'stayed',\n",
       " 'i',\n",
       " 'would',\n",
       " 'come',\n",
       " 'back',\n",
       " 'in',\n",
       " 'a',\n",
       " 'heart',\n",
       " 'beat']"
      ]
     },
     "execution_count": 26,
     "metadata": {},
     "output_type": "execute_result"
    }
   ],
   "source": [
    "X_tokenized.iloc[0]"
   ]
  },
  {
   "cell_type": "markdown",
   "id": "95941496",
   "metadata": {},
   "source": [
    "And this is the same document without stopwords."
   ]
  },
  {
   "cell_type": "code",
   "execution_count": 27,
   "id": "6c392031",
   "metadata": {},
   "outputs": [
    {
     "data": {
      "text/plain": [
       "['best',\n",
       " 'romantic',\n",
       " 'vacation',\n",
       " 'ever',\n",
       " 'experience',\n",
       " 'rancho',\n",
       " 'valencia',\n",
       " 'absolutely',\n",
       " 'perfect',\n",
       " 'beginning',\n",
       " 'end',\n",
       " 'felt',\n",
       " 'special',\n",
       " 'happy',\n",
       " 'stayed',\n",
       " 'would',\n",
       " 'come',\n",
       " 'back',\n",
       " 'heart',\n",
       " 'beat']"
      ]
     },
     "execution_count": 27,
     "metadata": {},
     "output_type": "execute_result"
    }
   ],
   "source": [
    "X_stopfree.iloc[0]"
   ]
  },
  {
   "cell_type": "markdown",
   "id": "4271a62b",
   "metadata": {},
   "source": [
    "Now that we've removed stopwords from our corpus, we can lemmatize it. Lemmatization is a form of word normalization that reduces words to their root form so they can all be processed by the machine learning algorithm as a single item. Lemmatization uses a dictionary of known word forms to reduce words to their base form (Muller and Guido, 2016). For example, 'running', 'ran' and 'runs' will all be converted to 'run'. Lemmatization also takes the role the word plays in the sentence into account (Muller and Guido, 2016). For example, we have two sentences: 1) \"the saw was used to cut the wood\", and 2) \"i saw the ball\". The 'saw' in sentence one will be recognized as a noun and will be attributed to the jaggered-edged tool used for carpentry/construction, whereas the 'saw' in sentence two will be recognized as a verb and will be attributed to the action of sight - it will thus be converted to the root word 'see'.\n",
    "\n",
    "We can easily apply lemmatization to our corpus using the SpaCy library, which is an advanced natural language processing library with language models used for word normalization. Documentation of the SpaCy libaray can be found on the following URL: https://spacy.io/. We will make use of an english language model from SpaCy to lemmatize our corpus. A user-defined function will be created that will use this language model for lemmatization and this function will be applied to our corpus using the apply() method."
   ]
  },
  {
   "cell_type": "code",
   "execution_count": 28,
   "id": "d4138ed3",
   "metadata": {},
   "outputs": [],
   "source": [
    "# change documents in corpus from lists to text with whitespace separator in between words - required for the language... \n",
    "# model is use.\n",
    "# map() method will iterate through list items in documents and combine them with ' ' using join\n",
    "X_stopfree = X_stopfree.map(' '.join)\n",
    "\n",
    "# download the necessary language model with this line of code in the Anaconda prompt before importing spacy and \n",
    "# loading the language model: 'python -m spacy download en_core_web_sm'\n",
    "\n",
    "# load the necessary english language model\n",
    "elm = spacy.load('en_core_web_sm')\n",
    "\n",
    "# create function\n",
    "def lemmatize(doc):\n",
    "    lemma = elm(doc)\n",
    "    # accessing lemmas of tokens from lemma_ attribute\n",
    "    return [text_item.lemma_ for text_item in lemma]\n",
    "    \n",
    "# apply function to X_stopfree\n",
    "X_lemmatized = X_stopfree.apply(lambda doc: lemmatize(doc))"
   ]
  },
  {
   "cell_type": "markdown",
   "id": "82d058e3",
   "metadata": {},
   "source": [
    "Let's do a quick unlemmatized vs lemmatized comparison. This is our first document in our corpus without lemmatization..."
   ]
  },
  {
   "cell_type": "code",
   "execution_count": 29,
   "id": "1d4a1510",
   "metadata": {},
   "outputs": [
    {
     "data": {
      "text/plain": [
       "'best romantic vacation ever experience rancho valencia absolutely perfect beginning end felt special happy stayed would come back heart beat'"
      ]
     },
     "execution_count": 29,
     "metadata": {},
     "output_type": "execute_result"
    }
   ],
   "source": [
    "X_stopfree.iloc[0]"
   ]
  },
  {
   "cell_type": "markdown",
   "id": "ac75d804",
   "metadata": {},
   "source": [
    "And the following is the same document with lemmatization applied to it. We see that 'best' was lemmatized to 'well'. Contextually, 'well' is not the most fitting lemma for 'best', but 'well' is synomymous with 'good' in some contexts and it carries the same sentiment so it will suffice. The word 'beginning' was changed to 'begin' and 'felt' was changed to 'feel' - these are good lemmatizations. There are a few other words that could've been lemmatized in this particular document (for example, 'stayed' could have been changed to 'stay'). Nonetheless, the SpaCy language model seems to have done an adequate job overall based on the example below."
   ]
  },
  {
   "cell_type": "code",
   "execution_count": 30,
   "id": "9cf4a24c",
   "metadata": {},
   "outputs": [
    {
     "data": {
      "text/plain": [
       "['well',\n",
       " 'romantic',\n",
       " 'vacation',\n",
       " 'ever',\n",
       " 'experience',\n",
       " 'rancho',\n",
       " 'valencia',\n",
       " 'absolutely',\n",
       " 'perfect',\n",
       " 'begin',\n",
       " 'end',\n",
       " 'feel',\n",
       " 'special',\n",
       " 'happy',\n",
       " 'stayed',\n",
       " 'would',\n",
       " 'come',\n",
       " 'back',\n",
       " 'heart',\n",
       " 'beat']"
      ]
     },
     "execution_count": 30,
     "metadata": {},
     "output_type": "execute_result"
    }
   ],
   "source": [
    "X_lemmatized.iloc[0]"
   ]
  },
  {
   "cell_type": "markdown",
   "id": "498ded96",
   "metadata": {},
   "source": [
    "Now we can turn our corpus into a numerical representation that can be processed by a machine learning algorithm. This process is known as bag-of-words vectorization, where a vocabulary of all the unique words in a corpus is built and for each document, the number of times a particular word in the corpus vocabulary appears in a document is counted and represented numerically. In this case, the number of features becomes the number of all the unique words in corpus vocabulary (Muller and Guido, 2016). As a demonstrative example, let's say we have a corpus with the following two documents: 1) \"we went to the mall\" and 2) \"the mall was great\". The corpus vocabulary is thus made up of the following seven unique words which equates to seven features (in alphabetical order): (great, mall, the, to, was, we, went). Therefore, the documents will be numerically represented as follows (respectively), with respect to the same order the features are listed in the corpus vocabulary: (0, 1, 1, 1, 0, 1, 1); (1, 1, 1, 0, 1, 0, 0).\n",
    "\n",
    "This bag-of-words vectorization can easily be done using Scikit-Learn's CountVectorizer() transformer class imported earlier from the feature_extraction module."
   ]
  },
  {
   "cell_type": "code",
   "execution_count": 31,
   "id": "26ea73b6",
   "metadata": {},
   "outputs": [],
   "source": [
    "# change documents in corpus from lists to text with whitespace separator in between words - required for... \n",
    "# the CountVectorizer() class. Use map() method.\n",
    "X_lemmatized = X_lemmatized.map(' '.join)\n",
    "\n",
    "# instantiate CountVectorizer() class\n",
    "vectorizer = CountVectorizer()\n",
    "\n",
    "# fit CountVectorizer() onto corpus and transform corpus\n",
    "X_vectorized = vectorizer.fit_transform(X_lemmatized)"
   ]
  },
  {
   "cell_type": "markdown",
   "id": "a7069a64",
   "metadata": {},
   "source": [
    "When we investigate the shape of X_vectorized, we see that the number of documents in the corpus stays at a number of 9999 (as it should), but now there are 17719 features representative of the total number of unique words in the corpus (the corpus vocabulary)."
   ]
  },
  {
   "cell_type": "code",
   "execution_count": 32,
   "id": "ed7db7f1",
   "metadata": {},
   "outputs": [
    {
     "data": {
      "text/plain": [
       "(9999, 17719)"
      ]
     },
     "execution_count": 32,
     "metadata": {},
     "output_type": "execute_result"
    }
   ],
   "source": [
    "# shape of X_vectorized\n",
    "X_vectorized.shape"
   ]
  },
  {
   "cell_type": "markdown",
   "id": "58fc6c78",
   "metadata": {},
   "source": [
    "Our last preprocessing task is ensuring that our data set is balanced. From the earlier EDA, we saw that the data set does mostly consist of positive hotel reviews. We can confirm this again using the value_counts() method."
   ]
  },
  {
   "cell_type": "code",
   "execution_count": 33,
   "id": "c3c4902a",
   "metadata": {},
   "outputs": [
    {
     "data": {
      "text/plain": [
       "target\n",
       "1    8746\n",
       "0    1253\n",
       "Name: count, dtype: int64"
      ]
     },
     "execution_count": 33,
     "metadata": {},
     "output_type": "execute_result"
    }
   ],
   "source": [
    "# Checking if data set is balanced\n",
    "y.value_counts()"
   ]
  },
  {
   "cell_type": "markdown",
   "id": "d99b2fa0",
   "metadata": {},
   "source": [
    "This data set definitely needs to be balanced. This can be achieved using SMOTE (imported earlier)  - a random oversampling technique from the Imbalanced-Learn library. The documentation for SMOTE is available on the following site: https://imbalanced-learn.org/stable/references/generated/imblearn.over_sampling.SMOTE.html"
   ]
  },
  {
   "cell_type": "code",
   "execution_count": 34,
   "id": "0cd3bd17",
   "metadata": {},
   "outputs": [],
   "source": [
    "# Instantiating and fitting SMOTE and transforming the data\n",
    "smote = SMOTE(random_state=0)\n",
    "X_resamp, y_resamp = smote.fit_resample(X_vectorized, y)"
   ]
  },
  {
   "cell_type": "markdown",
   "id": "759abd13",
   "metadata": {},
   "source": [
    "Let's check to see if SMOTE adequately balanced the data."
   ]
  },
  {
   "cell_type": "code",
   "execution_count": 35,
   "id": "52ca05c1",
   "metadata": {},
   "outputs": [
    {
     "data": {
      "text/plain": [
       "target\n",
       "1    8746\n",
       "0    8746\n",
       "Name: count, dtype: int64"
      ]
     },
     "execution_count": 35,
     "metadata": {},
     "output_type": "execute_result"
    }
   ],
   "source": [
    "# Checking if data set is balanced\n",
    "y_resamp.value_counts()"
   ]
  },
  {
   "cell_type": "markdown",
   "id": "cea602f1",
   "metadata": {},
   "source": [
    "We can also check the shape of X_resamp and y_resamp to make sure everything is in order."
   ]
  },
  {
   "cell_type": "code",
   "execution_count": 36,
   "id": "263197d8",
   "metadata": {},
   "outputs": [
    {
     "name": "stdout",
     "output_type": "stream",
     "text": [
      "The shape of X_resamp is (17492, 17719), and the shape of y_resamp is (17492,).\n"
     ]
    }
   ],
   "source": [
    "# Shape of X_resamp and y_resamp\n",
    "print('The shape of X_resamp is {}, and the shape of y_resamp is {}.'.format(X_resamp.shape, y_resamp.shape))"
   ]
  },
  {
   "cell_type": "markdown",
   "id": "43ae2ecb",
   "metadata": {},
   "source": [
    "Our text data preprocessing is complete. Our data now fulfills all criteria requirements regarding its appropriateness for use and is ready to be used."
   ]
  },
  {
   "cell_type": "markdown",
   "id": "04303852",
   "metadata": {},
   "source": [
    "### 4.4. Pipelines, model improvement and evaluation\n",
    "\n",
    "Before we begin with our pipeline, we need to create our training and testing partitions using the train_test_split() method from Scikit-learn's model_selection module."
   ]
  },
  {
   "cell_type": "code",
   "execution_count": 37,
   "id": "5e48bfb0",
   "metadata": {},
   "outputs": [],
   "source": [
    "# train_test_split imported from model selection\n",
    "# Creating our training and testing partitions of our feature and target variables (80/20 split)\n",
    "# Stratify ensures that class labels are proportionately distributed between the training and testing sets\n",
    "X_train, X_test, y_train, y_test = train_test_split(X_resamp, y_resamp, stratify=y_resamp, \n",
    "                                                    test_size=0.2, random_state=0)"
   ]
  },
  {
   "cell_type": "markdown",
   "id": "922e961a",
   "metadata": {},
   "source": [
    "Let's check the shape of our training and testing partitions to ensure we have the desired result."
   ]
  },
  {
   "cell_type": "code",
   "execution_count": 38,
   "id": "d11a718f",
   "metadata": {},
   "outputs": [
    {
     "name": "stdout",
     "output_type": "stream",
     "text": [
      "Shape of X_train: (13993, 17719)\n",
      "Shape of X_test: (3499, 17719)\n",
      "Shape of y_train: (13993,)\n",
      "Shape of y_test: (3499,)\n"
     ]
    }
   ],
   "source": [
    "# Shapes of training and testing partitions\n",
    "print(\"Shape of X_train: {}\".format(X_train.shape))\n",
    "print(\"Shape of X_test: {}\".format(X_test.shape))\n",
    "print(\"Shape of y_train: {}\".format(y_train.shape))\n",
    "print(\"Shape of y_test: {}\".format(y_test.shape))"
   ]
  },
  {
   "cell_type": "markdown",
   "id": "f09d74f1",
   "metadata": {},
   "source": [
    "#### 4.4.1. Pipelines and model improvement\n",
    "\n",
    "To put it very simply, pipelines allow us to chain together multiple steps in the model-building process. Often times, pipelines are used to chain data preprocessing steps with the training of a supervised machine learning model (Muller and Guido, 2016). Pipelines can be easily implemented in Python using the Scikit-Learn library's Pipeline() class (imported earlier from the pipeline module). We seek to make a pipeline that will chain the following three steps (the first two are technically data preprocessing steps):\n",
    "\n",
    "- The term frequency-inverse document frequecy rescaler (tf-idf): the idea behind this rescaler is to give prominence to tokens (or features) that appear often in particular documents but not in many documents in the corpus. If a word or token appears often in a particular document but not in many documents in the corpus, it is likely to be very informative with respect to the document it is in (Muller and Guido, 2016). The TfidfTransformer() class from Scikit-Learn's feature_extraction module (already imported) makes this possible by taking the sparse matrix output of the CountVectorizer() class and transforming it accordingly.\n",
    "- Standard scaling: We can use the StandardScaler() class from the preprocessing module in the Scikit-learn library (imported earlier) to standardize our features. StandardScaler() works by subtracting the mean from all features to centre them then dividing them by their standard deviation so they all have a unit variance. This will make it easier for our classification algorithm to learn the patterns in the data.\n",
    "- Logistic regression: this is the classification algorithm of choice because it works very well with high-dimensional, sparse data (of which we have) and is simple to implement and optimize (Spot Intelligence, 2023). The LogisticRegression() class was imported earlier from Scikit-Learn's linear_model module.\n",
    "\n",
    "Let's build our pipeline."
   ]
  },
  {
   "cell_type": "code",
   "execution_count": 39,
   "id": "c2699b40",
   "metadata": {},
   "outputs": [],
   "source": [
    "# instantiating pipeline class (building pipeline object)\n",
    "# each step is a tuple containing a name of your choosing and an estimator instance\n",
    "# in this case, have to set with_mean parameter of StandardScaler to False because sparse matrices caanot be centred\n",
    "pipe = Pipeline([(\"tfidf\", TfidfTransformer()), (\"scaler\", StandardScaler(with_mean=False)), \n",
    "                 (\"logreg\", LogisticRegression(max_iter=1000))])"
   ]
  },
  {
   "cell_type": "markdown",
   "id": "bd66fb13",
   "metadata": {},
   "source": [
    "Before we pass our training data through our pipeline, we can combine our pipeline with GridSearchCV (imported earlier from Scikit-Learn's model_selection module) to optimize the LogisticRegression() instance in our pipeline by tuning its hyperparameters. We start by defining our parameter grid as two key-value pairs:\n",
    "\n",
    "- The first is of the kind of regularization that will be applied to the logistic regression model, whether it be L1 regularization (Lasso), L2 (Ridge) regularization, or elastic net regularization (a combination of L1 and L2). Ridge (L2) is the default.\n",
    "- The second is that of the C parameter, which controls the strength of the regularization. A higher C results in less regularization, whereas a lower C results in more regularization (Muller and Guido, 2016).\n",
    "\n",
    "The Scikit-Learn documentation for logistic regression can be found here: https://scikit-learn.org/stable/modules/generated/sklearn.linear_model.LogisticRegression.html"
   ]
  },
  {
   "cell_type": "code",
   "execution_count": 40,
   "id": "5d66a970",
   "metadata": {},
   "outputs": [],
   "source": [
    "# defining parameter grid\n",
    "# have to map relevant key-value pair to correct instance in pipeline with 'name-of-instance__parameter' format\n",
    "# example: 'logreg_C'\n",
    "param_grid = {\"logreg__penalty\": ['l1', 'l2', 'elasticnet'], \n",
    "             \"logreg__C\": [0.001, 0.01, 0.1, 1, 10, 100]}"
   ]
  },
  {
   "cell_type": "markdown",
   "id": "19cc446c",
   "metadata": {},
   "source": [
    "Next, we instantiate our GridSearchCV() object (incorporating our pipelie into it) and fit it onto the training set."
   ]
  },
  {
   "cell_type": "code",
   "execution_count": 41,
   "id": "c0da9079",
   "metadata": {},
   "outputs": [
    {
     "name": "stderr",
     "output_type": "stream",
     "text": [
      "C:\\Users\\munas\\anaconda3\\Lib\\site-packages\\sklearn\\model_selection\\_validation.py:547: FitFailedWarning: \n",
      "60 fits failed out of a total of 90.\n",
      "The score on these train-test partitions for these parameters will be set to nan.\n",
      "If these failures are not expected, you can try to debug them by setting error_score='raise'.\n",
      "\n",
      "Below are more details about the failures:\n",
      "--------------------------------------------------------------------------------\n",
      "30 fits failed with the following error:\n",
      "Traceback (most recent call last):\n",
      "  File \"C:\\Users\\munas\\anaconda3\\Lib\\site-packages\\sklearn\\model_selection\\_validation.py\", line 895, in _fit_and_score\n",
      "    estimator.fit(X_train, y_train, **fit_params)\n",
      "  File \"C:\\Users\\munas\\anaconda3\\Lib\\site-packages\\sklearn\\base.py\", line 1474, in wrapper\n",
      "    return fit_method(estimator, *args, **kwargs)\n",
      "           ^^^^^^^^^^^^^^^^^^^^^^^^^^^^^^^^^^^^^^\n",
      "  File \"C:\\Users\\munas\\anaconda3\\Lib\\site-packages\\sklearn\\pipeline.py\", line 475, in fit\n",
      "    self._final_estimator.fit(Xt, y, **last_step_params[\"fit\"])\n",
      "  File \"C:\\Users\\munas\\anaconda3\\Lib\\site-packages\\sklearn\\base.py\", line 1474, in wrapper\n",
      "    return fit_method(estimator, *args, **kwargs)\n",
      "           ^^^^^^^^^^^^^^^^^^^^^^^^^^^^^^^^^^^^^^\n",
      "  File \"C:\\Users\\munas\\anaconda3\\Lib\\site-packages\\sklearn\\linear_model\\_logistic.py\", line 1172, in fit\n",
      "    solver = _check_solver(self.solver, self.penalty, self.dual)\n",
      "             ^^^^^^^^^^^^^^^^^^^^^^^^^^^^^^^^^^^^^^^^^^^^^^^^^^^\n",
      "  File \"C:\\Users\\munas\\anaconda3\\Lib\\site-packages\\sklearn\\linear_model\\_logistic.py\", line 67, in _check_solver\n",
      "    raise ValueError(\n",
      "ValueError: Solver lbfgs supports only 'l2' or None penalties, got l1 penalty.\n",
      "\n",
      "--------------------------------------------------------------------------------\n",
      "30 fits failed with the following error:\n",
      "Traceback (most recent call last):\n",
      "  File \"C:\\Users\\munas\\anaconda3\\Lib\\site-packages\\sklearn\\model_selection\\_validation.py\", line 895, in _fit_and_score\n",
      "    estimator.fit(X_train, y_train, **fit_params)\n",
      "  File \"C:\\Users\\munas\\anaconda3\\Lib\\site-packages\\sklearn\\base.py\", line 1474, in wrapper\n",
      "    return fit_method(estimator, *args, **kwargs)\n",
      "           ^^^^^^^^^^^^^^^^^^^^^^^^^^^^^^^^^^^^^^\n",
      "  File \"C:\\Users\\munas\\anaconda3\\Lib\\site-packages\\sklearn\\pipeline.py\", line 475, in fit\n",
      "    self._final_estimator.fit(Xt, y, **last_step_params[\"fit\"])\n",
      "  File \"C:\\Users\\munas\\anaconda3\\Lib\\site-packages\\sklearn\\base.py\", line 1474, in wrapper\n",
      "    return fit_method(estimator, *args, **kwargs)\n",
      "           ^^^^^^^^^^^^^^^^^^^^^^^^^^^^^^^^^^^^^^\n",
      "  File \"C:\\Users\\munas\\anaconda3\\Lib\\site-packages\\sklearn\\linear_model\\_logistic.py\", line 1172, in fit\n",
      "    solver = _check_solver(self.solver, self.penalty, self.dual)\n",
      "             ^^^^^^^^^^^^^^^^^^^^^^^^^^^^^^^^^^^^^^^^^^^^^^^^^^^\n",
      "  File \"C:\\Users\\munas\\anaconda3\\Lib\\site-packages\\sklearn\\linear_model\\_logistic.py\", line 67, in _check_solver\n",
      "    raise ValueError(\n",
      "ValueError: Solver lbfgs supports only 'l2' or None penalties, got elasticnet penalty.\n",
      "\n",
      "  warnings.warn(some_fits_failed_message, FitFailedWarning)\n",
      "C:\\Users\\munas\\anaconda3\\Lib\\site-packages\\sklearn\\model_selection\\_search.py:1051: UserWarning: One or more of the test scores are non-finite: [       nan 0.92031671        nan        nan 0.91717258        nan\n",
      "        nan 0.9088827         nan        nan 0.90095038        nan\n",
      "        nan 0.88715834        nan        nan 0.88186992        nan]\n",
      "  warnings.warn(\n"
     ]
    },
    {
     "data": {
      "text/html": [
       "<style>#sk-container-id-1 {\n",
       "  /* Definition of color scheme common for light and dark mode */\n",
       "  --sklearn-color-text: black;\n",
       "  --sklearn-color-line: gray;\n",
       "  /* Definition of color scheme for unfitted estimators */\n",
       "  --sklearn-color-unfitted-level-0: #fff5e6;\n",
       "  --sklearn-color-unfitted-level-1: #f6e4d2;\n",
       "  --sklearn-color-unfitted-level-2: #ffe0b3;\n",
       "  --sklearn-color-unfitted-level-3: chocolate;\n",
       "  /* Definition of color scheme for fitted estimators */\n",
       "  --sklearn-color-fitted-level-0: #f0f8ff;\n",
       "  --sklearn-color-fitted-level-1: #d4ebff;\n",
       "  --sklearn-color-fitted-level-2: #b3dbfd;\n",
       "  --sklearn-color-fitted-level-3: cornflowerblue;\n",
       "\n",
       "  /* Specific color for light theme */\n",
       "  --sklearn-color-text-on-default-background: var(--sg-text-color, var(--theme-code-foreground, var(--jp-content-font-color1, black)));\n",
       "  --sklearn-color-background: var(--sg-background-color, var(--theme-background, var(--jp-layout-color0, white)));\n",
       "  --sklearn-color-border-box: var(--sg-text-color, var(--theme-code-foreground, var(--jp-content-font-color1, black)));\n",
       "  --sklearn-color-icon: #696969;\n",
       "\n",
       "  @media (prefers-color-scheme: dark) {\n",
       "    /* Redefinition of color scheme for dark theme */\n",
       "    --sklearn-color-text-on-default-background: var(--sg-text-color, var(--theme-code-foreground, var(--jp-content-font-color1, white)));\n",
       "    --sklearn-color-background: var(--sg-background-color, var(--theme-background, var(--jp-layout-color0, #111)));\n",
       "    --sklearn-color-border-box: var(--sg-text-color, var(--theme-code-foreground, var(--jp-content-font-color1, white)));\n",
       "    --sklearn-color-icon: #878787;\n",
       "  }\n",
       "}\n",
       "\n",
       "#sk-container-id-1 {\n",
       "  color: var(--sklearn-color-text);\n",
       "}\n",
       "\n",
       "#sk-container-id-1 pre {\n",
       "  padding: 0;\n",
       "}\n",
       "\n",
       "#sk-container-id-1 input.sk-hidden--visually {\n",
       "  border: 0;\n",
       "  clip: rect(1px 1px 1px 1px);\n",
       "  clip: rect(1px, 1px, 1px, 1px);\n",
       "  height: 1px;\n",
       "  margin: -1px;\n",
       "  overflow: hidden;\n",
       "  padding: 0;\n",
       "  position: absolute;\n",
       "  width: 1px;\n",
       "}\n",
       "\n",
       "#sk-container-id-1 div.sk-dashed-wrapped {\n",
       "  border: 1px dashed var(--sklearn-color-line);\n",
       "  margin: 0 0.4em 0.5em 0.4em;\n",
       "  box-sizing: border-box;\n",
       "  padding-bottom: 0.4em;\n",
       "  background-color: var(--sklearn-color-background);\n",
       "}\n",
       "\n",
       "#sk-container-id-1 div.sk-container {\n",
       "  /* jupyter's `normalize.less` sets `[hidden] { display: none; }`\n",
       "     but bootstrap.min.css set `[hidden] { display: none !important; }`\n",
       "     so we also need the `!important` here to be able to override the\n",
       "     default hidden behavior on the sphinx rendered scikit-learn.org.\n",
       "     See: https://github.com/scikit-learn/scikit-learn/issues/21755 */\n",
       "  display: inline-block !important;\n",
       "  position: relative;\n",
       "}\n",
       "\n",
       "#sk-container-id-1 div.sk-text-repr-fallback {\n",
       "  display: none;\n",
       "}\n",
       "\n",
       "div.sk-parallel-item,\n",
       "div.sk-serial,\n",
       "div.sk-item {\n",
       "  /* draw centered vertical line to link estimators */\n",
       "  background-image: linear-gradient(var(--sklearn-color-text-on-default-background), var(--sklearn-color-text-on-default-background));\n",
       "  background-size: 2px 100%;\n",
       "  background-repeat: no-repeat;\n",
       "  background-position: center center;\n",
       "}\n",
       "\n",
       "/* Parallel-specific style estimator block */\n",
       "\n",
       "#sk-container-id-1 div.sk-parallel-item::after {\n",
       "  content: \"\";\n",
       "  width: 100%;\n",
       "  border-bottom: 2px solid var(--sklearn-color-text-on-default-background);\n",
       "  flex-grow: 1;\n",
       "}\n",
       "\n",
       "#sk-container-id-1 div.sk-parallel {\n",
       "  display: flex;\n",
       "  align-items: stretch;\n",
       "  justify-content: center;\n",
       "  background-color: var(--sklearn-color-background);\n",
       "  position: relative;\n",
       "}\n",
       "\n",
       "#sk-container-id-1 div.sk-parallel-item {\n",
       "  display: flex;\n",
       "  flex-direction: column;\n",
       "}\n",
       "\n",
       "#sk-container-id-1 div.sk-parallel-item:first-child::after {\n",
       "  align-self: flex-end;\n",
       "  width: 50%;\n",
       "}\n",
       "\n",
       "#sk-container-id-1 div.sk-parallel-item:last-child::after {\n",
       "  align-self: flex-start;\n",
       "  width: 50%;\n",
       "}\n",
       "\n",
       "#sk-container-id-1 div.sk-parallel-item:only-child::after {\n",
       "  width: 0;\n",
       "}\n",
       "\n",
       "/* Serial-specific style estimator block */\n",
       "\n",
       "#sk-container-id-1 div.sk-serial {\n",
       "  display: flex;\n",
       "  flex-direction: column;\n",
       "  align-items: center;\n",
       "  background-color: var(--sklearn-color-background);\n",
       "  padding-right: 1em;\n",
       "  padding-left: 1em;\n",
       "}\n",
       "\n",
       "\n",
       "/* Toggleable style: style used for estimator/Pipeline/ColumnTransformer box that is\n",
       "clickable and can be expanded/collapsed.\n",
       "- Pipeline and ColumnTransformer use this feature and define the default style\n",
       "- Estimators will overwrite some part of the style using the `sk-estimator` class\n",
       "*/\n",
       "\n",
       "/* Pipeline and ColumnTransformer style (default) */\n",
       "\n",
       "#sk-container-id-1 div.sk-toggleable {\n",
       "  /* Default theme specific background. It is overwritten whether we have a\n",
       "  specific estimator or a Pipeline/ColumnTransformer */\n",
       "  background-color: var(--sklearn-color-background);\n",
       "}\n",
       "\n",
       "/* Toggleable label */\n",
       "#sk-container-id-1 label.sk-toggleable__label {\n",
       "  cursor: pointer;\n",
       "  display: block;\n",
       "  width: 100%;\n",
       "  margin-bottom: 0;\n",
       "  padding: 0.5em;\n",
       "  box-sizing: border-box;\n",
       "  text-align: center;\n",
       "}\n",
       "\n",
       "#sk-container-id-1 label.sk-toggleable__label-arrow:before {\n",
       "  /* Arrow on the left of the label */\n",
       "  content: \"▸\";\n",
       "  float: left;\n",
       "  margin-right: 0.25em;\n",
       "  color: var(--sklearn-color-icon);\n",
       "}\n",
       "\n",
       "#sk-container-id-1 label.sk-toggleable__label-arrow:hover:before {\n",
       "  color: var(--sklearn-color-text);\n",
       "}\n",
       "\n",
       "/* Toggleable content - dropdown */\n",
       "\n",
       "#sk-container-id-1 div.sk-toggleable__content {\n",
       "  max-height: 0;\n",
       "  max-width: 0;\n",
       "  overflow: hidden;\n",
       "  text-align: left;\n",
       "  /* unfitted */\n",
       "  background-color: var(--sklearn-color-unfitted-level-0);\n",
       "}\n",
       "\n",
       "#sk-container-id-1 div.sk-toggleable__content.fitted {\n",
       "  /* fitted */\n",
       "  background-color: var(--sklearn-color-fitted-level-0);\n",
       "}\n",
       "\n",
       "#sk-container-id-1 div.sk-toggleable__content pre {\n",
       "  margin: 0.2em;\n",
       "  border-radius: 0.25em;\n",
       "  color: var(--sklearn-color-text);\n",
       "  /* unfitted */\n",
       "  background-color: var(--sklearn-color-unfitted-level-0);\n",
       "}\n",
       "\n",
       "#sk-container-id-1 div.sk-toggleable__content.fitted pre {\n",
       "  /* unfitted */\n",
       "  background-color: var(--sklearn-color-fitted-level-0);\n",
       "}\n",
       "\n",
       "#sk-container-id-1 input.sk-toggleable__control:checked~div.sk-toggleable__content {\n",
       "  /* Expand drop-down */\n",
       "  max-height: 200px;\n",
       "  max-width: 100%;\n",
       "  overflow: auto;\n",
       "}\n",
       "\n",
       "#sk-container-id-1 input.sk-toggleable__control:checked~label.sk-toggleable__label-arrow:before {\n",
       "  content: \"▾\";\n",
       "}\n",
       "\n",
       "/* Pipeline/ColumnTransformer-specific style */\n",
       "\n",
       "#sk-container-id-1 div.sk-label input.sk-toggleable__control:checked~label.sk-toggleable__label {\n",
       "  color: var(--sklearn-color-text);\n",
       "  background-color: var(--sklearn-color-unfitted-level-2);\n",
       "}\n",
       "\n",
       "#sk-container-id-1 div.sk-label.fitted input.sk-toggleable__control:checked~label.sk-toggleable__label {\n",
       "  background-color: var(--sklearn-color-fitted-level-2);\n",
       "}\n",
       "\n",
       "/* Estimator-specific style */\n",
       "\n",
       "/* Colorize estimator box */\n",
       "#sk-container-id-1 div.sk-estimator input.sk-toggleable__control:checked~label.sk-toggleable__label {\n",
       "  /* unfitted */\n",
       "  background-color: var(--sklearn-color-unfitted-level-2);\n",
       "}\n",
       "\n",
       "#sk-container-id-1 div.sk-estimator.fitted input.sk-toggleable__control:checked~label.sk-toggleable__label {\n",
       "  /* fitted */\n",
       "  background-color: var(--sklearn-color-fitted-level-2);\n",
       "}\n",
       "\n",
       "#sk-container-id-1 div.sk-label label.sk-toggleable__label,\n",
       "#sk-container-id-1 div.sk-label label {\n",
       "  /* The background is the default theme color */\n",
       "  color: var(--sklearn-color-text-on-default-background);\n",
       "}\n",
       "\n",
       "/* On hover, darken the color of the background */\n",
       "#sk-container-id-1 div.sk-label:hover label.sk-toggleable__label {\n",
       "  color: var(--sklearn-color-text);\n",
       "  background-color: var(--sklearn-color-unfitted-level-2);\n",
       "}\n",
       "\n",
       "/* Label box, darken color on hover, fitted */\n",
       "#sk-container-id-1 div.sk-label.fitted:hover label.sk-toggleable__label.fitted {\n",
       "  color: var(--sklearn-color-text);\n",
       "  background-color: var(--sklearn-color-fitted-level-2);\n",
       "}\n",
       "\n",
       "/* Estimator label */\n",
       "\n",
       "#sk-container-id-1 div.sk-label label {\n",
       "  font-family: monospace;\n",
       "  font-weight: bold;\n",
       "  display: inline-block;\n",
       "  line-height: 1.2em;\n",
       "}\n",
       "\n",
       "#sk-container-id-1 div.sk-label-container {\n",
       "  text-align: center;\n",
       "}\n",
       "\n",
       "/* Estimator-specific */\n",
       "#sk-container-id-1 div.sk-estimator {\n",
       "  font-family: monospace;\n",
       "  border: 1px dotted var(--sklearn-color-border-box);\n",
       "  border-radius: 0.25em;\n",
       "  box-sizing: border-box;\n",
       "  margin-bottom: 0.5em;\n",
       "  /* unfitted */\n",
       "  background-color: var(--sklearn-color-unfitted-level-0);\n",
       "}\n",
       "\n",
       "#sk-container-id-1 div.sk-estimator.fitted {\n",
       "  /* fitted */\n",
       "  background-color: var(--sklearn-color-fitted-level-0);\n",
       "}\n",
       "\n",
       "/* on hover */\n",
       "#sk-container-id-1 div.sk-estimator:hover {\n",
       "  /* unfitted */\n",
       "  background-color: var(--sklearn-color-unfitted-level-2);\n",
       "}\n",
       "\n",
       "#sk-container-id-1 div.sk-estimator.fitted:hover {\n",
       "  /* fitted */\n",
       "  background-color: var(--sklearn-color-fitted-level-2);\n",
       "}\n",
       "\n",
       "/* Specification for estimator info (e.g. \"i\" and \"?\") */\n",
       "\n",
       "/* Common style for \"i\" and \"?\" */\n",
       "\n",
       ".sk-estimator-doc-link,\n",
       "a:link.sk-estimator-doc-link,\n",
       "a:visited.sk-estimator-doc-link {\n",
       "  float: right;\n",
       "  font-size: smaller;\n",
       "  line-height: 1em;\n",
       "  font-family: monospace;\n",
       "  background-color: var(--sklearn-color-background);\n",
       "  border-radius: 1em;\n",
       "  height: 1em;\n",
       "  width: 1em;\n",
       "  text-decoration: none !important;\n",
       "  margin-left: 1ex;\n",
       "  /* unfitted */\n",
       "  border: var(--sklearn-color-unfitted-level-1) 1pt solid;\n",
       "  color: var(--sklearn-color-unfitted-level-1);\n",
       "}\n",
       "\n",
       ".sk-estimator-doc-link.fitted,\n",
       "a:link.sk-estimator-doc-link.fitted,\n",
       "a:visited.sk-estimator-doc-link.fitted {\n",
       "  /* fitted */\n",
       "  border: var(--sklearn-color-fitted-level-1) 1pt solid;\n",
       "  color: var(--sklearn-color-fitted-level-1);\n",
       "}\n",
       "\n",
       "/* On hover */\n",
       "div.sk-estimator:hover .sk-estimator-doc-link:hover,\n",
       ".sk-estimator-doc-link:hover,\n",
       "div.sk-label-container:hover .sk-estimator-doc-link:hover,\n",
       ".sk-estimator-doc-link:hover {\n",
       "  /* unfitted */\n",
       "  background-color: var(--sklearn-color-unfitted-level-3);\n",
       "  color: var(--sklearn-color-background);\n",
       "  text-decoration: none;\n",
       "}\n",
       "\n",
       "div.sk-estimator.fitted:hover .sk-estimator-doc-link.fitted:hover,\n",
       ".sk-estimator-doc-link.fitted:hover,\n",
       "div.sk-label-container:hover .sk-estimator-doc-link.fitted:hover,\n",
       ".sk-estimator-doc-link.fitted:hover {\n",
       "  /* fitted */\n",
       "  background-color: var(--sklearn-color-fitted-level-3);\n",
       "  color: var(--sklearn-color-background);\n",
       "  text-decoration: none;\n",
       "}\n",
       "\n",
       "/* Span, style for the box shown on hovering the info icon */\n",
       ".sk-estimator-doc-link span {\n",
       "  display: none;\n",
       "  z-index: 9999;\n",
       "  position: relative;\n",
       "  font-weight: normal;\n",
       "  right: .2ex;\n",
       "  padding: .5ex;\n",
       "  margin: .5ex;\n",
       "  width: min-content;\n",
       "  min-width: 20ex;\n",
       "  max-width: 50ex;\n",
       "  color: var(--sklearn-color-text);\n",
       "  box-shadow: 2pt 2pt 4pt #999;\n",
       "  /* unfitted */\n",
       "  background: var(--sklearn-color-unfitted-level-0);\n",
       "  border: .5pt solid var(--sklearn-color-unfitted-level-3);\n",
       "}\n",
       "\n",
       ".sk-estimator-doc-link.fitted span {\n",
       "  /* fitted */\n",
       "  background: var(--sklearn-color-fitted-level-0);\n",
       "  border: var(--sklearn-color-fitted-level-3);\n",
       "}\n",
       "\n",
       ".sk-estimator-doc-link:hover span {\n",
       "  display: block;\n",
       "}\n",
       "\n",
       "/* \"?\"-specific style due to the `<a>` HTML tag */\n",
       "\n",
       "#sk-container-id-1 a.estimator_doc_link {\n",
       "  float: right;\n",
       "  font-size: 1rem;\n",
       "  line-height: 1em;\n",
       "  font-family: monospace;\n",
       "  background-color: var(--sklearn-color-background);\n",
       "  border-radius: 1rem;\n",
       "  height: 1rem;\n",
       "  width: 1rem;\n",
       "  text-decoration: none;\n",
       "  /* unfitted */\n",
       "  color: var(--sklearn-color-unfitted-level-1);\n",
       "  border: var(--sklearn-color-unfitted-level-1) 1pt solid;\n",
       "}\n",
       "\n",
       "#sk-container-id-1 a.estimator_doc_link.fitted {\n",
       "  /* fitted */\n",
       "  border: var(--sklearn-color-fitted-level-1) 1pt solid;\n",
       "  color: var(--sklearn-color-fitted-level-1);\n",
       "}\n",
       "\n",
       "/* On hover */\n",
       "#sk-container-id-1 a.estimator_doc_link:hover {\n",
       "  /* unfitted */\n",
       "  background-color: var(--sklearn-color-unfitted-level-3);\n",
       "  color: var(--sklearn-color-background);\n",
       "  text-decoration: none;\n",
       "}\n",
       "\n",
       "#sk-container-id-1 a.estimator_doc_link.fitted:hover {\n",
       "  /* fitted */\n",
       "  background-color: var(--sklearn-color-fitted-level-3);\n",
       "}\n",
       "</style><div id=\"sk-container-id-1\" class=\"sk-top-container\"><div class=\"sk-text-repr-fallback\"><pre>GridSearchCV(cv=5,\n",
       "             estimator=Pipeline(steps=[(&#x27;tfidf&#x27;, TfidfTransformer()),\n",
       "                                       (&#x27;scaler&#x27;,\n",
       "                                        StandardScaler(with_mean=False)),\n",
       "                                       (&#x27;logreg&#x27;,\n",
       "                                        LogisticRegression(max_iter=1000))]),\n",
       "             param_grid={&#x27;logreg__C&#x27;: [0.001, 0.01, 0.1, 1, 10, 100],\n",
       "                         &#x27;logreg__penalty&#x27;: [&#x27;l1&#x27;, &#x27;l2&#x27;, &#x27;elasticnet&#x27;]})</pre><b>In a Jupyter environment, please rerun this cell to show the HTML representation or trust the notebook. <br />On GitHub, the HTML representation is unable to render, please try loading this page with nbviewer.org.</b></div><div class=\"sk-container\" hidden><div class=\"sk-item sk-dashed-wrapped\"><div class=\"sk-label-container\"><div class=\"sk-label fitted sk-toggleable\"><input class=\"sk-toggleable__control sk-hidden--visually\" id=\"sk-estimator-id-1\" type=\"checkbox\" ><label for=\"sk-estimator-id-1\" class=\"sk-toggleable__label fitted sk-toggleable__label-arrow fitted\">&nbsp;&nbsp;GridSearchCV<a class=\"sk-estimator-doc-link fitted\" rel=\"noreferrer\" target=\"_blank\" href=\"https://scikit-learn.org/1.4/modules/generated/sklearn.model_selection.GridSearchCV.html\">?<span>Documentation for GridSearchCV</span></a><span class=\"sk-estimator-doc-link fitted\">i<span>Fitted</span></span></label><div class=\"sk-toggleable__content fitted\"><pre>GridSearchCV(cv=5,\n",
       "             estimator=Pipeline(steps=[(&#x27;tfidf&#x27;, TfidfTransformer()),\n",
       "                                       (&#x27;scaler&#x27;,\n",
       "                                        StandardScaler(with_mean=False)),\n",
       "                                       (&#x27;logreg&#x27;,\n",
       "                                        LogisticRegression(max_iter=1000))]),\n",
       "             param_grid={&#x27;logreg__C&#x27;: [0.001, 0.01, 0.1, 1, 10, 100],\n",
       "                         &#x27;logreg__penalty&#x27;: [&#x27;l1&#x27;, &#x27;l2&#x27;, &#x27;elasticnet&#x27;]})</pre></div> </div></div><div class=\"sk-parallel\"><div class=\"sk-parallel-item\"><div class=\"sk-item\"><div class=\"sk-label-container\"><div class=\"sk-label fitted sk-toggleable\"><input class=\"sk-toggleable__control sk-hidden--visually\" id=\"sk-estimator-id-2\" type=\"checkbox\" ><label for=\"sk-estimator-id-2\" class=\"sk-toggleable__label fitted sk-toggleable__label-arrow fitted\">estimator: Pipeline</label><div class=\"sk-toggleable__content fitted\"><pre>Pipeline(steps=[(&#x27;tfidf&#x27;, TfidfTransformer()),\n",
       "                (&#x27;scaler&#x27;, StandardScaler(with_mean=False)),\n",
       "                (&#x27;logreg&#x27;, LogisticRegression(max_iter=1000))])</pre></div> </div></div><div class=\"sk-serial\"><div class=\"sk-item\"><div class=\"sk-serial\"><div class=\"sk-item\"><div class=\"sk-estimator fitted sk-toggleable\"><input class=\"sk-toggleable__control sk-hidden--visually\" id=\"sk-estimator-id-3\" type=\"checkbox\" ><label for=\"sk-estimator-id-3\" class=\"sk-toggleable__label fitted sk-toggleable__label-arrow fitted\">&nbsp;TfidfTransformer<a class=\"sk-estimator-doc-link fitted\" rel=\"noreferrer\" target=\"_blank\" href=\"https://scikit-learn.org/1.4/modules/generated/sklearn.feature_extraction.text.TfidfTransformer.html\">?<span>Documentation for TfidfTransformer</span></a></label><div class=\"sk-toggleable__content fitted\"><pre>TfidfTransformer()</pre></div> </div></div><div class=\"sk-item\"><div class=\"sk-estimator fitted sk-toggleable\"><input class=\"sk-toggleable__control sk-hidden--visually\" id=\"sk-estimator-id-4\" type=\"checkbox\" ><label for=\"sk-estimator-id-4\" class=\"sk-toggleable__label fitted sk-toggleable__label-arrow fitted\">&nbsp;StandardScaler<a class=\"sk-estimator-doc-link fitted\" rel=\"noreferrer\" target=\"_blank\" href=\"https://scikit-learn.org/1.4/modules/generated/sklearn.preprocessing.StandardScaler.html\">?<span>Documentation for StandardScaler</span></a></label><div class=\"sk-toggleable__content fitted\"><pre>StandardScaler(with_mean=False)</pre></div> </div></div><div class=\"sk-item\"><div class=\"sk-estimator fitted sk-toggleable\"><input class=\"sk-toggleable__control sk-hidden--visually\" id=\"sk-estimator-id-5\" type=\"checkbox\" ><label for=\"sk-estimator-id-5\" class=\"sk-toggleable__label fitted sk-toggleable__label-arrow fitted\">&nbsp;LogisticRegression<a class=\"sk-estimator-doc-link fitted\" rel=\"noreferrer\" target=\"_blank\" href=\"https://scikit-learn.org/1.4/modules/generated/sklearn.linear_model.LogisticRegression.html\">?<span>Documentation for LogisticRegression</span></a></label><div class=\"sk-toggleable__content fitted\"><pre>LogisticRegression(max_iter=1000)</pre></div> </div></div></div></div></div></div></div></div></div></div></div>"
      ],
      "text/plain": [
       "GridSearchCV(cv=5,\n",
       "             estimator=Pipeline(steps=[('tfidf', TfidfTransformer()),\n",
       "                                       ('scaler',\n",
       "                                        StandardScaler(with_mean=False)),\n",
       "                                       ('logreg',\n",
       "                                        LogisticRegression(max_iter=1000))]),\n",
       "             param_grid={'logreg__C': [0.001, 0.01, 0.1, 1, 10, 100],\n",
       "                         'logreg__penalty': ['l1', 'l2', 'elasticnet']})"
      ]
     },
     "execution_count": 41,
     "metadata": {},
     "output_type": "execute_result"
    }
   ],
   "source": [
    "# Instantiation and fitting of GridSearchCV with pipeline incorporated\n",
    "# Pipeline() class is designed in such a way where proper cross validation is done - no information leakage occurs from... \n",
    "# the validation fold into the training fold.\n",
    "# most of the warning/error messages that show up have to do with solver-regularization compatibility - nothing to...\n",
    "# worry about\n",
    "grid = GridSearchCV(pipe, param_grid=param_grid, cv=5)\n",
    "grid.fit(X_train, y_train)"
   ]
  },
  {
   "cell_type": "markdown",
   "id": "21e74d4b",
   "metadata": {},
   "source": [
    "We can call the best_score_ and best_estimator_ attributes from our grid search object to see how well the logistic regression performed on the training set amd which hyperparameters were most optimal."
   ]
  },
  {
   "cell_type": "code",
   "execution_count": 42,
   "id": "aaaae051",
   "metadata": {},
   "outputs": [
    {
     "name": "stdout",
     "output_type": "stream",
     "text": [
      "Best cross-validation accuracy: 0.9203\n",
      "Best parameters: {'logreg__C': 0.001, 'logreg__penalty': 'l2'}\n"
     ]
    }
   ],
   "source": [
    "print(\"Best cross-validation accuracy: {:.4f}\".format(grid.best_score_))\n",
    "print(\"Best parameters: {}\".format(grid.best_params_))"
   ]
  },
  {
   "cell_type": "markdown",
   "id": "7c4a7cc1",
   "metadata": {},
   "source": [
    "The logistic regression model performed really well (accuracy wise) on the training set, and it seems like it needed quite a lot of regularization (really low C) to produce that 92.03% accuracy. Let's see how this specific logistic regression instance performs on the test set."
   ]
  },
  {
   "cell_type": "code",
   "execution_count": 43,
   "id": "c9a5281b",
   "metadata": {},
   "outputs": [
    {
     "name": "stdout",
     "output_type": "stream",
     "text": [
      "Test set score: 0.9148\n"
     ]
    }
   ],
   "source": [
    "print(\"Test set score: {:.4f}\".format(grid.score(X_test, y_test)))"
   ]
  },
  {
   "cell_type": "markdown",
   "id": "e357cb99",
   "metadata": {},
   "source": [
    "We get a really good test set accuracy as well, and the model seems to be generalizing well too seeing as the test set accuracy is not far off from the training set accuracy."
   ]
  },
  {
   "cell_type": "markdown",
   "id": "4e9e1ee0",
   "metadata": {},
   "source": [
    "#### 4.4.2. Model Evaluation Part 1 - Confusion matrix and classification report\n",
    "\n",
    "Accuracy alone (understood as the number of correctly classified instances divided by the total number of instances, or (TP + TN) / (TP + TN + FP + FN) (TP, TN, FP and FN are defined later)) isn't the best way to evaluate the performance of a classification model because it \"hides the detail you need to better understand the performance of your classification model\" (Analytics Vidhya, 2020).\n",
    "\n",
    "A great way to better understand the performance of our logistic regression model is by using a confusion matrix, which is “a table that is often used in ML to describe the accuracy of a classification model” (Verma and Rubin, 2018). From this confusion matrix, predictions made by a classifier (which can either be positive or negative, often represented numerically as 1 and 0 respectively for a binary classifier) are deemed as either a true positive (TP), a false positive (FP), a true negative (TN) or a false negative (FN). A true positive is a case where a predicted outcome is predicted as positive and is actually positive (Verma and Rubin, 2018). A false positive is a case where a predicted outcome is predicted to be positive and is actually negative (Verma and Rubin, 2018), also known as a Type 1 error (Analytics Vidhya, 2020). A true negative is a case where a predicted outcome is predicted to be negative and is actually negative (Verma and Rubin, 2018). Lastly, a false negative is a case where a predicted outcome is predicted to be negative and is actually positive (Verma and Rubin, 2018), also known as a Type 2 error (Analytics Vidhya, 2020).\n",
    "\n",
    "A confusion matrix is easily created in Python using the confusion_matrix() method from Scikit-learn's metrics module. It can then be plotted using Seaborn's heatmap() method:"
   ]
  },
  {
   "cell_type": "code",
   "execution_count": 44,
   "id": "8cd2a0c8",
   "metadata": {},
   "outputs": [
    {
     "data": {
      "text/plain": [
       "Text(0.5, 1.0, 'Confusion Matrix')"
      ]
     },
     "execution_count": 44,
     "metadata": {},
     "output_type": "execute_result"
    },
    {
     "data": {
      "image/png": "[encoded data removed]",
      "text/plain": [
       "<Figure size 500x300 with 1 Axes>"
      ]
     },
     "metadata": {},
     "output_type": "display_data"
    }
   ],
   "source": [
    "# Confusion matrix\n",
    "y_pred = grid.predict(X_test) # grid search object has a predict method like a normal classifier object would\n",
    "cm = confusion_matrix(y_test, y_pred, labels=[1, 0])\n",
    "\n",
    "# plot confusion matrix with seaborn\n",
    "# Plot confusion matrix\n",
    "plt.rcParams['figure.figsize'] = (5, 3)\n",
    "sns.heatmap(cm, annot=True, fmt=\"d\", cmap=\"Blues\", cbar=False, linecolor='black', linewidth=0.2, \n",
    "           xticklabels=[1, 0], yticklabels=[1, 0])\n",
    "plt.xlabel(\"Predicted labels\")\n",
    "plt.ylabel(\"Actual labels\")\n",
    "plt.title(\"Confusion Matrix\")"
   ]
  },
  {
   "cell_type": "markdown",
   "id": "00104603",
   "metadata": {},
   "source": [
    "From this confusion matrix, we gather that our logistic regression model produced the following classification results on the testing set with regards to predicting hotel review sentiment:\n",
    "\n",
    "- 1564 true positives (TP - upper left), which means that it predicted 1564 hotel reviews to be positive that actually were positive.\n",
    "- 185 false negatives (FN - upper right), which means that it predicted 185 hotel reviews to be negative that actually were positive.\n",
    "- 113 false postives (FP - lower left), which means that it predicted 113 hotel reviews to be positive that actually were negative.\n",
    "- 1637 true negatives (TN - lower right), which means that it predicted 1637 hotel reviews to be negative that actually were negative.\n",
    "\n",
    "The model produces very low type 1 and 2 errors (FPs and FNs respectively) in proportion to its TPs and TNs. To better understand this model's performance regarding our goal (investigating how well a logistic regression model can predict positive and negative hotel reviews), there are specific ratio-based metrics we can look into derived from the confusion matrix that will help us better understand how the elements of the confusion matrix interact together to help us understand the predictive performance of our model:\n",
    "\n",
    "- Precision: measures the \"proportion of true positive predictions among all positive predictions made by the model\" (Medium, 2024), calculated as (TP / (TP + FP)), where a perfect precision score is 1.\n",
    "- Recall (Sensitivity): measures the \"the proportion of true positive predictions among all actual positive instances\" (Medium, 2024), calculated as (TP / (TP + FN)), where a perfect recall score is 1.\n",
    "- F1-score: measures the \"harmonic mean of precision and recall\" (Medium, 2024), and \"provides a single metric that combines both precision and recall, balancing the trade-off between the two\" (Medium, 2024), and is especially useful for imbalanced data sets where precision and recall results may be skewed (Medium, 2024). It is calculated as ((2 * Precision * Recall) / (Precision + Recall)), where a perfect f1-score is 1.\n",
    "- Negative predictive value: measures the proportion of true negative predictions among all negative predictions made by the model\" (Verma and Rubin, 2018), calculated as (TN / (TN + FN)), where a perfect negative predictive value score is 1.\n",
    "- Specificity: measures the proportion of true negative predictions among all actual negative instances, calculated as (TN / (TN + FP)), with a perfect specificity score being 1 (Towards Data Science, 2019).\n",
    "\n",
    "These metrics are summarized for us very nicely using the classicifcation_report() method from Scikit-learn's metrics module:"
   ]
  },
  {
   "cell_type": "code",
   "execution_count": 45,
   "id": "b2a89874",
   "metadata": {},
   "outputs": [
    {
     "name": "stdout",
     "output_type": "stream",
     "text": [
      "              precision    recall  f1-score   support\n",
      "\n",
      "           0       0.90      0.94      0.92      1750\n",
      "           1       0.93      0.89      0.91      1749\n",
      "\n",
      "    accuracy                           0.91      3499\n",
      "   macro avg       0.92      0.91      0.91      3499\n",
      "weighted avg       0.92      0.91      0.91      3499\n",
      "\n"
     ]
    }
   ],
   "source": [
    "# Classification report\n",
    "print(classification_report(y_test, y_pred))"
   ]
  },
  {
   "cell_type": "markdown",
   "id": "7300431b",
   "metadata": {},
   "source": [
    "It is important to note that the classification_report() method calculates precision, recall and the f1-score for both classes as if they were the positive class then averages those values out (per class) using two average metrics (macro and weighted average). Therefore, Class 0's precision and recall are Class 1's negative predictive value and specificity respectively in this case, since we are treating Class 1 as the positive class. Class 0's f1-score can be treated as a harmonic mean between negative predictive value and specificity for Class 1. The metrics are interpreted as follows:\n",
    "\n",
    "Predictive performance of positive hotel reviews:\n",
    "- Precision: an approximate precision score of 0.93 for Class 1 tells us that out of all the times the logistic regression model predicted that a hotel review was positive, it made the correct prediction approximately 93% of the time.\n",
    "- Recall: an approximate recall score of 0.89 for Class 1 tells us that out of all the positive instances in the testing set (that is, out of all the positive hotel reviews), the logistic regression model managed to capture approximately 89% of those positive instances (TP + FN).\n",
    "- F1-score: an approximate f1-score of 0.91 for Class 1 gives us a very impressive harmonic mean of this model's predictive power regarding the prediction of Class 1, taking into account the weaknesses of both precision and recall. This model is very effective at predicting hotel reviews with positive sentiment.\n",
    "<br>\n",
    "\n",
    "Predictive performance of negative hotel reviews:\n",
    "- Negative predictive value: an approximate negative predictive value score of 0.90 for Class 1 (Class 0's precision) tells us that out of all the times the logistic regression model predicted that a hotel review was negative, it made the correct prediction approximately 90% of the time.\n",
    "- Specificity: an approximate specificity score of 0.94 for Class 1 (Class 0's recall) tells us that out of all the negative instances in the testing set (that is, out of all the negative hotel reviews), the logistic regression model managed to capture approximately 94% of those negative instances (TN + FP).\n",
    "- \"Negative class\" F1-score: an approximate \"negative class\" f1-score of 0.92 (Class 0's F1-score) gives us a very impressive harmonic mean of this model's predictive power regarding the prediction of Class 0, taking into account the weaknesses of both negative predictive value and specificity. This model is very effective at predicting hotel reviews with negative sentiment.\n",
    "\n",
    "Comparisons: \n",
    "- The model has a slightly higher precision (0.93) than it does a negative predictive value score (0.90). The model is slightly better at making positive predictions than it is at making negative predictions.\n",
    "- The model has a slightly higher specificity (0.94) than it does recall (0.89). The model managed to capture a slightly higher percentage of negative instances in the test set compared to the amount of positive instances it managed to capture.\n",
    "- The model has a slightly higher \"negative class\" (Class 0) f1-score than it does (Class 1) f1-score. Overall, the model's predictive power leans slightly more towards the negative class in context with this data set (Class 0)."
   ]
  },
  {
   "cell_type": "markdown",
   "id": "cc0d188a",
   "metadata": {},
   "source": [
    "#### 4.4.3. Model Evaluation Part 2 - ROC and AUC\n",
    "\n",
    "ROC curves, put simply, are graphs that summarize the trade-off between the true positive rate and the false positive rate of a classification model using varying probability thresholds (Machine Learning Mastery, 2023), where true positive rate (TPR), false positive rate (FPR) and the probability threshold are defined as follows:\n",
    "\n",
    "- True positive rate (TPR): measures the \"the proportion of true positive predictions among all actual positive instances\" (Medium, 2024), calculated as (TP / (TP + FN)), where a perfect true positive rate score is 1. True positive rate is also known as recall or sensitivity. TPR tells us how good our model is at capturing positive instances.\n",
    "- False positive rate (FPR): also known as inverted specificity (1 - specificity) or the false alarm rate, measures the proportion of false positive predictions among all actual negative instances, calculated as (FP / (FP + TN)) (Machine Learning Mastery, 2023). FPR tells us how often our model misclassifies negative instances.\n",
    "- Probability threshold: this is a probability threshold that dictates how classes are defined. For example, if our probability threshold is 0.5, then any probabilistic prediction less than 0.5 would be our negative class and any probabilistic prediction more than or equal to 0.5 would be our positive class (Machine Learning Mastery, 2023).\n",
    "\n",
    "From the ROC curve, we can select the most optimal probability threshold for our predictive model that maximizes the TPR (recall) and minimizes the FPR (therefore also maximizing specificity). However, this assumes that the ROC curve has perfect curvature. In most cases, the curve is not perfectly curved and the aim is picking a threshold that either maximizes TPR (recall) or minimizes FPR (maximizes specificity) depending on one's objective. As much as we can optimize the discriminative capability of a classification model by plotting an ROC curve (TPR vs FPR), we can also quantify how skillful our model is at discriminating between the positive and negative class using the AUC, which is a calculation of the two dimensional area underneath the plotted ROC curve. The AUC ranges from 0.5 (which would represent a non-skillful classifier that assigns completely random predictions at each probability threshold) to 1 (which would represent a skillful classifier that has perfect discriminative ability) (Machine Learning Mastery, 2023).\n",
    "\n",
    "We can create our ROC curve points we will use to plot our graph using the roc_curve() method imported from Scikit-learn's metrics module. As inputs, the method takes in our target variable from our test set (y_test) and its respective predicted probabilities. We start off by creating the predicted probabilities for our logistic regression model using the predict_proba() method, as well as those of a simulated random classifier."
   ]
  },
  {
   "cell_type": "code",
   "execution_count": 46,
   "id": "b6737779",
   "metadata": {},
   "outputs": [],
   "source": [
    "# simulating probabilities that a random classifier would produce and producing probabilities using X_test for...\n",
    "# logistic regression model using predict_proba() method\n",
    "r_probs = [0 for _ in range(len(y_test))] # an absolutely random classifier would very likely get all predictions wrong\n",
    "logreg_probs = grid.predict_proba(X_test) # grid search object has a predict_proba method "
   ]
  },
  {
   "cell_type": "markdown",
   "id": "ab810c8f",
   "metadata": {},
   "source": [
    "We then subset the probabilities of Class 1, the positive class."
   ]
  },
  {
   "cell_type": "code",
   "execution_count": 47,
   "id": "2fd5f6ab",
   "metadata": {},
   "outputs": [],
   "source": [
    "# Keeping Class 1 probabilities\n",
    "logreg_probs = logreg_probs[:, 1]"
   ]
  },
  {
   "cell_type": "markdown",
   "id": "432cfa80",
   "metadata": {},
   "source": [
    "Before we plot our ROC curves of the logistic regression model and the simulated random classifier (as a reference), we now have enough information to calculate our AUC scores for the models using the roc_auc_score() method from Scikit-learn's metrics module."
   ]
  },
  {
   "cell_type": "code",
   "execution_count": 48,
   "id": "4bebf9ab",
   "metadata": {},
   "outputs": [
    {
     "name": "stdout",
     "output_type": "stream",
     "text": [
      "AUC scores for classifiers:\n",
      "Simulated Random Classifier: 0.5000\n",
      "Gaussian Naive Bayes: 0.9727\n"
     ]
    }
   ],
   "source": [
    "# AUC scores for classifiers (including simulated random = 0.5 [baseline])\n",
    "r_auc = roc_auc_score(y_test, r_probs)\n",
    "logreg_auc = roc_auc_score(y_test, logreg_probs)\n",
    "\n",
    "print(\"AUC scores for classifiers:\\nSimulated Random Classifier: {:.4f}\\nGaussian Naive Bayes: {:.4f}\".format(\n",
    "    r_auc, logreg_auc))"
   ]
  },
  {
   "cell_type": "markdown",
   "id": "cf71de00",
   "metadata": {},
   "source": [
    "The AUC scores will be used for the graph's legend but just from these scores, we can see just how skillful our logistic regression model is compared to the random classifier. We see the simulated random classifier gets an AUC score of 0.5, of which it should. The logistic regression model gets a much higher AUC of approximately 0.97, which tells us that the logistic regression model is extremely skillful at discriminating between the positive class and the negative class.\n",
    "\n",
    "Let's now calculate the TPR and FPR values for our models (that we will need to plot the graph) using the roc_curve() method.\n"
   ]
  },
  {
   "cell_type": "code",
   "execution_count": 49,
   "id": "a69b57e8",
   "metadata": {},
   "outputs": [],
   "source": [
    "# Calculating ROC curve points\n",
    "# Thresholds for tweaking tpr/fpr rate accordingly\n",
    "r_fpr, r_tpr, thresholds = roc_curve(y_test, r_probs)\n",
    "logreg_fpr, logreg_tpr, thresholds = roc_curve(y_test, logreg_probs)"
   ]
  },
  {
   "cell_type": "markdown",
   "id": "cab6a0f1",
   "metadata": {},
   "source": [
    "We can now plot our ROC curves to visualize the AUC results using Matplotlib's pyplot module."
   ]
  },
  {
   "cell_type": "code",
   "execution_count": 50,
   "id": "9b23900c",
   "metadata": {},
   "outputs": [
    {
     "data": {
      "text/plain": [
       "<matplotlib.legend.Legend at 0x17eef9a0f90>"
      ]
     },
     "execution_count": 50,
     "metadata": {},
     "output_type": "execute_result"
    },
    {
     "data": {
      "image/png": "[encoded data removed]",
      "text/plain": [
       "<Figure size 1000x600 with 1 Axes>"
      ]
     },
     "metadata": {},
     "output_type": "display_data"
    }
   ],
   "source": [
    "# Plotting ROC curve\n",
    "plt.rcParams['figure.figsize'] = (10, 6)\n",
    "plt.plot(r_fpr, r_tpr, linestyle='--', label='Simulated Random Classifier (AUC={:.2f})'.format(r_auc))\n",
    "plt.plot(logreg_fpr, logreg_tpr, linestyle='dotted', label='Logistic Regression (AUC={:.4f})'.format(logreg_auc))\n",
    "\n",
    "plt.title('ROC Curve')\n",
    "plt.xlabel('False Positive Rate')\n",
    "plt.ylabel('True Positive Rate')\n",
    "plt.legend(loc='lower right')"
   ]
  },
  {
   "cell_type": "markdown",
   "id": "343a180b",
   "metadata": {},
   "source": [
    "## 5. Conclusion\n",
    "\n",
    "Objectives of the analysis were successfully completed:\n",
    "- A thorough data cleaning, exploratory data analysis, and text data preprocessing was conducted before using the data to train our model.\n",
    "- A functional pipeline was built that cut down some of the analysis steps and aided in convenience.\n",
    "- A logistic regression algorithm that can predict positive and negative hotel review sentiment with high predictive potency was successfully embedded in the pipeline.\n",
    "- Model improvement/optimization techniques were successfully integrated with the pipeline during the model development stage.\n",
    "- The necessary model evaluation classification metrics were calculated, interpreted and understood."
   ]
  },
  {
   "cell_type": "markdown",
   "id": "80d78501",
   "metadata": {},
   "source": [
    "## 6. References\n",
    "\n",
    "1. Analytics Vidhya. 2020. Accuracy and its shortcomings: Precision, Recall to the rescue, 1 December 2020. [Online]. Available at: https://www.analyticsvidhya.com/blog/2020/12/accuracy-and-its-shortcomings-precision-recall-to-the-rescue/\n",
    "\n",
    "2. Career Foundry. 2023. What Is Data Cleaning and Why Does It Matter?, 14 September 2023. [Online]. Available at: https://careerfoundry.com/en/blog/data-analytics/what-is-data-cleaning/\n",
    "\n",
    "3. Datafiniti. 2024. About, 2024. [Online]. Available at: https://www.datafiniti.co/about\n",
    "\n",
    "4. Machine Learning Mastery. 2023. How to Use ROC Curves and Precision-Recall Curves for Classification in Python, 11 October 2023. [Online]. Available at: https://machinelearningmastery.com/roc-curves-and-precision-recall-curves-for-classification-in-python/\n",
    "\n",
    "5. Medium. 2023. Introduction to Balanced and Imbalanced Datasets in Machine Learning, 9 August 2023. [Online]. Available at: https://medium.com/cord-tech/introduction-to-balanced-and-imbalanced-datasets-in-machine-learning-be60c6eeb8be\n",
    "\n",
    "6. Medium. 2024. Understanding Precision, Recall, F1-score, and Support in Machine Learning Evaluation, 15 February 2024. [Online]. Available at: https://medium.com/@nirajan.acharya666/understanding-precision-recall-f1-score-and-support-in-machine-learning-evaluation-7ec935e8512e\n",
    "\n",
    "7. MonkeyLearn. 2019. Text Processing: What Is It?, 15 November 2019. [Online]. Available at: https://monkeylearn.com/blog/text-processing/\n",
    "\n",
    "8. Muller, A. C. and Guido, S. 2016. Introduction to Machine Learning with Python. California: O'Reilly Media.\n",
    "\n",
    "9. Python Tutorials. 2024. NLTK stop words, 2024. [Online]. Available at: https://pythonspot.com/nltk-stop-words/\n",
    "\n",
    "10. Spot Intelligence. 2023. How To Implement Logistic Regression Text Classification In Python With Scikit-learn and PyTorch, 22 February 2023. [Online]. Available at: https://spotintelligence.com/2023/02/22/logistic-regression-text-classification-python/\n",
    "\n",
    "11. Towards Data Science. 2019. Precision & Recall or Specificity & Sensitivity?, 5 August 2019. [Online]. Available at: https://towardsdatascience.com/\n",
    "\n",
    "12. Verma, S., & Rubin, J. 2018. Fairness definitions explained. Proceedings - International Conference on Software Engineering: 1-7."
   ]
  }
 ],
 "metadata": {
  "kernelspec": {
   "display_name": "Python 3 (ipykernel)",
   "language": "python",
   "name": "python3"
  },
  "language_info": {
   "codemirror_mode": {
    "name": "ipython",
    "version": 3
   },
   "file_extension": ".py",
   "mimetype": "text/x-python",
   "name": "python",
   "nbconvert_exporter": "python",
   "pygments_lexer": "ipython3",
   "version": "3.11.5"
  }
 },
 "nbformat": 4,
 "nbformat_minor": 5
}
